{
 "cells": [
  {
   "cell_type": "code",
   "execution_count": 2,
   "metadata": {},
   "outputs": [
    {
     "name": "stdout",
     "output_type": "stream",
     "text": [
      "(1, 2, 3, 4)\n",
      "[1, 2, 3, 4]\n",
      "[1, 2, 3, 4]\n",
      "(1, 2, 3, 4)\n"
     ]
    }
   ],
   "source": [
    "# Conversión de tipos\n",
    "\"\"\"Solo es convertir las tuplas en listas y viceversa para modificar dicha variabla o que sea inmutable según el caso\n",
    "que se requiera realizar en el programa.\n",
    "\n",
    "Para convertir una lista a una tupla se usa tuple(lista a convertir)\n",
    "\n",
    "Para convertir una tupla a una lista se usa list(tupla a convertir)\"\"\"\n",
    "\n",
    "tupla = (1, 2, 3, 4)\n",
    "print(tupla)\n",
    "# (1, 2, 3, 4)\n",
    "print(list(tupla))\n",
    "# [1, 2, 3, 4]\n",
    "lista = [1, 2, 3, 4]\n",
    "print(lista)\n",
    "# [1, 2, 3, 4]\n",
    "print(tuple(lista))\n",
    "# (1, 2, 3, 4)"
   ]
  },
  {
   "cell_type": "code",
   "execution_count": 3,
   "metadata": {},
   "outputs": [
    {
     "name": "stdout",
     "output_type": "stream",
     "text": [
      "[1, 2, 3, 4, 3, 4, 5, 6, 7, 8]\n",
      "(1, 2, 3, 4, 5, 4, 6, 8, 10, 3, 5, 7, 9)\n"
     ]
    }
   ],
   "source": [
    "# Concatenación simple de colecciones\n",
    "# A diferencia de otros lenguajes, en Python es muy simple unir varias colecciones de un\n",
    "# mismo tipo. Simplemente, se requiere utilizar el operador suma (+) para lograrlo:\n",
    "lista1 = [1, 2, 3, 4]\n",
    "lista2 = [3, 4, 5, 6, 7, 8]\n",
    "lista3 = lista1 + lista2\n",
    "print(lista3)\n",
    "# [1, 2, 3, 4, 3, 4, 5, 6, 7, 8]\n",
    "tupla1 = (1, 2, 3, 4, 5)\n",
    "tupla2 = (4, 6, 8, 10)\n",
    "tupla3 = (3, 5, 7, 9)\n",
    "tupla4 = tupla1 + tupla2 + tupla3\n",
    "print(tupla4)\n",
    "# (1, 2, 3, 4, 5, 4, 6, 8, 10, 3, 5, 7, 9)"
   ]
  }
 ],
 "metadata": {
  "kernelspec": {
   "display_name": "Python 3.10.4 64-bit",
   "language": "python",
   "name": "python3"
  },
  "language_info": {
   "codemirror_mode": {
    "name": "ipython",
    "version": 3
   },
   "file_extension": ".py",
   "mimetype": "text/x-python",
   "name": "python",
   "nbconvert_exporter": "python",
   "pygments_lexer": "ipython3",
   "version": "3.10.4"
  },
  "orig_nbformat": 4,
  "vscode": {
   "interpreter": {
    "hash": "fb4569285eef3a3450cb62085a5b1e0da4bce0af555edc33dcf29baf3acc1368"
   }
  }
 },
 "nbformat": 4,
 "nbformat_minor": 2
}
