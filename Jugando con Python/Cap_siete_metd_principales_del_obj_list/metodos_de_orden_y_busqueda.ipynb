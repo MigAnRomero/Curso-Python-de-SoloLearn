{
 "cells": [
  {
   "cell_type": "code",
   "execution_count": 1,
   "metadata": {},
   "outputs": [
    {
     "name": "stdout",
     "output_type": "stream",
     "text": [
      "['Serina', 'Iso-Didact', 'The Gravemind', 'Ur-Didact', 'Faber', 'Cortana', 'Jerome', 'Jhon']\n"
     ]
    }
   ],
   "source": [
    "# Métodos de orden\n",
    "\n",
    "# Ordenar una lista en reversa (invertir orden)\n",
    "# Método: reverse()\n",
    "\n",
    "pj_de_halo = ['Jhon', 'Jerome', 'Cortana', 'Faber', 'Ur-Didact', 'The Gravemind', 'Iso-Didact', 'Serina']\n",
    "pj_de_halo.reverse()\n",
    "print(pj_de_halo)"
   ]
  },
  {
   "cell_type": "code",
   "execution_count": 2,
   "metadata": {},
   "outputs": [
    {
     "name": "stdout",
     "output_type": "stream",
     "text": [
      "['Cortana', 'Faber', 'Iso-Didact', 'Jerome', 'Jhon', 'Serina', 'The Gravemind', 'Ur-Didact']\n"
     ]
    }
   ],
   "source": [
    "# Ordenar una lista en forma ascendente\n",
    "# Método: sort()\n",
    "\n",
    "pj_de_halo.sort()\n",
    "print(pj_de_halo)"
   ]
  },
  {
   "cell_type": "code",
   "execution_count": 3,
   "metadata": {},
   "outputs": [
    {
     "name": "stdout",
     "output_type": "stream",
     "text": [
      "['Ur-Didact', 'The Gravemind', 'Serina', 'Jhon', 'Jerome', 'Iso-Didact', 'Faber', 'Cortana']\n"
     ]
    }
   ],
   "source": [
    "# Ordenar una lista en forma descendente\n",
    "# Método: sort(reverse=True)\n",
    "\n",
    "pj_de_halo.sort(reverse=True)\n",
    "print(pj_de_halo)"
   ]
  },
  {
   "cell_type": "code",
   "execution_count": 5,
   "metadata": {},
   "outputs": [
    {
     "name": "stdout",
     "output_type": "stream",
     "text": [
      "Resultados por buscar Iso-Didact: 1\n",
      "Resultados por buscar Didact: 0\n"
     ]
    }
   ],
   "source": [
    "# Métodos de búsqueda\n",
    "\n",
    "# Contar cantidad de apariciones elementos\n",
    "# Método: count(elemento)\n",
    "\n",
    "busqueda_uno = pj_de_halo.count(\"Iso-Didact\")\n",
    "busqueda_dos = pj_de_halo.count(\"Didact\")\n",
    "print(f\"Resultados por buscar Iso-Didact: {busqueda_uno}\\nResultados por buscar Didact: {busqueda_dos}\")\n"
   ]
  },
  {
   "cell_type": "code",
   "execution_count": 7,
   "metadata": {},
   "outputs": [
    {
     "name": "stdout",
     "output_type": "stream",
     "text": [
      "Mostrar los índices del elemento seleccionado\n",
      "index_one: 2\n",
      "index_two: 4\n",
      "index_three: 2\n",
      "\n",
      "Mostrar los elementos con sus índices de la lista\n",
      "Lista: ['Serina', 'Iso-Didact', 'The Gravemind', 'Ur-Didact', 'Faber', 'Cortana', 'Jerome', 'Jhon']\n",
      "El índice del elemento 'Serina' es 0\n",
      "El índice del elemento 'Iso-Didact' es 1\n",
      "El índice del elemento 'The Gravemind' es 2\n",
      "El índice del elemento 'Ur-Didact' es 3\n",
      "El índice del elemento 'Faber' es 4\n",
      "El índice del elemento 'Cortana' es 5\n",
      "El índice del elemento 'Jerome' es 6\n",
      "El índice del elemento 'Jhon' es 7\n"
     ]
    }
   ],
   "source": [
    "# Obtener número de índice\n",
    "# Método: index(elemento[, indice_inicio, indice_fin])\n",
    "\n",
    "index_one = pj_de_halo.index(\"The Gravemind\")\n",
    "index_two = pj_de_halo.index(\"Faber\")\n",
    "index_three = pj_de_halo.index(\"The Gravemind\")\n",
    "print(\"Mostrar los índices del elemento seleccionado\")\n",
    "print(f\"index_one: {index_one}\")\n",
    "print(f\"index_two: {index_two}\")\n",
    "print(f\"index_three: {index_three}\\n\")\n",
    "# Mostrar los índices de todos los elementos de la lista usando el ciclo For\n",
    "print(f\"Mostrar los elementos con sus índices de la lista\\nLista: {pj_de_halo}\")\n",
    "for elemento in pj_de_halo:\n",
    "    index = pj_de_halo.index(elemento)\n",
    "    print(f\"El índice del elemento \\'{elemento}\\' es {index}\")"
   ]
  },
  {
   "cell_type": "code",
   "execution_count": 12,
   "metadata": {},
   "outputs": [
    {
     "name": "stdout",
     "output_type": "stream",
     "text": [
      "1\n",
      "3\n"
     ]
    }
   ],
   "source": [
    "index_four = pj_de_halo.index(\"Iso-Didact\", 0, 5)  # Salida: se muestra el índice del elemento digitado\n",
    "index_five = pj_de_halo.index(\"Ur-Didact\", 1, 5)\n",
    "print(index_four)\n",
    "print(index_five)"
   ]
  }
 ],
 "metadata": {
  "kernelspec": {
   "display_name": "Python 3.10.4 64-bit",
   "language": "python",
   "name": "python3"
  },
  "language_info": {
   "codemirror_mode": {
    "name": "ipython",
    "version": 3
   },
   "file_extension": ".py",
   "mimetype": "text/x-python",
   "name": "python",
   "nbconvert_exporter": "python",
   "pygments_lexer": "ipython3",
   "version": "3.10.4"
  },
  "orig_nbformat": 4,
  "vscode": {
   "interpreter": {
    "hash": "fb4569285eef3a3450cb62085a5b1e0da4bce0af555edc33dcf29baf3acc1368"
   }
  }
 },
 "nbformat": 4,
 "nbformat_minor": 2
}
