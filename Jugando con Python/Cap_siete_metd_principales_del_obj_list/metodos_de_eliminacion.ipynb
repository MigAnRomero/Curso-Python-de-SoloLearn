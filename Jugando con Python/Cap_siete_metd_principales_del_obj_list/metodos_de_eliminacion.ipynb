{
 "cells": [
  {
   "cell_type": "code",
   "execution_count": 2,
   "metadata": {},
   "outputs": [
    {
     "name": "stdout",
     "output_type": "stream",
     "text": [
      "['Jhon', 'Jerome', 'Cortana', 'Faber', 'Didact', 'Didact', 'The Gravemind', 'Iso-Didact', 'Serina']\n"
     ]
    }
   ],
   "source": [
    "# Métodos de eliminación\n",
    "\n",
    "# Eliminar el último elemento de la lista\n",
    "# Método: pop()\n",
    "# Retorna: el elemento eliminado\n",
    "pj_de_halo = [\"Jhon\", \"Jerome\", \"Cortana\", \"Faber\", \"Didact\", \"Didact\", \"The Gravemind\", \"Iso-Didact\", \"Serina\", \"Fake-Didact\"]\n",
    "pj_de_halo.pop()  # Salida: se elimina 'Fake_Didact'\n",
    "print(pj_de_halo)"
   ]
  },
  {
   "cell_type": "code",
   "execution_count": 3,
   "metadata": {},
   "outputs": [
    {
     "name": "stdout",
     "output_type": "stream",
     "text": [
      "['Jhon', 'Jerome', 'Cortana', 'Faber', 'Didact', 'The Gravemind', 'Iso-Didact', 'Serina']\n"
     ]
    }
   ],
   "source": [
    "# Eliminar un elemento por su índice\n",
    "# Método: pop(índice)\n",
    "# Retorna: el elemento eliminado\n",
    "pj_de_halo.pop(4)\n",
    "print(pj_de_halo)"
   ]
  },
  {
   "cell_type": "code",
   "execution_count": 5,
   "metadata": {},
   "outputs": [
    {
     "ename": "ValueError",
     "evalue": "list.remove(x): x not in list",
     "output_type": "error",
     "traceback": [
      "\u001b[1;31m---------------------------------------------------------------------------\u001b[0m",
      "\u001b[1;31mValueError\u001b[0m                                Traceback (most recent call last)",
      "\u001b[1;32mc:\\Users\\user\\Documents\\Archivos de VSC\\PYTHON\\Curso_Python_SoloLearn\\Jugando con Python\\Cap_siete_metd_principales_del_obj_list\\metodos_de_eliminacion.ipynb Celda 3\u001b[0m in \u001b[0;36m<cell line: 3>\u001b[1;34m()\u001b[0m\n\u001b[0;32m      <a href='vscode-notebook-cell:/c%3A/Users/user/Documents/Archivos%20de%20VSC/PYTHON/Curso_Python_SoloLearn/Jugando%20con%20Python/Cap_siete_metd_principales_del_obj_list/metodos_de_eliminacion.ipynb#W2sZmlsZQ%3D%3D?line=0'>1</a>\u001b[0m \u001b[39m# Eliminar un elemento por su valor\u001b[39;00m\n\u001b[0;32m      <a href='vscode-notebook-cell:/c%3A/Users/user/Documents/Archivos%20de%20VSC/PYTHON/Curso_Python_SoloLearn/Jugando%20con%20Python/Cap_siete_metd_principales_del_obj_list/metodos_de_eliminacion.ipynb#W2sZmlsZQ%3D%3D?line=1'>2</a>\u001b[0m \u001b[39m# Método: remove(“valor”)\u001b[39;00m\n\u001b[1;32m----> <a href='vscode-notebook-cell:/c%3A/Users/user/Documents/Archivos%20de%20VSC/PYTHON/Curso_Python_SoloLearn/Jugando%20con%20Python/Cap_siete_metd_principales_del_obj_list/metodos_de_eliminacion.ipynb#W2sZmlsZQ%3D%3D?line=2'>3</a>\u001b[0m pj_de_halo\u001b[39m.\u001b[39;49mremove(\u001b[39m\"\u001b[39;49m\u001b[39mThe gravemind\u001b[39;49m\u001b[39m\"\u001b[39;49m)\n\u001b[0;32m      <a href='vscode-notebook-cell:/c%3A/Users/user/Documents/Archivos%20de%20VSC/PYTHON/Curso_Python_SoloLearn/Jugando%20con%20Python/Cap_siete_metd_principales_del_obj_list/metodos_de_eliminacion.ipynb#W2sZmlsZQ%3D%3D?line=3'>4</a>\u001b[0m \u001b[39mprint\u001b[39m(pj_de_halo)\n",
      "\u001b[1;31mValueError\u001b[0m: list.remove(x): x not in list"
     ]
    }
   ],
   "source": [
    "# Eliminar un elemento por su valor\n",
    "# Método: remove(“valor”)\n",
    "pj_de_halo.remove(\"The gravemind\")\n",
    "print(pj_de_halo)"
   ]
  },
  {
   "cell_type": "code",
   "execution_count": 6,
   "metadata": {},
   "outputs": [
    {
     "name": "stdout",
     "output_type": "stream",
     "text": [
      "['Jhon', 'Jerome', 'Cortana', 'Faber', 'Didact', 'Iso-Didact', 'Serina']\n"
     ]
    }
   ],
   "source": [
    "pj_de_halo.remove(\"The Gravemind\")\n",
    "print(pj_de_halo)"
   ]
  }
 ],
 "metadata": {
  "kernelspec": {
   "display_name": "Python 3.10.4 64-bit",
   "language": "python",
   "name": "python3"
  },
  "language_info": {
   "codemirror_mode": {
    "name": "ipython",
    "version": 3
   },
   "file_extension": ".py",
   "mimetype": "text/x-python",
   "name": "python",
   "nbconvert_exporter": "python",
   "pygments_lexer": "ipython3",
   "version": "3.10.4"
  },
  "orig_nbformat": 4,
  "vscode": {
   "interpreter": {
    "hash": "fb4569285eef3a3450cb62085a5b1e0da4bce0af555edc33dcf29baf3acc1368"
   }
  }
 },
 "nbformat": 4,
 "nbformat_minor": 2
}
