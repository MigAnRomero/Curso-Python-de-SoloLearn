{
 "cells": [
  {
   "cell_type": "code",
   "execution_count": 1,
   "metadata": {},
   "outputs": [
    {
     "name": "stdout",
     "output_type": "stream",
     "text": [
      "['Serina', 'Iso-Didact', 'The Gravemind', 'Ur-Didact', 'Faber', 'Cortana', 'Jerome', 'Jhon']\n"
     ]
    }
   ],
   "source": [
    "# Métodos de orden\n",
    "\n",
    "# Ordenar una lista en reversa (invertir orden)\n",
    "# Método: reverse()\n",
    "\n",
    "pj_de_halo = ['Jhon', 'Jerome', 'Cortana', 'Faber', 'Ur-Didact', 'The Gravemind', 'Iso-Didact', 'Serina']\n",
    "pj_de_halo.reverse()\n",
    "print(pj_de_halo)"
   ]
  }
 ],
 "metadata": {
  "kernelspec": {
   "display_name": "Python 3.10.4 64-bit",
   "language": "python",
   "name": "python3"
  },
  "language_info": {
   "codemirror_mode": {
    "name": "ipython",
    "version": 3
   },
   "file_extension": ".py",
   "mimetype": "text/x-python",
   "name": "python",
   "nbconvert_exporter": "python",
   "pygments_lexer": "ipython3",
   "version": "3.10.4"
  },
  "orig_nbformat": 4,
  "vscode": {
   "interpreter": {
    "hash": "fb4569285eef3a3450cb62085a5b1e0da4bce0af555edc33dcf29baf3acc1368"
   }
  }
 },
 "nbformat": 4,
 "nbformat_minor": 2
}
