{
 "cells": [
  {
   "cell_type": "code",
   "execution_count": 1,
   "metadata": {},
   "outputs": [
    {
     "name": "stdout",
     "output_type": "stream",
     "text": [
      "['Alvaro', 'Jacinto', 'Miguel', 'Edgardo', 'David', 'Jose']\n"
     ]
    }
   ],
   "source": [
    "# Métodos de agregado\n",
    "# Agregar un elemento al final de la lista\n",
    "# Método: append(“nuevo elemento”)\n",
    "nombres_masculinos = [\"Alvaro\", \"Jacinto\", \"Miguel\", \"Edgardo\", \"David\"]\n",
    "nombres_masculinos.append(\"Jose\")\n",
    "print(nombres_masculinos)\n",
    "# Salida: ['Alvaro', 'David', 'Edgardo', 'Jacinto', 'Jose', 'Ricky', 'Jose']"
   ]
  },
  {
   "cell_type": "code",
   "execution_count": 2,
   "metadata": {},
   "outputs": [
    {
     "ename": "TypeError",
     "evalue": "list.append() takes exactly one argument (2 given)",
     "output_type": "error",
     "traceback": [
      "\u001b[1;31m---------------------------------------------------------------------------\u001b[0m",
      "\u001b[1;31mTypeError\u001b[0m                                 Traceback (most recent call last)",
      "\u001b[1;32mc:\\Users\\user\\Documents\\Archivos de VSC\\PYTHON\\Curso_Python_SoloLearn\\Jugando con Python\\Cap_siete_metd_principales_del_obj_list\\metodos_de_agregado.ipynb Celda 2\u001b[0m in \u001b[0;36m<cell line: 1>\u001b[1;34m()\u001b[0m\n\u001b[1;32m----> <a href='vscode-notebook-cell:/c%3A/Users/user/Documents/Archivos%20de%20VSC/PYTHON/Curso_Python_SoloLearn/Jugando%20con%20Python/Cap_siete_metd_principales_del_obj_list/metodos_de_agregado.ipynb#W1sZmlsZQ%3D%3D?line=0'>1</a>\u001b[0m nombres_masculinos\u001b[39m.\u001b[39;49mappend(\u001b[39m\"\u001b[39;49m\u001b[39mJose Luis\u001b[39;49m\u001b[39m\"\u001b[39;49m, \u001b[39m\"\u001b[39;49m\u001b[39mMartha\u001b[39;49m\u001b[39m\"\u001b[39;49m)\n\u001b[0;32m      <a href='vscode-notebook-cell:/c%3A/Users/user/Documents/Archivos%20de%20VSC/PYTHON/Curso_Python_SoloLearn/Jugando%20con%20Python/Cap_siete_metd_principales_del_obj_list/metodos_de_agregado.ipynb#W1sZmlsZQ%3D%3D?line=1'>2</a>\u001b[0m \u001b[39mprint\u001b[39m(nombres_masculinos)\n",
      "\u001b[1;31mTypeError\u001b[0m: list.append() takes exactly one argument (2 given)"
     ]
    }
   ],
   "source": [
    "nombres_masculinos.append(\"Jose Luis\", \"Martha\")  # Agregando dos elementos\n",
    "print(nombres_masculinos)  # Salida: error porque solo puede agregar un único elemento"
   ]
  },
  {
   "cell_type": "code",
   "execution_count": 3,
   "metadata": {},
   "outputs": [
    {
     "name": "stdout",
     "output_type": "stream",
     "text": [
      "['Alvaro', 'Jacinto', 'Miguel', 'Edgardo', 'David', 'Jose', 'Juan Alberto']\n"
     ]
    }
   ],
   "source": [
    "nombres_masculinos.append(\"Juan Alberto\")\n",
    "print(nombres_masculinos)"
   ]
  }
 ],
 "metadata": {
  "kernelspec": {
   "display_name": "Python 3.10.4 64-bit",
   "language": "python",
   "name": "python3"
  },
  "language_info": {
   "codemirror_mode": {
    "name": "ipython",
    "version": 3
   },
   "file_extension": ".py",
   "mimetype": "text/x-python",
   "name": "python",
   "nbconvert_exporter": "python",
   "pygments_lexer": "ipython3",
   "version": "3.10.4"
  },
  "orig_nbformat": 4,
  "vscode": {
   "interpreter": {
    "hash": "fb4569285eef3a3450cb62085a5b1e0da4bce0af555edc33dcf29baf3acc1368"
   }
  }
 },
 "nbformat": 4,
 "nbformat_minor": 2
}
