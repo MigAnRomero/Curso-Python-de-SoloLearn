{
 "cells": [
  {
   "cell_type": "code",
   "execution_count": 2,
   "metadata": {},
   "outputs": [
    {
     "name": "stdout",
     "output_type": "stream",
     "text": [
      "15\n",
      "(15, 2.8, 'otro dato')\n",
      "('otro dato', 25)\n",
      "('cadena de texto', 15)\n",
      "25\n",
      "otro dato\n"
     ]
    }
   ],
   "source": [
    "\"\"\" Tipos de datos complejos manejados en Python:\n",
    "1. Tuplas\n",
    "2. Listas\n",
    "3. Diccionarios\"\"\"\n",
    "\n",
    "# Tuplas\n",
    "\"\"\"Una tupla es una variable que permite almacenar varios datos inmutables (no pueden\n",
    "ser modificados una vez creados) de tipos diferentes: \"\"\"\n",
    "mi_tupla = ('cadena de texto', 15, 2.8, 'otro dato', 25)\n",
    "\"\"\"Se puede acceder a cada uno de los datos mediante su índice correspondiente, siendo 0\n",
    "(cero), el índice del primer elemento: \"\"\"\n",
    "print (mi_tupla[1]) # Salida: 15\n",
    "\n",
    "\"\"\"También se puede acceder a una porción de la tupla, indicando (opcionalmente) desde el\n",
    "índice de inicio hasta el índice de fin: \"\"\"\n",
    "print (mi_tupla[1:4]) # Devuelve: (15, 2.8, 'otro dato')\n",
    "print (mi_tupla[3:]) # Devuelve: ('otro dato', 25)\n",
    "print (mi_tupla[:2]) # Devuelve: ('cadena de texto', 15)\n",
    "\"\"\"Otra forma de acceder a la tupla de forma inversa (de atrás hacia adelante), es colocando\n",
    "un índice negativo: \"\"\"\n",
    "print (mi_tupla[-1]) # Salida: 25\n",
    "print (mi_tupla[-2]) # Salida: otro dato"
   ]
  }
 ],
 "metadata": {
  "kernelspec": {
   "display_name": "Python 3.10.4 64-bit",
   "language": "python",
   "name": "python3"
  },
  "language_info": {
   "codemirror_mode": {
    "name": "ipython",
    "version": 3
   },
   "file_extension": ".py",
   "mimetype": "text/x-python",
   "name": "python",
   "nbconvert_exporter": "python",
   "pygments_lexer": "ipython3",
   "version": "3.10.4"
  },
  "orig_nbformat": 4,
  "vscode": {
   "interpreter": {
    "hash": "fb4569285eef3a3450cb62085a5b1e0da4bce0af555edc33dcf29baf3acc1368"
   }
  }
 },
 "nbformat": 4,
 "nbformat_minor": 2
}
