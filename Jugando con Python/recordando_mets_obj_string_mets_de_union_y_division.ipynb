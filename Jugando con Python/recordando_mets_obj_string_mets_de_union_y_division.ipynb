{
 "cells": [
  {
   "cell_type": "code",
   "execution_count": 5,
   "metadata": {},
   "outputs": [
    {
     "name": "stdout",
     "output_type": "stream",
     "text": [
      "Nº 0000-0275-0000 (ID: 275)\n",
      "Nº 0000-027-0000 (ID: 27) 27 < a 300\n"
     ]
    }
   ],
   "source": [
    "# Métodos de unión y división\n",
    "\n",
    "# Unir una cadena de forma iterativa\n",
    "# Método: join(iterable)\n",
    "# Retorna: la cadena unida con el iterable (la cadena es separada por cada uno de los\n",
    "# elementos del iterable)\n",
    "formato_numero_factura = (\"Nº 0000-0\", \"-0000 (ID: \", \")\")\n",
    "numero = \"275\"\n",
    "numero_factura = numero.join(formato_numero_factura)\n",
    "print(numero_factura)\n",
    "# Salida: Nº 0000-0275-0000 (ID: 275)\n",
    "formato_numero_factura = (\"Nº 0000-0\", \"-0000 (ID: \", \") \", \" < a 300\")\n",
    "numero = \"27\"\n",
    "numero_factura = numero.join(formato_numero_factura)\n",
    "print(numero_factura)\n",
    "# Salida: Nº 0000-027-0000 (ID: 27) 27 < a 300"
   ]
  }
 ],
 "metadata": {
  "kernelspec": {
   "display_name": "Python 3.10.4 64-bit",
   "language": "python",
   "name": "python3"
  },
  "language_info": {
   "codemirror_mode": {
    "name": "ipython",
    "version": 3
   },
   "file_extension": ".py",
   "mimetype": "text/x-python",
   "name": "python",
   "nbconvert_exporter": "python",
   "pygments_lexer": "ipython3",
   "version": "3.10.4"
  },
  "orig_nbformat": 4,
  "vscode": {
   "interpreter": {
    "hash": "fb4569285eef3a3450cb62085a5b1e0da4bce0af555edc33dcf29baf3acc1368"
   }
  }
 },
 "nbformat": 4,
 "nbformat_minor": 2
}
