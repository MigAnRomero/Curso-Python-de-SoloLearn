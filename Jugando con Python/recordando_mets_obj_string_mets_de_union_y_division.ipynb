{
 "cells": [
  {
   "cell_type": "code",
   "execution_count": 5,
   "metadata": {},
   "outputs": [
    {
     "name": "stdout",
     "output_type": "stream",
     "text": [
      "Nº 0000-0275-0000 (ID: 275)\n",
      "Nº 0000-027-0000 (ID: 27) 27 < a 300\n"
     ]
    }
   ],
   "source": [
    "# Métodos de unión y división\n",
    "\n",
    "# Unir una cadena de forma iterativa\n",
    "# Método: join(iterable)\n",
    "# Retorna: la cadena unida con el iterable (la cadena es separada por cada uno de los\n",
    "# elementos del iterable)\n",
    "formato_numero_factura = (\"Nº 0000-0\", \"-0000 (ID: \", \")\")\n",
    "numero = \"275\"\n",
    "numero_factura = numero.join(formato_numero_factura)\n",
    "print(numero_factura)\n",
    "# Salida: Nº 0000-0275-0000 (ID: 275)\n",
    "formato_numero_factura = (\"Nº 0000-0\", \"-0000 (ID: \", \") \", \" < a 300\")\n",
    "numero = \"27\"\n",
    "numero_factura = numero.join(formato_numero_factura)\n",
    "print(numero_factura)\n",
    "# Salida: Nº 0000-027-0000 (ID: 27) 27 < a 300"
   ]
  },
  {
   "cell_type": "code",
   "execution_count": 3,
   "metadata": {},
   "outputs": [
    {
     "name": "stdout",
     "output_type": "stream",
     "text": [
      "('http://', 'www.', 'eugeniabahit.com')\n",
      "Protocolo: http://\n",
      "Dominio: eugeniabahit.com\n",
      "('0001 0022, 234, ', 'mil', ' setecientos noventa y nueve, Luis')\n"
     ]
    }
   ],
   "source": [
    "# Partir una cadena en tres partes, utilizando un separador\n",
    "# Método: partition(“separador”)\n",
    "# Retorna: una tupla de tres elementos donde el primero es el contenido de la cadena\n",
    "# previo al separador, el segundo, el separador mismo y el tercero, el contenido de la\n",
    "# cadena posterior al separador\n",
    "tupla = \"http://www.eugeniabahit.com\".partition(\"www.\")\n",
    "print(tupla)\n",
    "# ('http://', 'www.', 'eugeniabahit.com')\n",
    "protocolo, separador, dominio = tupla\n",
    "print(\"Protocolo: {0}\\nDominio: {1}\".format(protocolo, dominio))\n",
    "# Protocolo: http://\n",
    "# Dominio: eugeniabahit.com\n",
    "tupla = \"0001 0022, 234, mil setecientos noventa y nueve, Luis\".partition(\"mil\")\n",
    "print(tupla)\n",
    "# ('0001 0022, 234, ', 'mil', ' setecientos noventa y nueve, Luis')"
   ]
  },
  {
   "cell_type": "code",
   "execution_count": 6,
   "metadata": {},
   "outputs": [
    {
     "name": "stdout",
     "output_type": "stream",
     "text": [
      "['python', 'guia', 'curso', 'tutorial']\n",
      "['PY', 'JV', 'JS', 'YT', 'LI', 'IPS', 'ONU', 'ONG', 'EEUU', 'EU']\n"
     ]
    }
   ],
   "source": [
    "# Partir una cadena en varias partes, utilizando un separador\n",
    "# Método: split(“separador”)\n",
    "# Retorna: una lista con todos elementos encontrados al dividir la cadena por un separador\n",
    "keywords = \"python, guia, curso, tutorial\".split(\", \")\n",
    "print(keywords)\n",
    "# ['python', 'guia', 'curso', 'tutorial']\n",
    "keywords = \"PY JV JS YT LI IPS ONU ONG EEUU EU\".split(\" \")\n",
    "print(keywords)\n",
    "# ['PY', 'JV', 'JS', 'YT', 'LI', 'IPS', 'ONU', 'ONG', 'EEUU', 'EU']"
   ]
  },
  {
   "cell_type": "code",
   "execution_count": 8,
   "metadata": {},
   "outputs": [
    {
     "name": "stdout",
     "output_type": "stream",
     "text": [
      "['Linea 1', 'Linea 2', 'Linea 3', 'Linea 4']\n",
      "['Linea 1', 'Linea 2', 'Linea 3']\n",
      "['Desconocido uno: ¿Estó realmente funciona?', 'Desconocido dos: Debe funcionar Pacho... No tenemos más opciones disponibles.', 'Pacho: ...Bueno, a darle.']\n"
     ]
    }
   ],
   "source": [
    "# Partir una cadena en líneas\n",
    "# Método: splitlines()\n",
    "# Retorna: una lista donde cada elemento es una fracción de la cadena divida en líneas\n",
    "texto = \"\"\"Linea 1\n",
    "Linea 2\n",
    "Linea 3\n",
    "Linea 4\n",
    "\"\"\"\n",
    "print(texto.splitlines())\n",
    "# ['Linea 1', 'Linea 2', 'Linea 3', 'Linea 4']\n",
    "texto = \"Linea 1\\nLinea 2\\nLinea 3\"\n",
    "print(texto.splitlines())\n",
    "# ['Linea 1', 'Linea 2', 'Linea 3']\n",
    "texto = \"\"\"Desconocido uno: ¿Estó realmente funciona?\n",
    "Desconocido dos: Debe funcionar Pacho... No tenemos más opciones disponibles.\n",
    "Pacho: ...Bueno, a darle.\"\"\"\n",
    "print(texto.splitlines())"
   ]
  }
 ],
 "metadata": {
  "kernelspec": {
   "display_name": "Python 3.10.4 64-bit",
   "language": "python",
   "name": "python3"
  },
  "language_info": {
   "codemirror_mode": {
    "name": "ipython",
    "version": 3
   },
   "file_extension": ".py",
   "mimetype": "text/x-python",
   "name": "python",
   "nbconvert_exporter": "python",
   "pygments_lexer": "ipython3",
   "version": "3.10.4"
  },
  "orig_nbformat": 4,
  "vscode": {
   "interpreter": {
    "hash": "fb4569285eef3a3450cb62085a5b1e0da4bce0af555edc33dcf29baf3acc1368"
   }
  }
 },
 "nbformat": 4,
 "nbformat_minor": 2
}
