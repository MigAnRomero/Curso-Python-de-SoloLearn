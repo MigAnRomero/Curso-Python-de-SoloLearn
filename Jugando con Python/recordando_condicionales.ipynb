{
 "cells": [
  {
   "cell_type": "code",
   "execution_count": 2,
   "metadata": {},
   "outputs": [
    {
     "name": "stdout",
     "output_type": "stream",
     "text": [
      "Número negativo\n"
     ]
    }
   ],
   "source": [
    "# Condicionales If, Elif, Else\n",
    "\n",
    "# Programa para identificar números pisitivos o negativos\n",
    "num = int(input('Digitar un número: '))\n",
    "if (num >= 0):\n",
    "    print('Número positivo')\n",
    "else:\n",
    "    print('Número negativo')"
   ]
  },
  {
   "cell_type": "code",
   "execution_count": 4,
   "metadata": {},
   "outputs": [
    {
     "name": "stdout",
     "output_type": "stream",
     "text": [
      "34 es mayor a 12\n"
     ]
    }
   ],
   "source": [
    "# Hallar el número mayor\n",
    "num_uno = int(input('Digitar número uno: '))\n",
    "num_dos = int(input('Digitar número dos: '))\n",
    "if num_uno > num_dos:\n",
    "    print(f'{num_uno} es mayor a {num_dos}')\n",
    "else:\n",
    "    print(f'{num_dos} es mayor a {num_uno}')"
   ]
  }
 ],
 "metadata": {
  "kernelspec": {
   "display_name": "Python 3.8.5 ('base')",
   "language": "python",
   "name": "python3"
  },
  "language_info": {
   "codemirror_mode": {
    "name": "ipython",
    "version": 3
   },
   "file_extension": ".py",
   "mimetype": "text/x-python",
   "name": "python",
   "nbconvert_exporter": "python",
   "pygments_lexer": "ipython3",
   "version": "3.8.5"
  },
  "orig_nbformat": 4,
  "vscode": {
   "interpreter": {
    "hash": "ae406414c121f7a2712d29ba32698bad1e8bffa931cf239ae13729e462863e5b"
   }
  }
 },
 "nbformat": 4,
 "nbformat_minor": 2
}
