{
 "cells": [
  {
   "cell_type": "code",
   "execution_count": 2,
   "metadata": {},
   "outputs": [
    {
     "name": "stdout",
     "output_type": "stream",
     "text": [
      "Número negativo\n"
     ]
    }
   ],
   "source": [
    "# Condicionales If, Elif, Else\n",
    "\n",
    "# Programa para identificar números pisitivos o negativos\n",
    "num = int(input('Digitar un número: '))\n",
    "if (num >= 0):\n",
    "    print('Número positivo')\n",
    "else:\n",
    "    print('Número negativo')"
   ]
  },
  {
   "cell_type": "code",
   "execution_count": 4,
   "metadata": {},
   "outputs": [
    {
     "name": "stdout",
     "output_type": "stream",
     "text": [
      "34 es mayor a 12\n"
     ]
    }
   ],
   "source": [
    "# Hallar el número mayor\n",
    "num_uno = int(input('Digitar número uno: '))\n",
    "num_dos = int(input('Digitar número dos: '))\n",
    "if num_uno > num_dos:\n",
    "    print(f'{num_uno} es mayor a {num_dos}')\n",
    "else:\n",
    "    print(f'{num_dos} es mayor a {num_uno}')"
   ]
  },
  {
   "cell_type": "code",
   "execution_count": 8,
   "metadata": {},
   "outputs": [
    {
     "name": "stdout",
     "output_type": "stream",
     "text": [
      "Valor de la compra: 540\n",
      "Pago con tarjeta de crédito\n"
     ]
    }
   ],
   "source": [
    "# Si gasto hasta $100, pago con dinero en efectivo. Sino, si gasto\n",
    "# más de $100 pero menos de $300, pago con tarjeta de débito.\n",
    "# Sino, pago con tarjeta de crédito.\n",
    "\n",
    "compra = int(input('Digitar valor: '))\n",
    "print(f\"Valor de la compra: {compra}\")\n",
    "if compra <= 100:\n",
    "    print(\"Pago en efectivo\")\n",
    "elif compra > 100 and compra < 300:\n",
    "    print(\"Pago con tarjeta de débito\")\n",
    "else:\n",
    "    print(\"Pago con tarjeta de crédito\")"
   ]
  },
  {
   "cell_type": "code",
   "execution_count": 11,
   "metadata": {},
   "outputs": [
    {
     "name": "stdout",
     "output_type": "stream",
     "text": [
      "total_compra: 123\n",
      "tasa_descuento: 10\n",
      "importe_descuento: 12.3\n",
      "importe_a_pagar: 110.7\n"
     ]
    }
   ],
   "source": [
    "# Si la compra es mayor a $100, obtengo un descuento del 10%\n",
    "\n",
    "total_compra = int(input('Digitar valor: '))\n",
    "print(f\"total_compra: {total_compra}\")\n",
    "importe_a_pagar = total_compra\n",
    "\n",
    "if total_compra > 100:\n",
    "    tasa_descuento = 10\n",
    "    importe_descuento = total_compra * tasa_descuento / 100\n",
    "    importe_a_pagar = total_compra - importe_descuento\n",
    "    print(f\"tasa_descuento: {tasa_descuento}\\nimporte_descuento: {importe_descuento}\\nimporte_a_pagar: {importe_a_pagar}\")"
   ]
  },
  {
   "cell_type": "code",
   "execution_count": 2,
   "metadata": {},
   "outputs": [
    {
     "name": "stdout",
     "output_type": "stream",
     "text": [
      "En el Ñágara encontré un Ñandú\n",
      "Ñe, ñe, ñe... En el Ñágara encontré un Ñandú\n"
     ]
    }
   ],
   "source": [
    "# Probando\n",
    "print('En el Ñágara encontré un Ñandú')\n",
    "# -*- coding: utf-8 -*-\n",
    "print (\"Ñe, ñe, ñe... En el Ñágara encontré un Ñandú\")"
   ]
  },
  {
   "cell_type": "code",
   "execution_count": 6,
   "metadata": {},
   "outputs": [
    {
     "name": "stdout",
     "output_type": "stream",
     "text": [
      "mi_tupla: ('hola mundo', 2011)\n",
      "anio: 2011\n",
      "texto: hola mundo\n",
      "\n",
      "mi_lista: ['Argentina', 'Buenos Aires']\n",
      "provincia: Buenos Aires\n",
      "pais: Argentina\n"
     ]
    }
   ],
   "source": [
    "# Asignación de variables\n",
    "\n",
    "# Tupla\n",
    "mi_tupla = ('hola mundo', 2011)\n",
    "texto, anio = mi_tupla\n",
    "print(f\"mi_tupla: {mi_tupla}\")\n",
    "print(f\"anio: {anio}\")\n",
    "print(f\"texto: {texto}\\n\")\n",
    "\n",
    "# Lista\n",
    "mi_lista = ['Argentina', 'Buenos Aires']\n",
    "pais, provincia = mi_lista\n",
    "print(f\"mi_lista: {mi_lista}\")\n",
    "print(f\"provincia: {provincia}\")\n",
    "print(f\"pais: {pais}\")"
   ]
  }
 ],
 "metadata": {
  "kernelspec": {
   "display_name": "Python 3.10.4 64-bit",
   "language": "python",
   "name": "python3"
  },
  "language_info": {
   "codemirror_mode": {
    "name": "ipython",
    "version": 3
   },
   "file_extension": ".py",
   "mimetype": "text/x-python",
   "name": "python",
   "nbconvert_exporter": "python",
   "pygments_lexer": "ipython3",
   "version": "3.10.4 (tags/v3.10.4:9d38120, Mar 23 2022, 23:13:41) [MSC v.1929 64 bit (AMD64)]"
  },
  "orig_nbformat": 4,
  "vscode": {
   "interpreter": {
    "hash": "fb4569285eef3a3450cb62085a5b1e0da4bce0af555edc33dcf29baf3acc1368"
   }
  }
 },
 "nbformat": 4,
 "nbformat_minor": 2
}
