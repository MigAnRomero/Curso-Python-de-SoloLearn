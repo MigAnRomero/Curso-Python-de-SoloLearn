{
 "cells": [
  {
   "cell_type": "code",
   "execution_count": 2,
   "metadata": {},
   "outputs": [
    {
     "name": "stdout",
     "output_type": "stream",
     "text": [
      "mi_tupla: ('cadena de texto', 15, 2.8, 'otro dato', 25)\n",
      "mi_tupla[1]: 15\n",
      "mi_tupla[1:4]: (15, 2.8, 'otro dato')\n",
      "mi_tupla[3:]: ('otro dato', 25)\n",
      "mi_tupla[:2]: ('cadena de texto', 15)\n",
      "mi_tupla[-1]: 25\n",
      "mi_tupla[-2]: otro dato\n"
     ]
    }
   ],
   "source": [
    "\"\"\" Tipos de datos complejos manejados en Python:\n",
    "1. Tuplas\n",
    "2. Listas\n",
    "3. Diccionarios\"\"\"\n",
    "\n",
    "# Tuplas\n",
    "\"\"\"Una tupla es una variable que permite almacenar varios datos inmutables (no pueden\n",
    "ser modificados una vez creados) de tipos diferentes dentro de paréntesis: \"\"\"\n",
    "mi_tupla = ('cadena de texto', 15, 2.8, 'otro dato', 25)\n",
    "\"\"\"Se puede acceder a cada uno de los datos mediante su índice correspondiente, siendo 0\n",
    "(cero), el índice del primer elemento: \"\"\"\n",
    "print(f\"mi_tupla: {mi_tupla}\")\n",
    "print (f\"mi_tupla[1]: {mi_tupla[1]}\") # Salida: 15\n",
    "\n",
    "\"\"\"También se puede acceder a una porción de la tupla, indicando (opcionalmente) desde el\n",
    "índice de inicio hasta el índice de fin: \"\"\"\n",
    "print (f\"mi_tupla[1:4]: {mi_tupla[1:4]}\") # Devuelve: (15, 2.8, 'otro dato')\n",
    "print (f\"mi_tupla[3:]: {mi_tupla[3:]}\") # Devuelve: ('otro dato', 25)\n",
    "print (f\"mi_tupla[:2]: {mi_tupla[:2]}\") # Devuelve: ('cadena de texto', 15)\n",
    "\"\"\"Otra forma de acceder a la tupla de forma inversa (de atrás hacia adelante), es colocando\n",
    "un índice negativo: \"\"\"\n",
    "print (f\"mi_tupla[-1]: {mi_tupla[-1]}\") # Salida: 25\n",
    "print (f\"mi_tupla[-2]: {mi_tupla[-2]}\") # Salida: otro dato"
   ]
  },
  {
   "cell_type": "code",
   "execution_count": 7,
   "metadata": {},
   "outputs": [
    {
     "name": "stdout",
     "output_type": "stream",
     "text": [
      "mi_lista: ['cadena de texto', 15, 2.8, 'otro dato', 25]\n",
      "mi_lista[1]: 15\n",
      "mi_lista[1:4]: [15, 2.8, 'otro dato']\n",
      "mi_lista[-2]: otro dato\n",
      "mi_lista[2] = 3.8\n",
      "mi_lista: ['cadena de texto', 15, 3.8, 'otro dato', 25]\n",
      "mi_lista.append('Nuevo Dato')\n",
      "mi_lista: ['cadena de texto', 15, 3.8, 'otro dato', 25, 'Nuevo Dato']\n",
      "mi_lista[-2]: 25\n"
     ]
    }
   ],
   "source": [
    "# Listas\n",
    "# Similar a una tupla con la diferencia de poder modificar sus datos creados encerredados en corchetes\n",
    "mi_lista = ['cadena de texto', 15, 2.8, 'otro dato', 25]\n",
    "print(f\"mi_lista: {mi_lista}\")\n",
    "# A las listas se accede igual que a las tuplas, por su número de índice:\n",
    "print(f\"mi_lista[1]: {mi_lista[1]}\") # Salida: 15\n",
    "print(f\"mi_lista[1:4]: {mi_lista[1:4]}\") # Devuelve: [15, 2.8, 'otro dato']\n",
    "print(f\"mi_lista[-2]: {mi_lista[-2]}\") # Salida: otro dato\n",
    "# Las lista NO son inmutables: permiten modificar los datos una vez creados:\n",
    "mi_lista[2] = 3.8 # el tercer elemento ahora es 3.8\n",
    "print(f\"mi_lista[2] = 3.8\\nmi_lista: {mi_lista}\")\n",
    "# Las listas, a diferencia de las tuplas, permiten agregar nuevos valores:\n",
    "mi_lista.append('Nuevo Dato')\n",
    "print(f\"mi_lista.append('Nuevo Dato')\\nmi_lista: {mi_lista}\")\n",
    "print(f\"mi_lista[-2]: {mi_lista[-2]}\")"
   ]
  },
  {
   "cell_type": "code",
   "execution_count": 11,
   "metadata": {},
   "outputs": [
    {
     "name": "stdout",
     "output_type": "stream",
     "text": [
      "mi_diccionario: {'clave_1': 10, 'clave_2': 20, 'clave_7': 70}\n",
      "mi_diccionario['clave_2']: 20\n",
      "del(mi_diccionario['clave_2']): {'clave_1': 10, 'clave_7': 70}\n",
      "mi_diccionario['clave_1'] = 'Nuevo Valor': {'clave_1': 'Nuevo Valor', 'clave_7': 70}\n"
     ]
    }
   ],
   "source": [
    "# Diccionarios\n",
    "# Mientras que a las listas y tuplas se accede solo y únicamente por un número de índice,\n",
    "# los diccionarios permiten utilizar una clave para declarar y acceder a un valor:\n",
    "valor_1 = 10\n",
    "valor_2 = 20\n",
    "valor_7 = 70\n",
    "mi_diccionario = {'clave_1': valor_1, 'clave_2': valor_2, 'clave_7': valor_7}\n",
    "print(f\"mi_diccionario: {mi_diccionario}\")\n",
    "print(f\"mi_diccionario['clave_2']: {mi_diccionario['clave_2']}\") # Salida: valor_2\n",
    "# Un diccionario permite eliminar cualquier entrada:\n",
    "del(mi_diccionario['clave_2'])\n",
    "print(f\"del(mi_diccionario['clave_2']): {mi_diccionario}\")\n",
    "# Al igual que las listas, el diccionario permite modificar los valores\n",
    "mi_diccionario['clave_1'] = 'Nuevo Valor'\n",
    "print(f\"mi_diccionario['clave_1'] = 'Nuevo Valor': {mi_diccionario}\")"
   ]
  },
  {
   "cell_type": "code",
   "execution_count": 5,
   "metadata": {},
   "outputs": [
    {
     "name": "stdout",
     "output_type": "stream",
     "text": [
      "{1: 'Azul', 7: 'Verde', 3: 'Amarillo', 5: 'Negro', 8: 'Rojo', 6: 'Naranja', 11: 'Morado'}\n",
      "len(colores): 7\n",
      "||Usando el ciclo For||\n",
      "1 Azul\n",
      "7 Verde\n",
      "3 Amarillo\n",
      "5 Negro\n",
      "8 Rojo\n",
      "6 Naranja\n",
      "11 Morado\n",
      "Usando otras funciones para el diccionario 'colores'.\n",
      "colores.keys(): dict_keys([1, 7, 3, 5, 8, 6, 11])\n",
      "colores.values(): dict_values(['Azul', 'Verde', 'Amarillo', 'Negro', 'Rojo', 'Naranja', 'Morado'])\n"
     ]
    }
   ],
   "source": [
    "colores = {\n",
    "    1: \"Azul\",\n",
    "    7: \"Verde\",\n",
    "    3: \"Amarillo\",\n",
    "    5: \"Negro\",\n",
    "    8: \"Rojo\",\n",
    "    6: \"Naranja\",\n",
    "    11: \"Morado\"\n",
    "    }\n",
    "\n",
    "print(colores)\n",
    "print(f\"len(colores): {len(colores)}\")\n",
    "# Usando el ciclo for\n",
    "print(\"||Usando el ciclo For||\")\n",
    "for i, j in colores.items():\n",
    "    print(i, j)\n",
    "\n",
    "print(\"Usando otras funciones para el diccionario 'colores'.\")\n",
    "print(f\"colores.keys(): {colores.keys()}\")\n",
    "print(f\"colores.values(): {colores.values()}\")"
   ]
  },
  {
   "cell_type": "code",
   "execution_count": 6,
   "metadata": {},
   "outputs": [
    {
     "name": "stdout",
     "output_type": "stream",
     "text": [
      "{1: 'Azul', 7: 'Verde', 3: 'Amarillo', 5: 'Negro', 8: 'Rojo', 6: 'Naranja', 11: 'Morado', 12: 'cafe'}\n"
     ]
    }
   ],
   "source": [
    "# Adicionar elementos al diccionario\n",
    "colores[12] = 'cafe'\n",
    "print(colores)"
   ]
  },
  {
   "cell_type": "code",
   "execution_count": 8,
   "metadata": {},
   "outputs": [
    {
     "name": "stdout",
     "output_type": "stream",
     "text": [
      "{1: 'Azul', 7: 'Verde', 3: 'Amarillo', 8: 'Rojo', 6: 'Naranja', 11: 'Morado', 12: 'cafe'}\n"
     ]
    }
   ],
   "source": [
    "# Eliminar elementos\n",
    "colores.pop(5, None)\n",
    "print(colores)"
   ]
  }
 ],
 "metadata": {
  "kernelspec": {
   "display_name": "Python 3",
   "language": "python",
   "name": "python3"
  },
  "language_info": {
   "codemirror_mode": {
    "name": "ipython",
    "version": 3
   },
   "file_extension": ".py",
   "mimetype": "text/x-python",
   "name": "python",
   "nbconvert_exporter": "python",
   "pygments_lexer": "ipython3",
   "version": "3.10.9"
  },
  "orig_nbformat": 4,
  "vscode": {
   "interpreter": {
    "hash": "56c0ef66eafa77f5621502488dc5c34eb637ad67328822495225a940efa104a9"
   }
  }
 },
 "nbformat": 4,
 "nbformat_minor": 2
}
