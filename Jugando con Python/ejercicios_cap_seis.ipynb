{
 "cells": [
  {
   "cell_type": "code",
   "execution_count": null,
   "metadata": {},
   "outputs": [],
   "source": [
    "# Ejercicio Nº1\n",
    "# Crear un módulo para validación de nombres de usuarios. Dicho módulo, deberá\n",
    "# cumplir con los siguientes criterios de aceptación:\n",
    "# • El nombre de usuario debe contener un mínimo de 6 caracteres y un máximo de 12\n",
    "# • El nombre de usuario debe ser alfanumérico\n",
    "# • Nombre de usuario con menos de 6 caracteres, retorna el mensaje “El nombre de\n",
    "# usuario debe contener al menos 6 caracteres”\n",
    "# • Nombre de usuario con más de 12 caracteres, retorna el mensaje “El nombre de\n",
    "# usuario no puede contener más de 12 caracteres”\n",
    "# • Nombre de usuario con caracteres distintos a los alfanuméricos, retorna el mensaje\n",
    "# “El nombre de usuario puede contener solo letras y números”\n",
    "# • Nombre de usuario válido, retorna True"
   ]
  },
  {
   "cell_type": "code",
   "execution_count": null,
   "metadata": {},
   "outputs": [],
   "source": [
    "# Ejercicio Nº2\n",
    "# Crear un módulo para validación de contraseñas. Dicho módulo, deberá cumplir con\n",
    "# los siguientes criterios de aceptación:\n",
    "# • La contraseña debe contener un mínimo de 8 caracteres\n",
    "# • Una contraseña debe contener letras minúsculas, mayúsculas, números y al menos\n",
    "# 1 carácter no alfanumérico\n",
    "# • La contraseña no puede contener espacios en blanco\n",
    "# • Contraseña válida, retorna True\n",
    "# • Contraseña no válida, retorna el mensaje “La contraseña elegida no es segura”"
   ]
  },
  {
   "cell_type": "code",
   "execution_count": null,
   "metadata": {},
   "outputs": [],
   "source": [
    "# Ejercicio Nº3\n",
    "# Crear un módulo que solicite al usuario el ingreso de un nombre de usuario y contraseña y\n",
    "# que los valide utilizando los módulos generados en los dos ejercicios anteriores.\n",
    "# Ayuda: para contar la cantidad de caracteres de una cadena, en Python se utiliza la\n",
    "# función incorporada: len(cadena)"
   ]
  }
 ],
 "metadata": {
  "language_info": {
   "name": "python"
  },
  "orig_nbformat": 4
 },
 "nbformat": 4,
 "nbformat_minor": 2
}
