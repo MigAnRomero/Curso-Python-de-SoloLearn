{
 "cells": [
  {
   "cell_type": "code",
   "execution_count": 12,
   "metadata": {},
   "outputs": [
    {
     "name": "stdout",
     "output_type": "stream",
     "text": [
      "Nombre de usuario digitado: Mig44Cueva\n",
      "Estatus: True\n"
     ]
    }
   ],
   "source": [
    "# Ejercicio Nº1\n",
    "# Crear un módulo para validación de nombres de usuarios. Dicho módulo, deberá\n",
    "# cumplir con los siguientes criterios de aceptación:\n",
    "# • El nombre de usuario debe contener un mínimo de 6 caracteres y un máximo de 12\n",
    "# • El nombre de usuario debe ser alfanumérico\n",
    "# • Nombre de usuario con menos de 6 caracteres, retorna el mensaje “El nombre de\n",
    "# usuario debe contener al menos 6 caracteres”\n",
    "# • Nombre de usuario con más de 12 caracteres, retorna el mensaje “El nombre de\n",
    "# usuario no puede contener más de 12 caracteres”\n",
    "# • Nombre de usuario con caracteres distintos a los alfanuméricos, retorna el mensaje\n",
    "# “El nombre de usuario puede contener solo letras y números”\n",
    "# • Nombre de usuario válido, retorna True\n",
    "def longitud_del_nombre(cadena):\n",
    "    \"\"\"Contar la cantidad de elementos de una cadena para el nombre del usuario\"\"\"\n",
    "    \n",
    "    if len(cadena) < 6:\n",
    "        return \"El nombre de usuario debe contener al menos 6 caracteres\"\n",
    "    elif len(cadena) > 12:\n",
    "        return \"El nombre de usuario no puede contener más 12 caracteres\"\n",
    "    else:\n",
    "        return True\n",
    "    \n",
    "def es_alfanumerico(cadena):\n",
    "    \"\"\"Función para saber si una cadena de texto es alfanumérica\"\"\"\n",
    "    \n",
    "    if cadena.isalnum() == True:\n",
    "        return longitud_del_nombre(cadena)\n",
    "    else:\n",
    "        return \"El nombre de usuario puede contener solo letras y números\"\n",
    "\n",
    "nombre = input(\"Digitar nombre: \")\n",
    "print(f\"Nombre de usuario digitado: {nombre}\\nEstatus: {es_alfanumerico(nombre)}\")\n",
    "# es_alfanumerico(nombre)"
   ]
  },
  {
   "cell_type": "code",
   "execution_count": null,
   "metadata": {},
   "outputs": [],
   "source": [
    "# Ejercicio Nº2\n",
    "# Crear un módulo para validación de contraseñas. Dicho módulo, deberá cumplir con\n",
    "# los siguientes criterios de aceptación:\n",
    "# • La contraseña debe contener un mínimo de 8 caracteres\n",
    "# • Una contraseña debe contener letras minúsculas, mayúsculas, números y al menos\n",
    "# 1 carácter no alfanumérico\n",
    "# • La contraseña no puede contener espacios en blanco\n",
    "# • Contraseña válida, retorna True\n",
    "# • Contraseña no válida, retorna el mensaje “La contraseña elegida no es segura”\n",
    "def longitud_de_la_clave(cadena):\n",
    "    \"\"\"Contar la cantidad de elementos de una cadena para la clave del usuario\"\"\"\n",
    "    \n",
    "    if len(cadena) < 8:\n",
    "        return \"La clave del usuario debe contener al menos 8 caracteres\"\n",
    "    else:\n",
    "        return True\n"
   ]
  },
  {
   "cell_type": "code",
   "execution_count": null,
   "metadata": {},
   "outputs": [],
   "source": [
    "# Ejercicio Nº3\n",
    "# Crear un módulo que solicite al usuario el ingreso de un nombre de usuario y contraseña y\n",
    "# que los valide utilizando los módulos generados en los dos ejercicios anteriores.\n",
    "# Ayuda: para contar la cantidad de caracteres de una cadena, en Python se utiliza la\n",
    "# función incorporada: len(cadena)"
   ]
  }
 ],
 "metadata": {
  "kernelspec": {
   "display_name": "Python 3.10.4 64-bit",
   "language": "python",
   "name": "python3"
  },
  "language_info": {
   "codemirror_mode": {
    "name": "ipython",
    "version": 3
   },
   "file_extension": ".py",
   "mimetype": "text/x-python",
   "name": "python",
   "nbconvert_exporter": "python",
   "pygments_lexer": "ipython3",
   "version": "3.10.4"
  },
  "orig_nbformat": 4,
  "vscode": {
   "interpreter": {
    "hash": "fb4569285eef3a3450cb62085a5b1e0da4bce0af555edc33dcf29baf3acc1368"
   }
  }
 },
 "nbformat": 4,
 "nbformat_minor": 2
}
