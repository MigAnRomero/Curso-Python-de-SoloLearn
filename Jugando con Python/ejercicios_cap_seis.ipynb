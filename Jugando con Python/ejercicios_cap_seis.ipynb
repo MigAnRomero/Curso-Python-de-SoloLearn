{
 "cells": [
  {
   "cell_type": "code",
   "execution_count": 12,
   "metadata": {},
   "outputs": [
    {
     "name": "stdout",
     "output_type": "stream",
     "text": [
      "Nombre de usuario digitado: Mig44Cueva\n",
      "Estatus: True\n"
     ]
    }
   ],
   "source": [
    "# Ejercicio Nº1\n",
    "# Crear un módulo para validación de nombres de usuarios. Dicho módulo, deberá\n",
    "# cumplir con los siguientes criterios de aceptación:\n",
    "# • El nombre de usuario debe contener un mínimo de 6 caracteres y un máximo de 12\n",
    "# • El nombre de usuario debe ser alfanumérico\n",
    "# • Nombre de usuario con menos de 6 caracteres, retorna el mensaje “El nombre de\n",
    "# usuario debe contener al menos 6 caracteres”\n",
    "# • Nombre de usuario con más de 12 caracteres, retorna el mensaje “El nombre de\n",
    "# usuario no puede contener más de 12 caracteres”\n",
    "# • Nombre de usuario con caracteres distintos a los alfanuméricos, retorna el mensaje\n",
    "# “El nombre de usuario puede contener solo letras y números”\n",
    "# • Nombre de usuario válido, retorna True\n",
    "def longitud_del_nombre(cadena):\n",
    "    \"\"\"Contar la cantidad de elementos de una cadena para el nombre del usuario\"\"\"\n",
    "    \n",
    "    if len(cadena) < 6:\n",
    "        return \"El nombre de usuario debe contener al menos 6 caracteres\"\n",
    "    elif len(cadena) > 12:\n",
    "        return \"El nombre de usuario no puede contener más 12 caracteres\"\n",
    "    else:\n",
    "        return True\n",
    "    \n",
    "def es_alfanumerico(cadena):\n",
    "    \"\"\"Función para saber si una cadena de texto es alfanumérica\"\"\"\n",
    "    \n",
    "    if cadena.isalnum() == True:\n",
    "        return longitud_del_nombre(cadena)\n",
    "    else:\n",
    "        return \"El nombre de usuario puede contener solo letras y números\"\n",
    "\n",
    "nombre = input(\"Digitar nombre: \")\n",
    "print(f\"Nombre de usuario digitado: {nombre}\\nEstatus: {es_alfanumerico(nombre)}\")\n",
    "# es_alfanumerico(nombre)"
   ]
  },
  {
   "cell_type": "code",
   "execution_count": 4,
   "metadata": {},
   "outputs": [
    {
     "name": "stdout",
     "output_type": "stream",
     "text": [
      "El nombre de usuario no puede contener más de 12 caracteres\n",
      "Nombre de usuario digitado: ddcbwdjcwjcjb2\n",
      "Estatus: None\n"
     ]
    }
   ],
   "source": [
    "# Otra forma de resolver el ejercicio uno:\n",
    "def nickname(nombre_usuario):\n",
    "\n",
    "        long = len(nombre_usuario)  # Calcular la longitud del nombre de usuario\n",
    "        y = nombre_usuario.isalnum()  # Calcula que la cadena contenga valores alfanuméricos\n",
    "        \n",
    "        if y == False:  # La cadena contiene valores no alfanuméricos\n",
    "            print(\"El nombre de usuario puede contener solo letras y números\")\n",
    "            \n",
    "        if long < 6: \n",
    "            print(\"El nombre de usuario debe contener al menos 6 caracteres\")\n",
    "            \n",
    "        if long > 12: \n",
    "            print(\"El nombre de usuario no puede contener más de 12 caracteres\")\n",
    "            \n",
    "        if long > 5 and long < 13 and y == True:\n",
    "            return True  # Verdadero si el tamaño es mayor a 5 y menor a 13\n",
    "        \n",
    "nombre = input(\"Digitar nombre: \")\n",
    "print(f\"Nombre de usuario digitado: {nombre}\\nEstatus: {nickname(nombre)}\")\n",
    "\n",
    "# Código sacado del siguiente enlace: http://pythoninicios.blogspot.com/2015/09/validar-usuario-y-contrasena-en-python.html"
   ]
  },
  {
   "cell_type": "code",
   "execution_count": 3,
   "metadata": {},
   "outputs": [
    {
     "name": "stdout",
     "output_type": "stream",
     "text": [
      "Mínimo 8 caracteres\n"
     ]
    }
   ],
   "source": [
    "# Ejercicio Nº2\n",
    "# Crear un módulo para validación de contraseñas. Dicho módulo, deberá cumplir con\n",
    "# los siguientes criterios de aceptación:\n",
    "# • La contraseña debe contener un mínimo de 8 caracteres\n",
    "# • Una contraseña debe contener letras minúsculas, mayúsculas, números y al menos\n",
    "# 1 carácter no alfanumérico\n",
    "# • La contraseña no puede contener espacios en blanco\n",
    "# • Contraseña válida, retorna True\n",
    "# • Contraseña no válida, retorna el mensaje “La contraseña elegida no es segura”\n",
    "\n",
    "# def longitud_de_la_clave(cadena):\n",
    "#     \"\"\"Contar la cantidad de elementos de una cadena para la clave del usuario\"\"\"\n",
    "    \n",
    "#     if len(cadena) < 8:\n",
    "#         return \"La clave del usuario debe contener al menos 8 caracteres\"\n",
    "#     else:\n",
    "#         return True\n",
    "\n",
    "def verificando_clave(password):\n",
    "\n",
    "        validar = False  #que se vayan cumpliendo los requisitos uno a uno.\n",
    "        long = len(password)  #Calcula la longitud de la contraseña\n",
    "        espacio = False  #variable para identificar espacios\n",
    "        mayuscula = False  #variable para identificar letras mayúsculas\n",
    "        minuscula = False  #variable para contar identificar letras minúsculas\n",
    "        numeros = False  #variable para identificar números\n",
    "        y = password.isalnum()  #si es alfanumérica retona True\n",
    "        correcto = True  #verifica que hayan mayuscula, minuscula, numeros y no alfanuméricos\n",
    "        \n",
    "        for carac in password:  #ciclo for que recorre caracter por caracter en la contraseña\n",
    "\n",
    "            if carac.isspace() == True:  #Saber si el caracter es un espacio\n",
    "                espacio = True  #si encuentra un espacio se cambia el valor user\n",
    "\n",
    "            if carac.isupper() == True:  #saber si hay mayuscula\n",
    "                mayuscula = True  #acumulador o contador de mayusculas\n",
    "                \n",
    "            if carac.islower() == True:  #saber si hay minúsculas\n",
    "                minuscula = True  #acumulador o contador de minúsculas\n",
    "                \n",
    "            if carac.isdigit() == True:  #saber si hay números\n",
    "                numeros = True  #acumulador o contador de numeros\n",
    "                            \n",
    "        if espacio == True:  #hay espacios en blanco\n",
    "                print(\"La contraseña no puede contener espacios\")\n",
    "        else:\n",
    "            validar = True  #se cumple el primer requisito que no hayan espacios\n",
    "                       \n",
    "        if long <8 and validar == True:\n",
    "            print(\"Mínimo 8 caracteres\")\n",
    "            validar = False  #cambia a Flase si no se cumple el requisito móinimo de caracteres\n",
    "\n",
    "        if mayuscula == True and minuscula == True and numeros == True and y == False and validar == True:\n",
    "           validar = True  #Cumple el requisito de tener mayuscula, minuscula, numeros y no alfanuméricos\n",
    "        else:\n",
    "           correcto = False  #uno o mas requisitos de mayuscula, minuscula, numeros y no alfanuméricos no se cumple\n",
    "           \n",
    "        if validar == True and correcto == False:\n",
    "           print(\"La contraseña elegida no es segura: debe contener letras minúsculas, mayúsculas, números y al menos 1 carácter no alfanumérico\")\n",
    "\n",
    "        if validar == True and correcto == True:\n",
    "           return True\n",
    "\n",
    "contra = input(\"Digitar contraseña: \")\n",
    "verificando_clave(contra)\n",
    "\n",
    "# Código sacado del siguiente enlace: http://pythoninicios.blogspot.com/2015/09/validar-usuario-y-contrasena-en-python.html"
   ]
  },
  {
   "cell_type": "code",
   "execution_count": null,
   "metadata": {},
   "outputs": [],
   "source": [
    "# Ejercicio Nº3\n",
    "# Crear un módulo que solicite al usuario el ingreso de un nombre de usuario y contraseña y\n",
    "# que los valide utilizando los módulos generados en los dos ejercicios anteriores.\n",
    "# Ayuda: para contar la cantidad de caracteres de una cadena, en Python se utiliza la\n",
    "# función incorporada: len(cadena)"
   ]
  }
 ],
 "metadata": {
  "kernelspec": {
   "display_name": "Python 3.10.4 64-bit",
   "language": "python",
   "name": "python3"
  },
  "language_info": {
   "codemirror_mode": {
    "name": "ipython",
    "version": 3
   },
   "file_extension": ".py",
   "mimetype": "text/x-python",
   "name": "python",
   "nbconvert_exporter": "python",
   "pygments_lexer": "ipython3",
   "version": "3.10.4"
  },
  "orig_nbformat": 4,
  "vscode": {
   "interpreter": {
    "hash": "fb4569285eef3a3450cb62085a5b1e0da4bce0af555edc33dcf29baf3acc1368"
   }
  }
 },
 "nbformat": 4,
 "nbformat_minor": 2
}
