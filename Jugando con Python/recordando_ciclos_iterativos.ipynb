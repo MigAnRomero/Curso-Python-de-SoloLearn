{
 "cells": [
  {
   "cell_type": "code",
   "execution_count": 1,
   "metadata": {},
   "outputs": [
    {
     "name": "stdout",
     "output_type": "stream",
     "text": [
      "Informes del Año 2001\n",
      "Informes del Año 2002\n",
      "Informes del Año 2003\n",
      "Informes del Año 2004\n",
      "Informes del Año 2005\n",
      "Informes del Año 2006\n",
      "Informes del Año 2007\n",
      "Informes del Año 2008\n",
      "Informes del Año 2009\n",
      "Informes del Año 2010\n",
      "Informes del Año 2011\n",
      "Informes del Año 2012\n"
     ]
    }
   ],
   "source": [
    "# Bucle while\n",
    "# Mientras que año sea menor o igual a 2012, imprimir la frase\n",
    "# “Informes del Año año\n",
    "anio = 2001\n",
    "while anio <= 2012:\n",
    "    print(\"Informes del Año\", str(anio))\n",
    "    anio += 1"
   ]
  },
  {
   "cell_type": "code",
   "execution_count": 5,
   "metadata": {},
   "outputs": [
    {
     "name": "stdout",
     "output_type": "stream",
     "text": [
      "\n",
      "\n",
      "\n",
      "\n",
      "\n",
      "Asdfg\n"
     ]
    }
   ],
   "source": [
    "# Bucle repetitivo hasta que el usuario digite algún nombre\n",
    "while True:\n",
    "    nombre = input(\"Indique su nombre: \")\n",
    "    print(nombre)\n",
    "    if nombre:\n",
    "        break"
   ]
  },
  {
   "cell_type": "code",
   "execution_count": 5,
   "metadata": {},
   "outputs": [
    {
     "name": "stdout",
     "output_type": "stream",
     "text": [
      "Conteo: 1 word: paso1\n",
      "Conteo: 2 word: pasó2\n",
      "Conteo: 3 word: vnjfvnnvk\n",
      "Conteo: 4 word: python\n",
      "Correct!\n"
     ]
    }
   ],
   "source": [
    "# Emular el bucle do while en Python\n",
    "# Para crear un bucle do while en Python, se debe modificar while un poco para obtener \n",
    "# un comportamiento similar al de un do while en otros idiomas.\n",
    "\n",
    "# Como repaso hasta ahora, un do while se ejecutará al menos una vez. Si se \n",
    "# cumple la condición, entonces se ejecutará de nuevo.\n",
    "\n",
    "# El bucle while, por otro lado, no se ejecuta al menos una vez y, de hecho, es \n",
    "# posible que nunca se ejecute. Se ejecuta cuando y solo cuando se cumple la condición.\n",
    "\n",
    "# Entonces, digamos que tenemos un ejemplo en el que queremos que una línea de código \n",
    "# se ejecute al menos una vez.\n",
    "secret_word = \"python\"\n",
    "counter = 0\n",
    "\n",
    "while True:\n",
    "    word = input(\"Enter the secret word: \").lower()\n",
    "    counter += 1\n",
    "    print(f\"Conteo: {counter} word: {word}\")\n",
    "    if word == secret_word:\n",
    "        print(\"Correct!\")\n",
    "        break\n",
    "    if word != secret_word and counter > 7:\n",
    "        print(\"Fail!!\") \n",
    "        break"
   ]
  },
  {
   "cell_type": "code",
   "execution_count": 6,
   "metadata": {},
   "outputs": [
    {
     "name": "stdout",
     "output_type": "stream",
     "text": [
      "1\n",
      "2\n",
      "4\n",
      "5\n",
      "6\n"
     ]
    }
   ],
   "source": [
    "i = 0\n",
    "while i < 6:\n",
    "  i += 1\n",
    "  if i == 3:\n",
    "    continue\n",
    "  print(i)\n",
    "\n",
    "# Note that number 3 is missing in the result"
   ]
  },
  {
   "cell_type": "code",
   "execution_count": 7,
   "metadata": {},
   "outputs": [
    {
     "name": "stdout",
     "output_type": "stream",
     "text": [
      "1\n",
      "2\n",
      "3\n",
      "4\n",
      "5\n",
      "i is no longer less than 6\n"
     ]
    }
   ],
   "source": [
    "i = 1\n",
    "while i < 6:\n",
    "  print(i)\n",
    "  i += 1\n",
    "else:\n",
    "  print(\"i is no longer less than 6\")"
   ]
  }
 ],
 "metadata": {
  "kernelspec": {
   "display_name": "Python 3.10.4 64-bit",
   "language": "python",
   "name": "python3"
  },
  "language_info": {
   "codemirror_mode": {
    "name": "ipython",
    "version": 3
   },
   "file_extension": ".py",
   "mimetype": "text/x-python",
   "name": "python",
   "nbconvert_exporter": "python",
   "pygments_lexer": "ipython3",
   "version": "3.10.4"
  },
  "orig_nbformat": 4,
  "vscode": {
   "interpreter": {
    "hash": "fb4569285eef3a3450cb62085a5b1e0da4bce0af555edc33dcf29baf3acc1368"
   }
  }
 },
 "nbformat": 4,
 "nbformat_minor": 2
}
