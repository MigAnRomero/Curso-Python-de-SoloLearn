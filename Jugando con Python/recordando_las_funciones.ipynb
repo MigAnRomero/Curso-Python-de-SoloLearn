{
 "cells": [
  {
   "cell_type": "code",
   "execution_count": 2,
   "metadata": {},
   "outputs": [
    {
     "name": "stdout",
     "output_type": "stream",
     "text": [
      "Hola mundo\n",
      "Hola mundo dos\n"
     ]
    }
   ],
   "source": [
    "# En Python, la definición de funciones se realiza mediante la instrucción def más un\n",
    "# nombre de función descriptivo -para el cuál, aplican las mismas reglas que para el nombre\n",
    "# de las variables- seguido de paréntesis de apertura y cierre. Como toda estructura de\n",
    "# control en Python, la definición de la función finaliza con dos puntos (:) y el algoritmo que\n",
    "# la compone, irá identado con 4 espacios:\n",
    "# def mi_funcion():\n",
    "#     aquí el algoritmo\n",
    "# Una función, no es ejecutada hasta tanto no sea invocada. Para invocar una función,\n",
    "# simplemente se la llama por su nombre:\n",
    "def mi_funcion():\n",
    "    print(\"Hola mundo\")\n",
    "\n",
    "mi_funcion()\n",
    "# Cuando una función, haga un retorno de datos, éstos, pueden ser asignados a una\n",
    "# variable:\n",
    "def mi_funcion_dos():\n",
    "    return \"Hola mundo dos\"\n",
    "\n",
    "frase = mi_funcion_dos()\n",
    "print(frase)"
   ]
  },
  {
   "cell_type": "code",
   "execution_count": 4,
   "metadata": {},
   "outputs": [
    {
     "name": "stdout",
     "output_type": "stream",
     "text": [
      "('Leonardo', 'Da Vinci')\n",
      "('Alex', 'El Grande')\n"
     ]
    }
   ],
   "source": [
    "# Un parámetro es un valor que la función espera recibir cuando sea llamada (invocada), a\n",
    "# fin de ejecutar acciones en base al mismo. Una función puede esperar uno o más\n",
    "# parámetros (que irán separados por una coma) o ninguno.\n",
    "# def mi_funcion(nombre, apellido):\n",
    "#     algoritmo\n",
    "\n",
    "# Los parámetros que una función espera, serán utilizados por esta, dentro de su algoritmo,\n",
    "# a modo de variables de ámbito local. Es decir, que los parámetros serán variables\n",
    "# locales, a las cuáles solo la función podrá acceder:\n",
    "def mi_funcion_tres(nombre, apellido):\n",
    "    nombre_completo = nombre, apellido\n",
    "    print(nombre_completo)\n",
    "\n",
    "mi_funcion_tres(\"Leonardo\", \"Da Vinci\")\n",
    "\n",
    "nom = input(\"Digitar nombre: \")\n",
    "ape = input(\"Digitar apellido: \")\n",
    "mi_funcion_tres(nom, ape)\n",
    "\n",
    "# Si quisiéramos acceder a esas variables locales, fuera de la función, obtendríamos un\n",
    "# error:\n",
    "# def mi_funcion(nombre, apellido):\n",
    "#     nombre_completo = nombre, apellido\n",
    "#     print(nombre_completo)\n",
    "# print(nombre) # Retornará el error: NameError: name 'nombre' is not defined"
   ]
  },
  {
   "cell_type": "code",
   "execution_count": 5,
   "metadata": {},
   "outputs": [
    {
     "name": "stdout",
     "output_type": "stream",
     "text": [
      "Hola Pepe Grillo\n",
      "Hola Mazda Alegro\n",
      "Hola Bocachin!\n"
     ]
    }
   ],
   "source": [
    "# Parámetros por omisión\n",
    "# En Python, también es posible, asignar valores por defecto a los parámetros de las\n",
    "# funciones. Esto significa, que la función podrá ser llamada con menos argumentos de los\n",
    "# que espera:\n",
    "def saludar(nombre, mensaje='Hola'):\n",
    "    print(mensaje, nombre)\n",
    "\n",
    "saludar('Pepe Grillo') # Imprime: Hola Pepe Grillo\n",
    "saludar(\"Mazda Alegro\")\n",
    "saludar(\"Bocachin!\")\n",
    "\n",
    "# PEP 8: Funciones\n",
    "# A la definición de una función la deben anteceder dos líneas en blanco.\n",
    "# Al asignar parámetros por omisión, no debe dejarse espacios en blanco ni antes ni después del signo =."
   ]
  }
 ],
 "metadata": {
  "kernelspec": {
   "display_name": "Python 3.10.4 64-bit",
   "language": "python",
   "name": "python3"
  },
  "language_info": {
   "codemirror_mode": {
    "name": "ipython",
    "version": 3
   },
   "file_extension": ".py",
   "mimetype": "text/x-python",
   "name": "python",
   "nbconvert_exporter": "python",
   "pygments_lexer": "ipython3",
   "version": "3.10.4"
  },
  "orig_nbformat": 4,
  "vscode": {
   "interpreter": {
    "hash": "fb4569285eef3a3450cb62085a5b1e0da4bce0af555edc33dcf29baf3acc1368"
   }
  }
 },
 "nbformat": 4,
 "nbformat_minor": 2
}
