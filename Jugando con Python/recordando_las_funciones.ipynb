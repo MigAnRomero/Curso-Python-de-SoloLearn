{
 "cells": [
  {
   "cell_type": "code",
   "execution_count": 2,
   "metadata": {},
   "outputs": [
    {
     "name": "stdout",
     "output_type": "stream",
     "text": [
      "Hola mundo\n",
      "Hola mundo dos\n"
     ]
    }
   ],
   "source": [
    "# En Python, la definición de funciones se realiza mediante la instrucción def más un\n",
    "# nombre de función descriptivo -para el cuál, aplican las mismas reglas que para el nombre\n",
    "# de las variables- seguido de paréntesis de apertura y cierre. Como toda estructura de\n",
    "# control en Python, la definición de la función finaliza con dos puntos (:) y el algoritmo que\n",
    "# la compone, irá identado con 4 espacios:\n",
    "# def mi_funcion():\n",
    "#     aquí el algoritmo\n",
    "# Una función, no es ejecutada hasta tanto no sea invocada. Para invocar una función,\n",
    "# simplemente se la llama por su nombre:\n",
    "def mi_funcion():\n",
    "    print(\"Hola mundo\")\n",
    "\n",
    "mi_funcion()\n",
    "# Cuando una función, haga un retorno de datos, éstos, pueden ser asignados a una\n",
    "# variable:\n",
    "def mi_funcion_dos():\n",
    "    return \"Hola mundo dos\"\n",
    "\n",
    "frase = mi_funcion_dos()\n",
    "print(frase)"
   ]
  },
  {
   "cell_type": "code",
   "execution_count": 4,
   "metadata": {},
   "outputs": [
    {
     "name": "stdout",
     "output_type": "stream",
     "text": [
      "('Leonardo', 'Da Vinci')\n",
      "('Alex', 'El Grande')\n"
     ]
    }
   ],
   "source": [
    "# Un parámetro es un valor que la función espera recibir cuando sea llamada (invocada), a\n",
    "# fin de ejecutar acciones en base al mismo. Una función puede esperar uno o más\n",
    "# parámetros (que irán separados por una coma) o ninguno.\n",
    "# def mi_funcion(nombre, apellido):\n",
    "#     algoritmo\n",
    "\n",
    "# Los parámetros que una función espera, serán utilizados por esta, dentro de su algoritmo,\n",
    "# a modo de variables de ámbito local. Es decir, que los parámetros serán variables\n",
    "# locales, a las cuáles solo la función podrá acceder:\n",
    "def mi_funcion_tres(nombre, apellido):\n",
    "    nombre_completo = nombre, apellido\n",
    "    print(nombre_completo)\n",
    "\n",
    "mi_funcion_tres(\"Leonardo\", \"Da Vinci\")\n",
    "\n",
    "nom = input(\"Digitar nombre: \")\n",
    "ape = input(\"Digitar apellido: \")\n",
    "mi_funcion_tres(nom, ape)\n",
    "\n",
    "# Si quisiéramos acceder a esas variables locales, fuera de la función, obtendríamos un\n",
    "# error:\n",
    "# def mi_funcion(nombre, apellido):\n",
    "#     nombre_completo = nombre, apellido\n",
    "#     print(nombre_completo)\n",
    "# print(nombre)  # Retornará el error: NameError: name 'nombre' is not defined"
   ]
  },
  {
   "cell_type": "code",
   "execution_count": 5,
   "metadata": {},
   "outputs": [
    {
     "name": "stdout",
     "output_type": "stream",
     "text": [
      "Hola Pepe Grillo\n",
      "Hola Mazda Alegro\n",
      "Hola Bocachin!\n"
     ]
    }
   ],
   "source": [
    "# Parámetros por omisión\n",
    "# En Python, también es posible, asignar valores por defecto a los parámetros de las\n",
    "# funciones. Esto significa, que la función podrá ser llamada con menos argumentos de los\n",
    "# que espera:\n",
    "def saludar(nombre, mensaje='Hola'):\n",
    "    print(mensaje, nombre)\n",
    "\n",
    "saludar('Pepe Grillo') # Imprime: Hola Pepe Grillo\n",
    "saludar(\"Mazda Alegro\")\n",
    "saludar(\"Bocachin!\")\n",
    "\n",
    "# PEP 8: Funciones\n",
    "# A la definición de una función la deben anteceder dos líneas en blanco.\n",
    "# Al asignar parámetros por omisión, no debe dejarse espacios en blanco ni antes ni después del signo =."
   ]
  },
  {
   "cell_type": "code",
   "execution_count": 7,
   "metadata": {},
   "outputs": [
    {
     "name": "stdout",
     "output_type": "stream",
     "text": [
      "Buen día Juancho\n"
     ]
    }
   ],
   "source": [
    "# Keywords como parámetros\n",
    "# En Python, también es posible llamar a una función, pasándole los argumentos\n",
    "# esperados, como pares de claves=valor:\n",
    "def saludar_dos(nom, mensaje='Hola'):\n",
    "    print(mensaje, nom)\n",
    "\n",
    "saludar_dos(mensaje=\"Buen día\", nom=\"Juancho\")"
   ]
  },
  {
   "cell_type": "code",
   "execution_count": 8,
   "metadata": {},
   "outputs": [
    {
     "name": "stdout",
     "output_type": "stream",
     "text": [
      "Fixed\n",
      "arbitrario 1\n",
      "arbitrario 2\n",
      "arbitrario 3\n",
      "Bug 1\n",
      "Bug 2\n",
      "Bug n\n"
     ]
    }
   ],
   "source": [
    "# Parámetros arbitrarios\n",
    "# Al igual que en otros lenguajes de alto nivel, es posible que una función, espere recibir un\n",
    "# número arbitrario -desconocido- de argumentos. Estos argumentos, llegarán a la función\n",
    "# en forma de tupla.\n",
    "# Para definir argumentos arbitrarios en una función, se antecede al parámetro un asterisco\n",
    "# (*):\n",
    "def recorrer_parametros_arbitrarios(parametro_fijo, *arbitrarios):\n",
    "    print(parametro_fijo)\n",
    "    # Los parámetros arbitrarios se corren como tuplas\n",
    "    for argumento in arbitrarios:\n",
    "        print(argumento)\n",
    "        \n",
    "recorrer_parametros_arbitrarios('Fixed', 'arbitrario 1', 'arbitrario 2', 'arbitrario 3', \n",
    "                                'Bug 1', 'Bug 2', 'Bug n')\n",
    "\n",
    "# NOTA: Si una función espera recibir parámetros fijos y arbitrarios, los arbitrarios siempre deben suceder a\n",
    "# los fijos."
   ]
  },
  {
   "cell_type": "code",
   "execution_count": 10,
   "metadata": {},
   "outputs": [
    {
     "name": "stdout",
     "output_type": "stream",
     "text": [
      "Fixed\n",
      "arbitrario 1\n",
      "arbitrario 2\n",
      "arbitrario 3\n",
      "El valor de clave1 es valor uno\n",
      "El valor de clave2 es valor dos\n",
      "El valor de clave3 es Holanda\n",
      "El valor de bug1 es Error 1\n",
      "El valor de caja1 es caja vacía\n"
     ]
    }
   ],
   "source": [
    "# Es posible también, obtener parámetros arbitrarios como pares de clave=valor. En estos\n",
    "# casos, al nombre del parámetro deben precederlo dos astericos (**):\n",
    "def recorrer_parametros_arbitrarios_dos(parametro_fijo, *arbitrarios, **kwords):\n",
    "    print(parametro_fijo)\n",
    "    for argumento in arbitrarios:\n",
    "        print(argumento)\n",
    "    \n",
    "    # Los argumentos arbitrarios tipo clave, se recorren como los diccionarios\n",
    "    for clave in kwords:\n",
    "        print(\"El valor de\", clave, \"es\", kwords[clave])\n",
    "\n",
    "recorrer_parametros_arbitrarios_dos(\"Fixed\", \"arbitrario 1\", \"arbitrario 2\", \"arbitrario 3\", \n",
    "                                    clave1=\"valor uno\", clave2=\"valor dos\", \n",
    "                                    clave3=\"Holanda\", bug1=\"Error 1\", caja1=\"caja vacía\")"
   ]
  },
  {
   "cell_type": "code",
   "execution_count": 1,
   "metadata": {},
   "outputs": [
    {
     "name": "stdout",
     "output_type": "stream",
     "text": [
      "1350.0\n"
     ]
    }
   ],
   "source": [
    "# Desempaquetado de parámetros\n",
    "# Puede ocurrir además, una situación inversa a la anterior. Es decir, que la función espere\n",
    "# una lista fija de parámetros, pero que éstos, en vez de estar disponibles de forma\n",
    "# separada, se encuentren contenidos en una lista o tupla. En este caso, el signo asterisco\n",
    "# (*) deberá preceder al nombre de la lista o tupla que es pasada como parámetro durante\n",
    "# la llamada a la función:\n",
    "def calcular(importe, descuento):\n",
    "    return importe - (importe * descuento / 100)\n",
    "\n",
    "datos = [1500, 10]  # La salida es el resultado de: 1500 - (1500 * 10 / 100); 1500 - 150\n",
    "print(calcular(*datos))"
   ]
  },
  {
   "cell_type": "code",
   "execution_count": 4,
   "metadata": {},
   "outputs": [
    {
     "name": "stdout",
     "output_type": "stream",
     "text": [
      "1350.0\n",
      "1350.0\n"
     ]
    },
    {
     "ename": "TypeError",
     "evalue": "calcular_diccionario() got an unexpected keyword argument 'descueNto'",
     "output_type": "error",
     "traceback": [
      "\u001b[1;31m---------------------------------------------------------------------------\u001b[0m",
      "\u001b[1;31mTypeError\u001b[0m                                 Traceback (most recent call last)",
      "\u001b[1;32mc:\\Users\\user\\Documents\\Archivos de VSC\\PYTHON\\Curso_Python_SoloLearn\\Jugando con Python\\recordando_las_funciones.ipynb Celda 8\u001b[0m in \u001b[0;36m<cell line: 12>\u001b[1;34m()\u001b[0m\n\u001b[0;32m     <a href='vscode-notebook-cell:/c%3A/Users/user/Documents/Archivos%20de%20VSC/PYTHON/Curso_Python_SoloLearn/Jugando%20con%20Python/recordando_las_funciones.ipynb#ch0000007?line=9'>10</a>\u001b[0m \u001b[39mprint\u001b[39m(calcular_diccionario(\u001b[39m*\u001b[39m\u001b[39m*\u001b[39mdatos_dos))\n\u001b[0;32m     <a href='vscode-notebook-cell:/c%3A/Users/user/Documents/Archivos%20de%20VSC/PYTHON/Curso_Python_SoloLearn/Jugando%20con%20Python/recordando_las_funciones.ipynb#ch0000007?line=10'>11</a>\u001b[0m datos_dos \u001b[39m=\u001b[39m {\u001b[39m\"\u001b[39m\u001b[39mimporte\u001b[39m\u001b[39m\"\u001b[39m: \u001b[39m1500\u001b[39m, \u001b[39m\"\u001b[39m\u001b[39mdescueNto\u001b[39m\u001b[39m\"\u001b[39m: \u001b[39m10\u001b[39m}\n\u001b[1;32m---> <a href='vscode-notebook-cell:/c%3A/Users/user/Documents/Archivos%20de%20VSC/PYTHON/Curso_Python_SoloLearn/Jugando%20con%20Python/recordando_las_funciones.ipynb#ch0000007?line=11'>12</a>\u001b[0m \u001b[39mprint\u001b[39m(calcular_diccionario(\u001b[39m*\u001b[39m\u001b[39m*\u001b[39mdatos_dos))\n",
      "\u001b[1;31mTypeError\u001b[0m: calcular_diccionario() got an unexpected keyword argument 'descueNto'"
     ]
    }
   ],
   "source": [
    "# El mismo caso puede darse cuando los valores a ser pasados como parámetros a una\n",
    "# función, se encuentren disponibles en un diccionario. Aquí, deberán pasarse a la función,\n",
    "# precedidos de dos asteriscos (**):\n",
    "def calcular_diccionario(importe, descuento):\n",
    "    return importe - (importe * descuento / 100)\n",
    "\n",
    "datos_dos = {\"descuento\": 10, \"importe\": 1500}\n",
    "print(calcular_diccionario(**datos_dos))\n",
    "datos_dos = {\"importe\": 1500, \"descuento\": 10}\n",
    "print(calcular_diccionario(**datos_dos))\n",
    "datos_dos = {\"importe\": 1500, \"descueNto\": 10}  # La salida vota error al digitar mal la clave para el parámetro \"descuento\"\n",
    "print(calcular_diccionario(**datos_dos))\n"
   ]
  }
 ],
 "metadata": {
  "kernelspec": {
   "display_name": "Python 3.10.4 64-bit",
   "language": "python",
   "name": "python3"
  },
  "language_info": {
   "codemirror_mode": {
    "name": "ipython",
    "version": 3
   },
   "file_extension": ".py",
   "mimetype": "text/x-python",
   "name": "python",
   "nbconvert_exporter": "python",
   "pygments_lexer": "ipython3",
   "version": "3.10.4"
  },
  "orig_nbformat": 4,
  "vscode": {
   "interpreter": {
    "hash": "fb4569285eef3a3450cb62085a5b1e0da4bce0af555edc33dcf29baf3acc1368"
   }
  }
 },
 "nbformat": 4,
 "nbformat_minor": 2
}
