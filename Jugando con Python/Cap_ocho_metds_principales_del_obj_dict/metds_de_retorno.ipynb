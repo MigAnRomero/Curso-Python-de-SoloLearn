{
 "cells": [
  {
   "cell_type": "code",
   "execution_count": 3,
   "metadata": {},
   "outputs": [
    {
     "name": "stdout",
     "output_type": "stream",
     "text": [
      "rosa\n",
      "None\n",
      "sin stock\n"
     ]
    }
   ],
   "source": [
    "# Obtener el valor de una clave\n",
    "# Método: get(clave[, “valor x defecto si la clave no existe”])\n",
    "remera = {'color': 'rosa', 'marca': 'Zara', 'talle': 'U'}\n",
    "print(remera.get(\"color\"))\n",
    "# 'rosa'\n",
    "print(remera.get(\"stock\"))\n",
    "print(remera.get(\"stock\", \"sin stock\"))\n",
    "# 'sin stock"
   ]
  },
  {
   "cell_type": "code",
   "execution_count": 5,
   "metadata": {},
   "outputs": [
    {
     "ename": "AttributeError",
     "evalue": "'dict' object has no attribute 'has_key'",
     "output_type": "error",
     "traceback": [
      "\u001b[1;31m---------------------------------------------------------------------------\u001b[0m",
      "\u001b[1;31mAttributeError\u001b[0m                            Traceback (most recent call last)",
      "\u001b[1;32m<ipython-input-5-b5667795a6ae>\u001b[0m in \u001b[0;36m<module>\u001b[1;34m\u001b[0m\n\u001b[0;32m      1\u001b[0m \u001b[1;31m# Saber si una clave existe en el diccionario\u001b[0m\u001b[1;33m\u001b[0m\u001b[1;33m\u001b[0m\u001b[1;33m\u001b[0m\u001b[0m\n\u001b[0;32m      2\u001b[0m \u001b[1;31m# Método: has_key(clave)\u001b[0m\u001b[1;33m\u001b[0m\u001b[1;33m\u001b[0m\u001b[1;33m\u001b[0m\u001b[0m\n\u001b[1;32m----> 3\u001b[1;33m \u001b[0mexiste\u001b[0m \u001b[1;33m=\u001b[0m \u001b[0mremera\u001b[0m\u001b[1;33m.\u001b[0m\u001b[0mhas_key\u001b[0m\u001b[1;33m(\u001b[0m\u001b[1;34m\"precio\"\u001b[0m\u001b[1;33m)\u001b[0m\u001b[1;33m\u001b[0m\u001b[1;33m\u001b[0m\u001b[0m\n\u001b[0m\u001b[0;32m      4\u001b[0m \u001b[0mprint\u001b[0m\u001b[1;33m(\u001b[0m\u001b[0mexiste\u001b[0m\u001b[1;33m)\u001b[0m\u001b[1;33m\u001b[0m\u001b[1;33m\u001b[0m\u001b[0m\n\u001b[0;32m      5\u001b[0m \u001b[1;31m# False\u001b[0m\u001b[1;33m\u001b[0m\u001b[1;33m\u001b[0m\u001b[1;33m\u001b[0m\u001b[0m\n",
      "\u001b[1;31mAttributeError\u001b[0m: 'dict' object has no attribute 'has_key'"
     ]
    }
   ],
   "source": [
    "# Saber si una clave existe en el diccionario\n",
    "# Método: has_key(clave)\n",
    "existe = remera.has_key(\"precio\")\n",
    "print(existe)\n",
    "# False\n",
    "# existe = remera.has_key(\"color\")\n",
    "# print(existe)\n",
    "# # True"
   ]
  },
  {
   "cell_type": "code",
   "execution_count": 1,
   "metadata": {},
   "outputs": [
    {
     "name": "stdout",
     "output_type": "stream",
     "text": [
      "Dictionary: {1: 'Geeks', 2: 'For', 3: 'Geeks'}\n",
      "Geeks\n",
      "5 is Absent\n"
     ]
    }
   ],
   "source": [
    "# El método has_key() fue removido en Python 3. Por eso no funciona.\n",
    "\n",
    "# Por tanto, se hace uso del operador \"in\" como se indica en el enlace: https://www.geeksforgeeks.org/python-dictionary-has_key/\n",
    "# --------------------------------------------\n",
    "# Python Program to search a key in Dictionary\n",
    "# Using in operator\n",
    "\n",
    "dictionary = {1: \"Geeks\", 2: \"For\", 3: \"Geeks\"}\n",
    "\n",
    "print(\"Dictionary: {}\".format(dictionary))\n",
    "\n",
    "# Return True if Present.\n",
    "if 1 in dictionary: # or \"dictionary.keys()\"\n",
    "\tprint(dictionary[1])\n",
    "else:\n",
    "\tprint(\"{} is Absent\".format(1))\n",
    "\n",
    "\n",
    "# Return False if not Present.\n",
    "if 5 in dictionary.keys():\n",
    "\tprint(dictionary[5])\n",
    "else:\n",
    "\tprint(\"{} is Absent\".format(5))"
   ]
  },
  {
   "cell_type": "code",
   "execution_count": 3,
   "metadata": {},
   "outputs": [
    {
     "name": "stdout",
     "output_type": "stream",
     "text": [
      "dict_keys(['Calamar', 'Tiburón', 'Mantarraya', 'Pulpo'])\n",
      "dict_keys(['Xbox', 'PS', 'PS2', 'Xbox 360', 'Xbox One', 'PSP'])\n"
     ]
    }
   ],
   "source": [
    "# The keys() method in Python Dictionary, returns a view object that displays a list of all \n",
    "# the keys in the dictionary in order of insertion using Python.\n",
    "\n",
    "# Syntax: dict.keys()\n",
    "\n",
    "# Parameters: There are no parameters.\n",
    "\n",
    "# Returns: A view object is returned that displays all the keys. This view object changes \n",
    "# according to the changes in the dictionary.\n",
    "\n",
    "acuario = {\"Calamar\": 1, \"Tiburón\": 4, \"Mantarraya\": 2, \"Pulpo\": 5}\n",
    "consolas = {\"Xbox\": 1, \"PS\": 2, \"PS2\": 1, \"Xbox 360\": 0, \"Xbox One\": 1, \"PSP\": 10}\n",
    "\n",
    "print(acuario.keys())\n",
    "print(consolas.keys())\n",
    "\n",
    "# Fuente: https://www.geeksforgeeks.org/python-dictionary-keys-method/"
   ]
  },
  {
   "cell_type": "code",
   "execution_count": 6,
   "metadata": {},
   "outputs": [
    {
     "name": "stdout",
     "output_type": "stream",
     "text": [
      "dict_keys(['A', 'B', 'C'])\n",
      "<class 'dict_keys'>\n",
      "<class 'dict'>\n"
     ]
    }
   ],
   "source": [
    "# Method 1: Accessing the key using the keys() function\n",
    "# A simple example to show how the keys() function works in the dictionary.\n",
    "\n",
    "# Dictionary with three keys\n",
    "Dictionary1 = {'A': 'Geeks', 'B': 'For', 'C': 'Geeks'}\n",
    "\n",
    "# Printing keys of dictionary\n",
    "print(Dictionary1.keys())\n",
    "print(type(Dictionary1.keys()))\n",
    "print(type(acuario))\n"
   ]
  },
  {
   "cell_type": "code",
   "execution_count": 10,
   "metadata": {},
   "outputs": [
    {
     "name": "stdout",
     "output_type": "stream",
     "text": [
      "2nd key using keys() :  for \n",
      "list(acuario.keys())[0]:  Calamar \n",
      "list(consolas.keys())[0]:  Xbox\n",
      "<class 'list'> \n",
      "list(consolas.keys()):  ['Xbox', 'PS', 'PS2', 'Xbox 360', 'Xbox One', 'PSP']\n"
     ]
    }
   ],
   "source": [
    "# Method 3: Accessing key using keys() indexing\n",
    "# Here, we first extracted all the keys and then we implicitly converted them \n",
    "# into the Python list to access the element from it.\n",
    "\n",
    "# initializing dictionary\n",
    "test_dict = {\"geeks\": 7, \"for\": 1, \"geeks\": 2}\n",
    "\n",
    "# accessing 2nd element using keys()\n",
    "print('2nd key using keys() : ', list(test_dict.keys())[1], '\\nlist(acuario.keys())[0]: ', list(acuario.keys())[0],\n",
    "      '\\nlist(consolas.keys())[0]: ', list(consolas.keys())[0])\n",
    "\n",
    "print(type(list(consolas.keys())), \"\\nlist(consolas.keys()): \", list(consolas.keys()))"
   ]
  },
  {
   "cell_type": "code",
   "execution_count": 11,
   "metadata": {},
   "outputs": [
    {
     "name": "stdout",
     "output_type": "stream",
     "text": [
      "Keys before Dictionary Updation:\n",
      "dict_keys(['A', 'B']) \n",
      " dict_keys(['Calamar', 'Tiburón', 'Mantarraya', 'Pulpo']) \n",
      " dict_keys(['Xbox', 'PS', 'PS2', 'Xbox 360', 'Xbox One', 'PSP'])\n",
      "\n",
      "After dictionary is updated:\n",
      "dict_keys(['A', 'B', 'C']) \n",
      " dict_keys(['Calamar', 'Tiburón', 'Mantarraya', 'Pulpo', 'Medusa']) \n",
      " dict_keys(['Xbox', 'PS', 'PS2', 'Xbox 360', 'Xbox One', 'PSP', 'Gameboy', 'PSP Vita'])\n"
     ]
    }
   ],
   "source": [
    "# Method 4: Python Dictionary update() function\n",
    "# To show how to update the dictionary keys using the update() function. Here, when the dictionary is updated, \n",
    "# keys are also automatically updated to show the changes.\n",
    "\n",
    "# Dictionary with two keys\n",
    "Dictionary1 = {'A': 'Geeks', 'B': 'For'}\n",
    "\n",
    "# Printing keys of dictionary\n",
    "print(\"Keys before Dictionary Updation:\")\n",
    "keys = Dictionary1.keys()\n",
    "keys_two = acuario.keys()\n",
    "keys_three = consolas.keys()\n",
    "print(keys, '\\n', keys_two, '\\n', keys_three)\n",
    "\n",
    "# adding an element to the dictionary\n",
    "Dictionary1.update({'C': 'Geeks'})\n",
    "acuario.update({'Medusa': 2})\n",
    "consolas.update({'Gameboy': 2, 'PSP Vita': 4})\n",
    "\n",
    "print('\\nAfter dictionary is updated:')\n",
    "print(keys, '\\n', keys_two, '\\n', keys_three)"
   ]
  },
  {
   "cell_type": "code",
   "execution_count": 13,
   "metadata": {},
   "outputs": [
    {
     "name": "stdout",
     "output_type": "stream",
     "text": [
      "El valor de la clave color es rosa\n",
      "El valor de la clave marca es Zara\n",
      "El valor de la clave talle es U\n"
     ]
    }
   ],
   "source": [
    "# Obtener las claves y valores de un diccionario\n",
    "# Método: iteritems() Alias: items()\n",
    "diccionario = {'color': 'rosa', 'marca': 'Zara', 'talle': 'U'}\n",
    "\n",
    "for clave, valor in diccionario.items():  # iteritems() es reemplazado por items en Python 3\n",
    "    print(\"El valor de la clave %s es %s\" % (clave, valor))\n",
    "# Salida:\n",
    "# El valor de la clave color es rosa\n",
    "# El valor de la clave marca es Zara\n",
    "# El valor de la clave talle es U"
   ]
  },
  {
   "cell_type": "code",
   "execution_count": 19,
   "metadata": {},
   "outputs": [
    {
     "name": "stdout",
     "output_type": "stream",
     "text": [
      "acuario: {'Calamar': 1, 'Tiburón': 4, 'Mantarraya': 2, 'Pulpo': 5, 'Medusa': 2}\n",
      "El valor de la clave Calamar es 1\n",
      "El valor de la clave Tiburón es 4\n",
      "El valor de la clave Mantarraya es 2\n",
      "El valor de la clave Pulpo es 5\n",
      "El valor de la clave Medusa es 2\n",
      "---------------\n",
      "consolas: {'Xbox': 1, 'PS': 2, 'PS2': 1, 'Xbox 360': 0, 'Xbox One': 1, 'PSP': 10, 'Gameboy': 2, 'PSP Vita': 4}\n",
      "El valor de la clave Xbox es 1\n",
      "El valor de la clave PS es 2\n",
      "El valor de la clave PS2 es 1\n",
      "El valor de la clave Xbox 360 es 0\n",
      "El valor de la clave Xbox One es 1\n",
      "El valor de la clave PSP es 10\n",
      "El valor de la clave Gameboy es 2\n",
      "El valor de la clave PSP Vita es 4\n"
     ]
    }
   ],
   "source": [
    "print(f\"acuario: {acuario}\")\n",
    "for clave, valor in acuario.items():\n",
    "    print(\"El valor de la clave %s es %s\" % (clave, valor))\n",
    "\n",
    "print(\"---------------\")\n",
    "print(f\"consolas: {consolas}\")\n",
    "for clave, valor in consolas.items():\n",
    "    print(\"El valor de la clave %s es %s\" % (clave, valor))"
   ]
  },
  {
   "cell_type": "code",
   "execution_count": 14,
   "metadata": {},
   "outputs": [
    {
     "name": "stdout",
     "output_type": "stream",
     "text": [
      "dict_values(['rosa', 'Zara', 'U'])\n",
      "Los valores de acuario son:  dict_values([1, 4, 2, 5, 2]) \n",
      "Los valores de las consolas son:  dict_values([1, 2, 1, 0, 1, 10, 2, 4])\n"
     ]
    }
   ],
   "source": [
    "# Obtener los valores de un diccionario\n",
    "# Método: values()\n",
    "diccionario = {'color': 'rosa', 'marca': 'Zara', 'talle': 'U'}\n",
    "valores = diccionario.values()\n",
    "print(valores)\n",
    "# ['rosa', 'Zara', 'U']\n",
    "print(\"Los valores de acuario son: \", acuario.values(),\n",
    "      \"\\nLos valores de las consolas son: \", consolas.values())"
   ]
  },
  {
   "cell_type": "code",
   "execution_count": 16,
   "metadata": {},
   "outputs": [
    {
     "name": "stdout",
     "output_type": "stream",
     "text": [
      "3\n",
      "Cantidad de elementos del diccionario acuario es:  5 \n",
      "y la cantidad de elementos del diccionario consolas es:  8\n"
     ]
    }
   ],
   "source": [
    "# Obtener la cantidad de elementos de un diccionario\n",
    "# Para contar los elementos de un diccionario, al igual que con las listas y tuplas, se utiliza\n",
    "# la función integrada len()\n",
    "diccionario = {'color': 'rosa', 'marca': 'Zara', 'talle': 'U'}\n",
    "print(len(diccionario))\n",
    "# 3\n",
    "print(\"Cantidad de elementos del diccionario acuario es: \", len(acuario),\n",
    "      \"\\ny la cantidad de elementos del diccionario consolas es: \", len(consolas))"
   ]
  }
 ],
 "metadata": {
  "kernelspec": {
   "display_name": "Python 3.10.4 64-bit",
   "language": "python",
   "name": "python3"
  },
  "language_info": {
   "codemirror_mode": {
    "name": "ipython",
    "version": 3
   },
   "file_extension": ".py",
   "mimetype": "text/x-python",
   "name": "python",
   "nbconvert_exporter": "python",
   "pygments_lexer": "ipython3",
   "version": "3.10.4 (tags/v3.10.4:9d38120, Mar 23 2022, 23:13:41) [MSC v.1929 64 bit (AMD64)]"
  },
  "orig_nbformat": 4,
  "vscode": {
   "interpreter": {
    "hash": "fb4569285eef3a3450cb62085a5b1e0da4bce0af555edc33dcf29baf3acc1368"
   }
  }
 },
 "nbformat": 4,
 "nbformat_minor": 2
}
