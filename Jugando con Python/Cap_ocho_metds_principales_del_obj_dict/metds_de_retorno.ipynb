{
 "cells": [
  {
   "cell_type": "code",
   "execution_count": 3,
   "metadata": {},
   "outputs": [
    {
     "name": "stdout",
     "output_type": "stream",
     "text": [
      "rosa\n",
      "None\n",
      "sin stock\n"
     ]
    }
   ],
   "source": [
    "# Obtener el valor de una clave\n",
    "# Método: get(clave[, “valor x defecto si la clave no existe”])\n",
    "remera = {'color': 'rosa', 'marca': 'Zara', 'talle': 'U'}\n",
    "print(remera.get(\"color\"))\n",
    "# 'rosa'\n",
    "print(remera.get(\"stock\"))\n",
    "print(remera.get(\"stock\", \"sin stock\"))\n",
    "# 'sin stock"
   ]
  },
  {
   "cell_type": "code",
   "execution_count": 5,
   "metadata": {},
   "outputs": [
    {
     "ename": "AttributeError",
     "evalue": "'dict' object has no attribute 'has_key'",
     "output_type": "error",
     "traceback": [
      "\u001b[1;31m---------------------------------------------------------------------------\u001b[0m",
      "\u001b[1;31mAttributeError\u001b[0m                            Traceback (most recent call last)",
      "\u001b[1;32m<ipython-input-5-b5667795a6ae>\u001b[0m in \u001b[0;36m<module>\u001b[1;34m\u001b[0m\n\u001b[0;32m      1\u001b[0m \u001b[1;31m# Saber si una clave existe en el diccionario\u001b[0m\u001b[1;33m\u001b[0m\u001b[1;33m\u001b[0m\u001b[1;33m\u001b[0m\u001b[0m\n\u001b[0;32m      2\u001b[0m \u001b[1;31m# Método: has_key(clave)\u001b[0m\u001b[1;33m\u001b[0m\u001b[1;33m\u001b[0m\u001b[1;33m\u001b[0m\u001b[0m\n\u001b[1;32m----> 3\u001b[1;33m \u001b[0mexiste\u001b[0m \u001b[1;33m=\u001b[0m \u001b[0mremera\u001b[0m\u001b[1;33m.\u001b[0m\u001b[0mhas_key\u001b[0m\u001b[1;33m(\u001b[0m\u001b[1;34m\"precio\"\u001b[0m\u001b[1;33m)\u001b[0m\u001b[1;33m\u001b[0m\u001b[1;33m\u001b[0m\u001b[0m\n\u001b[0m\u001b[0;32m      4\u001b[0m \u001b[0mprint\u001b[0m\u001b[1;33m(\u001b[0m\u001b[0mexiste\u001b[0m\u001b[1;33m)\u001b[0m\u001b[1;33m\u001b[0m\u001b[1;33m\u001b[0m\u001b[0m\n\u001b[0;32m      5\u001b[0m \u001b[1;31m# False\u001b[0m\u001b[1;33m\u001b[0m\u001b[1;33m\u001b[0m\u001b[1;33m\u001b[0m\u001b[0m\n",
      "\u001b[1;31mAttributeError\u001b[0m: 'dict' object has no attribute 'has_key'"
     ]
    }
   ],
   "source": [
    "# Saber si una clave existe en el diccionario\n",
    "# Método: has_key(clave)\n",
    "existe = remera.has_key(\"precio\")\n",
    "print(existe)\n",
    "# False\n",
    "# existe = remera.has_key(\"color\")\n",
    "# print(existe)\n",
    "# # True"
   ]
  },
  {
   "cell_type": "code",
   "execution_count": 1,
   "metadata": {},
   "outputs": [
    {
     "name": "stdout",
     "output_type": "stream",
     "text": [
      "Dictionary: {1: 'Geeks', 2: 'For', 3: 'Geeks'}\n",
      "Geeks\n",
      "5 is Absent\n"
     ]
    }
   ],
   "source": [
    "# El método has_key() fue removido en Python 3. Por eso no funciona.\n",
    "\n",
    "# Por tanto, se hace uso del operador \"in\" como se indica en el enlace: https://www.geeksforgeeks.org/python-dictionary-has_key/\n",
    "# --------------------------------------------\n",
    "# Python Program to search a key in Dictionary\n",
    "# Using in operator\n",
    "\n",
    "dictionary = {1: \"Geeks\", 2: \"For\", 3: \"Geeks\"}\n",
    "\n",
    "print(\"Dictionary: {}\".format(dictionary))\n",
    "\n",
    "# Return True if Present.\n",
    "if 1 in dictionary: # or \"dictionary.keys()\"\n",
    "\tprint(dictionary[1])\n",
    "else:\n",
    "\tprint(\"{} is Absent\".format(1))\n",
    "\n",
    "\n",
    "# Return False if not Present.\n",
    "if 5 in dictionary.keys():\n",
    "\tprint(dictionary[5])\n",
    "else:\n",
    "\tprint(\"{} is Absent\".format(5))"
   ]
  },
  {
   "cell_type": "code",
   "execution_count": null,
   "metadata": {},
   "outputs": [],
   "source": [
    "\n",
    "consolas = {\"Xbox\": 1, \"PS\": 2, \"PS2\": 1, \"Xbox 360\": 0, \"Xbox One\": 1, \"PSP\": 10}"
   ]
  }
 ],
 "metadata": {
  "kernelspec": {
   "display_name": "Python 3.10.4 64-bit",
   "language": "python",
   "name": "python3"
  },
  "language_info": {
   "codemirror_mode": {
    "name": "ipython",
    "version": 3
   },
   "file_extension": ".py",
   "mimetype": "text/x-python",
   "name": "python",
   "nbconvert_exporter": "python",
   "pygments_lexer": "ipython3",
   "version": "3.10.4"
  },
  "orig_nbformat": 4,
  "vscode": {
   "interpreter": {
    "hash": "fb4569285eef3a3450cb62085a5b1e0da4bce0af555edc33dcf29baf3acc1368"
   }
  }
 },
 "nbformat": 4,
 "nbformat_minor": 2
}
