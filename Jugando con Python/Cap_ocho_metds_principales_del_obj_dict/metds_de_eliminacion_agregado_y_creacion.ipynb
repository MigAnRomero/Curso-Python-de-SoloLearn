{
 "cells": [
  {
   "cell_type": "code",
   "execution_count": 2,
   "metadata": {},
   "outputs": [
    {
     "name": "stdout",
     "output_type": "stream",
     "text": [
      "{'color': 'violeta', 'talle': 'XS', 'precio': 174.25}\n",
      "{}\n",
      "{'Calamar': 1, 'Tiburón': 4, 'Mantarraya': 2, 'Pulpo': 5}\n"
     ]
    }
   ],
   "source": [
    "# Métodos de eliminación\n",
    "\n",
    "# Vaciar un diccionario\n",
    "# Método: clear()\n",
    "diccionario = {\"color\": \"violeta\", \"talle\": \"XS\", \"precio\": 174.25}\n",
    "print(diccionario)\n",
    "# {'color': 'violeta', 'precio': 174.25, 'talle': 'XS'}\n",
    "diccionario.clear()\n",
    "print(diccionario)\n",
    "# {}\n",
    "acuario = {\"Calamar\": 1, \"Tiburón\": 4, \"Mantarraya\": 2, \"Pulpo\": 5}\n",
    "print(acuario)"
   ]
  },
  {
   "cell_type": "code",
   "execution_count": 5,
   "metadata": {},
   "outputs": [
    {
     "data": {
      "text/plain": [
       "{'color': 'violeta', 'talle': 'XS', 'precio': 174.25}"
      ]
     },
     "execution_count": 5,
     "metadata": {},
     "output_type": "execute_result"
    }
   ],
   "source": [
    "# Métodos de agregado y creación\n",
    "\n",
    "# Copiar un diccionario\n",
    "# Método: copy()\n",
    "diccionario = {\"color\": \"violeta\", \"talle\": \"XS\", \"precio\": 174.25}\n",
    "remera = diccionario.copy()\n",
    "diccionario\n",
    "# {'color': 'violeta', 'precio': 174.25, 'talle': 'XS'}"
   ]
  },
  {
   "cell_type": "code",
   "execution_count": 7,
   "metadata": {},
   "outputs": [
    {
     "data": {
      "text/plain": [
       "{'color': 'violeta', 'talle': 'XS', 'precio': 174.25}"
      ]
     },
     "execution_count": 7,
     "metadata": {},
     "output_type": "execute_result"
    }
   ],
   "source": [
    "remera\n",
    "# {'color': 'violeta', 'precio': 174.25, 'talle': 'XS'}"
   ]
  },
  {
   "cell_type": "code",
   "execution_count": 8,
   "metadata": {},
   "outputs": [
    {
     "data": {
      "text/plain": [
       "{}"
      ]
     },
     "execution_count": 8,
     "metadata": {},
     "output_type": "execute_result"
    }
   ],
   "source": [
    "diccionario.clear()\n",
    "diccionario\n",
    "# {}"
   ]
  },
  {
   "cell_type": "code",
   "execution_count": 9,
   "metadata": {},
   "outputs": [
    {
     "data": {
      "text/plain": [
       "{'color': 'violeta', 'talle': 'XS', 'precio': 174.25}"
      ]
     },
     "execution_count": 9,
     "metadata": {},
     "output_type": "execute_result"
    }
   ],
   "source": [
    "remera\n",
    "# {'color': 'violeta', 'precio': 174.25, 'talle': 'XS'}"
   ]
  },
  {
   "cell_type": "code",
   "execution_count": 10,
   "metadata": {},
   "outputs": [
    {
     "data": {
      "text/plain": [
       "{'color': 'violeta', 'talle': 'XS', 'precio': 174.25}"
      ]
     },
     "execution_count": 10,
     "metadata": {},
     "output_type": "execute_result"
    }
   ],
   "source": [
    "musculosa = remera\n",
    "remera\n",
    "# {'color': 'violeta', 'precio': 174.25, 'talle': 'XS'}"
   ]
  },
  {
   "cell_type": "code",
   "execution_count": 11,
   "metadata": {},
   "outputs": [
    {
     "data": {
      "text/plain": [
       "{'color': 'violeta', 'talle': 'XS', 'precio': 174.25}"
      ]
     },
     "execution_count": 11,
     "metadata": {},
     "output_type": "execute_result"
    }
   ],
   "source": [
    "musculosa\n",
    "# {'color': 'violeta', 'precio': 174.25, 'talle': 'XS'}"
   ]
  },
  {
   "cell_type": "code",
   "execution_count": 12,
   "metadata": {},
   "outputs": [
    {
     "data": {
      "text/plain": [
       "{}"
      ]
     },
     "execution_count": 12,
     "metadata": {},
     "output_type": "execute_result"
    }
   ],
   "source": [
    "remera.clear()\n",
    "remera\n",
    "# {}"
   ]
  },
  {
   "cell_type": "code",
   "execution_count": 13,
   "metadata": {},
   "outputs": [
    {
     "data": {
      "text/plain": [
       "{}"
      ]
     },
     "execution_count": 13,
     "metadata": {},
     "output_type": "execute_result"
    }
   ],
   "source": [
    "musculosa\n",
    "# {}"
   ]
  },
  {
   "cell_type": "code",
   "execution_count": 1,
   "metadata": {},
   "outputs": [
    {
     "name": "stdout",
     "output_type": "stream",
     "text": [
      "{'color': None, 'talle': None, 'marca': None}\n",
      "{'color': 'valor x defecto', 'talle': 'valor x defecto', 'marca': 'valor x defecto'}\n"
     ]
    }
   ],
   "source": [
    "# Crear un nuevo diccionario desde las claves de una\n",
    "# secuencia\n",
    "\n",
    "# Método: dict.fromkeys(secuencia[, valor por defecto])\n",
    "\n",
    "secuencia = [\"color\", \"talle\", \"marca\"]\n",
    "diccionario1 = dict.fromkeys(secuencia)\n",
    "print(diccionario1)\n",
    "# {'color': None, 'marca': None, 'talle': None}\n",
    "diccionario2 = dict.fromkeys(secuencia, 'valor x defecto')\n",
    "print(diccionario2)\n",
    "# {'color': 'valor x defecto', 'marca': 'valor x defecto', 'talle': 'valor x defecto'}"
   ]
  }
 ],
 "metadata": {
  "kernelspec": {
   "display_name": "Python 3.10.4 64-bit",
   "language": "python",
   "name": "python3"
  },
  "language_info": {
   "codemirror_mode": {
    "name": "ipython",
    "version": 3
   },
   "file_extension": ".py",
   "mimetype": "text/x-python",
   "name": "python",
   "nbconvert_exporter": "python",
   "pygments_lexer": "ipython3",
   "version": "3.10.4"
  },
  "orig_nbformat": 4,
  "vscode": {
   "interpreter": {
    "hash": "fb4569285eef3a3450cb62085a5b1e0da4bce0af555edc33dcf29baf3acc1368"
   }
  }
 },
 "nbformat": 4,
 "nbformat_minor": 2
}
