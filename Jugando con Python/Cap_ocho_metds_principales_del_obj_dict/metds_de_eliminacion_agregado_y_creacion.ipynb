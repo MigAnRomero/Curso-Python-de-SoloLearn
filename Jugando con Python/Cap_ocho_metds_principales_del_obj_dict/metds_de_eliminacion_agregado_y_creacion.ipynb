{
 "cells": [
  {
   "cell_type": "code",
   "execution_count": 1,
   "metadata": {},
   "outputs": [
    {
     "name": "stdout",
     "output_type": "stream",
     "text": [
      "{'color': 'violeta', 'talle': 'XS', 'precio': 174.25}\n",
      "{}\n"
     ]
    }
   ],
   "source": [
    "# Métodos de eliminación\n",
    "\n",
    "# Vaciar un diccionario\n",
    "# Método: clear()\n",
    "diccionario = {\"color\": \"violeta\", \"talle\": \"XS\", \"precio\": 174.25}\n",
    "print(diccionario)\n",
    "# {'color': 'violeta', 'precio': 174.25, 'talle': 'XS'}\n",
    "diccionario.clear()\n",
    "print(diccionario)\n",
    "# {}"
   ]
  }
 ],
 "metadata": {
  "kernelspec": {
   "display_name": "Python 3.8.5 ('base')",
   "language": "python",
   "name": "python3"
  },
  "language_info": {
   "codemirror_mode": {
    "name": "ipython",
    "version": 3
   },
   "file_extension": ".py",
   "mimetype": "text/x-python",
   "name": "python",
   "nbconvert_exporter": "python",
   "pygments_lexer": "ipython3",
   "version": "3.8.5"
  },
  "orig_nbformat": 4,
  "vscode": {
   "interpreter": {
    "hash": "ae406414c121f7a2712d29ba32698bad1e8bffa931cf239ae13729e462863e5b"
   }
  }
 },
 "nbformat": 4,
 "nbformat_minor": 2
}
