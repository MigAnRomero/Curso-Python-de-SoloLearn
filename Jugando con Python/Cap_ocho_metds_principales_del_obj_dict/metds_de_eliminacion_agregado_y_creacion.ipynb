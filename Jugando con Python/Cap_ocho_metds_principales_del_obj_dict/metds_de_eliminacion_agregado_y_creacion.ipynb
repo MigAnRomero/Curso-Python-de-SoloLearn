{
 "cells": [
  {
   "cell_type": "code",
   "execution_count": 2,
   "metadata": {},
   "outputs": [
    {
     "name": "stdout",
     "output_type": "stream",
     "text": [
      "{'color': 'violeta', 'talle': 'XS', 'precio': 174.25}\n",
      "{}\n",
      "{'Calamar': 1, 'Tiburón': 4, 'Mantarraya': 2, 'Pulpo': 5}\n"
     ]
    }
   ],
   "source": [
    "# Métodos de eliminación\n",
    "\n",
    "# Vaciar un diccionario\n",
    "# Método: clear()\n",
    "diccionario = {\"color\": \"violeta\", \"talle\": \"XS\", \"precio\": 174.25}\n",
    "print(diccionario)\n",
    "# {'color': 'violeta', 'precio': 174.25, 'talle': 'XS'}\n",
    "diccionario.clear()\n",
    "print(diccionario)\n",
    "# {}\n",
    "acuario = {\"Calamar\": 1, \"Tiburón\": 4, \"Mantarraya\": 2, \"Pulpo\": 5}\n",
    "print(acuario)"
   ]
  },
  {
   "cell_type": "code",
   "execution_count": 5,
   "metadata": {},
   "outputs": [
    {
     "data": {
      "text/plain": [
       "{'color': 'violeta', 'talle': 'XS', 'precio': 174.25}"
      ]
     },
     "execution_count": 5,
     "metadata": {},
     "output_type": "execute_result"
    }
   ],
   "source": [
    "# Métodos de agregado y creación\n",
    "\n",
    "# Copiar un diccionario\n",
    "# Método: copy()\n",
    "diccionario = {\"color\": \"violeta\", \"talle\": \"XS\", \"precio\": 174.25}\n",
    "remera = diccionario.copy()\n",
    "diccionario\n",
    "# {'color': 'violeta', 'precio': 174.25, 'talle': 'XS'}"
   ]
  },
  {
   "cell_type": "code",
   "execution_count": 7,
   "metadata": {},
   "outputs": [
    {
     "data": {
      "text/plain": [
       "{'color': 'violeta', 'talle': 'XS', 'precio': 174.25}"
      ]
     },
     "execution_count": 7,
     "metadata": {},
     "output_type": "execute_result"
    }
   ],
   "source": [
    "remera\n",
    "# {'color': 'violeta', 'precio': 174.25, 'talle': 'XS'}"
   ]
  },
  {
   "cell_type": "code",
   "execution_count": 8,
   "metadata": {},
   "outputs": [
    {
     "data": {
      "text/plain": [
       "{}"
      ]
     },
     "execution_count": 8,
     "metadata": {},
     "output_type": "execute_result"
    }
   ],
   "source": [
    "diccionario.clear()\n",
    "diccionario\n",
    "# {}"
   ]
  },
  {
   "cell_type": "code",
   "execution_count": 9,
   "metadata": {},
   "outputs": [
    {
     "data": {
      "text/plain": [
       "{'color': 'violeta', 'talle': 'XS', 'precio': 174.25}"
      ]
     },
     "execution_count": 9,
     "metadata": {},
     "output_type": "execute_result"
    }
   ],
   "source": [
    "remera\n",
    "# {'color': 'violeta', 'precio': 174.25, 'talle': 'XS'}"
   ]
  },
  {
   "cell_type": "code",
   "execution_count": 10,
   "metadata": {},
   "outputs": [
    {
     "data": {
      "text/plain": [
       "{'color': 'violeta', 'talle': 'XS', 'precio': 174.25}"
      ]
     },
     "execution_count": 10,
     "metadata": {},
     "output_type": "execute_result"
    }
   ],
   "source": [
    "musculosa = remera\n",
    "remera\n",
    "# {'color': 'violeta', 'precio': 174.25, 'talle': 'XS'}"
   ]
  },
  {
   "cell_type": "code",
   "execution_count": 11,
   "metadata": {},
   "outputs": [
    {
     "data": {
      "text/plain": [
       "{'color': 'violeta', 'talle': 'XS', 'precio': 174.25}"
      ]
     },
     "execution_count": 11,
     "metadata": {},
     "output_type": "execute_result"
    }
   ],
   "source": [
    "musculosa\n",
    "# {'color': 'violeta', 'precio': 174.25, 'talle': 'XS'}"
   ]
  },
  {
   "cell_type": "code",
   "execution_count": 12,
   "metadata": {},
   "outputs": [
    {
     "data": {
      "text/plain": [
       "{}"
      ]
     },
     "execution_count": 12,
     "metadata": {},
     "output_type": "execute_result"
    }
   ],
   "source": [
    "remera.clear()\n",
    "remera\n",
    "# {}"
   ]
  },
  {
   "cell_type": "code",
   "execution_count": 13,
   "metadata": {},
   "outputs": [
    {
     "data": {
      "text/plain": [
       "{}"
      ]
     },
     "execution_count": 13,
     "metadata": {},
     "output_type": "execute_result"
    }
   ],
   "source": [
    "musculosa\n",
    "# {}"
   ]
  }
 ],
 "metadata": {
  "kernelspec": {
   "display_name": "Python 3.8.5 ('base')",
   "language": "python",
   "name": "python3"
  },
  "language_info": {
   "codemirror_mode": {
    "name": "ipython",
    "version": 3
   },
   "file_extension": ".py",
   "mimetype": "text/x-python",
   "name": "python",
   "nbconvert_exporter": "python",
   "pygments_lexer": "ipython3",
   "version": "3.8.5"
  },
  "orig_nbformat": 4,
  "vscode": {
   "interpreter": {
    "hash": "ae406414c121f7a2712d29ba32698bad1e8bffa931cf239ae13729e462863e5b"
   }
  }
 },
 "nbformat": 4,
 "nbformat_minor": 2
}
