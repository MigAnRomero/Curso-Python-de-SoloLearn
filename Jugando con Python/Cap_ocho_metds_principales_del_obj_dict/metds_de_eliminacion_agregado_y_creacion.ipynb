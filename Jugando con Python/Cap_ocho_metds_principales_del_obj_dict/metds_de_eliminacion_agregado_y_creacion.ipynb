{
 "cells": [
  {
   "cell_type": "code",
   "execution_count": 2,
   "metadata": {},
   "outputs": [
    {
     "name": "stdout",
     "output_type": "stream",
     "text": [
      "{'color': 'violeta', 'talle': 'XS', 'precio': 174.25}\n",
      "{}\n",
      "{'Calamar': 1, 'Tiburón': 4, 'Mantarraya': 2, 'Pulpo': 5}\n"
     ]
    }
   ],
   "source": [
    "# Métodos de eliminación\n",
    "\n",
    "# Vaciar un diccionario\n",
    "# Método: clear()\n",
    "diccionario = {\"color\": \"violeta\", \"talle\": \"XS\", \"precio\": 174.25}\n",
    "print(diccionario)\n",
    "# {'color': 'violeta', 'precio': 174.25, 'talle': 'XS'}\n",
    "diccionario.clear()\n",
    "print(diccionario)\n",
    "# {}\n",
    "acuario = {\"Calamar\": 1, \"Tiburón\": 4, \"Mantarraya\": 2, \"Pulpo\": 5}\n",
    "print(acuario)"
   ]
  },
  {
   "cell_type": "code",
   "execution_count": 5,
   "metadata": {},
   "outputs": [
    {
     "data": {
      "text/plain": [
       "{'color': 'violeta', 'talle': 'XS', 'precio': 174.25}"
      ]
     },
     "execution_count": 5,
     "metadata": {},
     "output_type": "execute_result"
    }
   ],
   "source": [
    "# Métodos de agregado y creación\n",
    "\n",
    "# Copiar un diccionario\n",
    "# Método: copy()\n",
    "diccionario = {\"color\": \"violeta\", \"talle\": \"XS\", \"precio\": 174.25}\n",
    "remera = diccionario.copy()\n",
    "diccionario\n",
    "# {'color': 'violeta', 'precio': 174.25, 'talle': 'XS'}"
   ]
  },
  {
   "cell_type": "code",
   "execution_count": 7,
   "metadata": {},
   "outputs": [
    {
     "data": {
      "text/plain": [
       "{'color': 'violeta', 'talle': 'XS', 'precio': 174.25}"
      ]
     },
     "execution_count": 7,
     "metadata": {},
     "output_type": "execute_result"
    }
   ],
   "source": [
    "remera\n",
    "# {'color': 'violeta', 'precio': 174.25, 'talle': 'XS'}"
   ]
  },
  {
   "cell_type": "code",
   "execution_count": 8,
   "metadata": {},
   "outputs": [
    {
     "data": {
      "text/plain": [
       "{}"
      ]
     },
     "execution_count": 8,
     "metadata": {},
     "output_type": "execute_result"
    }
   ],
   "source": [
    "diccionario.clear()\n",
    "diccionario\n",
    "# {}"
   ]
  },
  {
   "cell_type": "code",
   "execution_count": 9,
   "metadata": {},
   "outputs": [
    {
     "data": {
      "text/plain": [
       "{'color': 'violeta', 'talle': 'XS', 'precio': 174.25}"
      ]
     },
     "execution_count": 9,
     "metadata": {},
     "output_type": "execute_result"
    }
   ],
   "source": [
    "remera\n",
    "# {'color': 'violeta', 'precio': 174.25, 'talle': 'XS'}"
   ]
  },
  {
   "cell_type": "code",
   "execution_count": 10,
   "metadata": {},
   "outputs": [
    {
     "data": {
      "text/plain": [
       "{'color': 'violeta', 'talle': 'XS', 'precio': 174.25}"
      ]
     },
     "execution_count": 10,
     "metadata": {},
     "output_type": "execute_result"
    }
   ],
   "source": [
    "musculosa = remera\n",
    "remera\n",
    "# {'color': 'violeta', 'precio': 174.25, 'talle': 'XS'}"
   ]
  },
  {
   "cell_type": "code",
   "execution_count": 11,
   "metadata": {},
   "outputs": [
    {
     "data": {
      "text/plain": [
       "{'color': 'violeta', 'talle': 'XS', 'precio': 174.25}"
      ]
     },
     "execution_count": 11,
     "metadata": {},
     "output_type": "execute_result"
    }
   ],
   "source": [
    "musculosa\n",
    "# {'color': 'violeta', 'precio': 174.25, 'talle': 'XS'}"
   ]
  },
  {
   "cell_type": "code",
   "execution_count": 12,
   "metadata": {},
   "outputs": [
    {
     "data": {
      "text/plain": [
       "{}"
      ]
     },
     "execution_count": 12,
     "metadata": {},
     "output_type": "execute_result"
    }
   ],
   "source": [
    "remera.clear()\n",
    "remera\n",
    "# {}"
   ]
  },
  {
   "cell_type": "code",
   "execution_count": 13,
   "metadata": {},
   "outputs": [
    {
     "data": {
      "text/plain": [
       "{}"
      ]
     },
     "execution_count": 13,
     "metadata": {},
     "output_type": "execute_result"
    }
   ],
   "source": [
    "musculosa\n",
    "# {}"
   ]
  },
  {
   "cell_type": "code",
   "execution_count": 1,
   "metadata": {},
   "outputs": [
    {
     "name": "stdout",
     "output_type": "stream",
     "text": [
      "{'color': None, 'talle': None, 'marca': None}\n",
      "{'color': 'valor x defecto', 'talle': 'valor x defecto', 'marca': 'valor x defecto'}\n"
     ]
    }
   ],
   "source": [
    "# Crear un nuevo diccionario desde las claves de una\n",
    "# secuencia\n",
    "\n",
    "# Método: dict.fromkeys(secuencia[, valor por defecto])\n",
    "\n",
    "secuencia = [\"color\", \"talle\", \"marca\"]\n",
    "diccionario1 = dict.fromkeys(secuencia)\n",
    "print(diccionario1)\n",
    "# {'color': None, 'marca': None, 'talle': None}\n",
    "diccionario2 = dict.fromkeys(secuencia, 'valor x defecto')\n",
    "print(diccionario2)\n",
    "# {'color': 'valor x defecto', 'marca': 'valor x defecto', 'talle': 'valor x defecto'}"
   ]
  },
  {
   "cell_type": "code",
   "execution_count": 2,
   "metadata": {},
   "outputs": [
    {
     "data": {
      "text/plain": [
       "{'color': 'verde', 'precio': 45, 'talle': 'M', 'marca': 'Lacoste'}"
      ]
     },
     "execution_count": 2,
     "metadata": {},
     "output_type": "execute_result"
    }
   ],
   "source": [
    "# Concatenar diccionarios\n",
    "# Método: update(diccionario)\n",
    "diccionario1 = {\"color\": \"verde\", \"precio\": 45}\n",
    "diccionario2 = {\"talle\": \"M\", \"marca\": \"Lacoste\"}\n",
    "diccionario1.update(diccionario2)\n",
    "diccionario1\n",
    "# {'color': 'verde', 'precio': 45, 'marca': 'Lacoste', 'talle': 'M'}"
   ]
  },
  {
   "cell_type": "code",
   "execution_count": 3,
   "metadata": {},
   "outputs": [
    {
     "ename": "TypeError",
     "evalue": "update expected at most 1 argument, got 2",
     "output_type": "error",
     "traceback": [
      "\u001b[1;31m---------------------------------------------------------------------------\u001b[0m",
      "\u001b[1;31mTypeError\u001b[0m                                 Traceback (most recent call last)",
      "\u001b[1;32mc:\\Users\\user\\Documents\\Archivos de VSC\\PYTHON\\Curso_Python_SoloLearn\\Jugando con Python\\Cap_ocho_metds_principales_del_obj_dict\\metds_de_eliminacion_agregado_y_creacion.ipynb Celda 12\u001b[0m in \u001b[0;36m<cell line: 4>\u001b[1;34m()\u001b[0m\n\u001b[0;32m      <a href='vscode-notebook-cell:/c%3A/Users/user/Documents/Archivos%20de%20VSC/PYTHON/Curso_Python_SoloLearn/Jugando%20con%20Python/Cap_ocho_metds_principales_del_obj_dict/metds_de_eliminacion_agregado_y_creacion.ipynb#X14sZmlsZQ%3D%3D?line=0'>1</a>\u001b[0m acuario \u001b[39m=\u001b[39m {\u001b[39m\"\u001b[39m\u001b[39mCalamar\u001b[39m\u001b[39m\"\u001b[39m: \u001b[39m1\u001b[39m, \u001b[39m\"\u001b[39m\u001b[39mTiburón\u001b[39m\u001b[39m\"\u001b[39m: \u001b[39m4\u001b[39m, \u001b[39m\"\u001b[39m\u001b[39mMantarraya\u001b[39m\u001b[39m\"\u001b[39m: \u001b[39m2\u001b[39m, \u001b[39m\"\u001b[39m\u001b[39mPulpo\u001b[39m\u001b[39m\"\u001b[39m: \u001b[39m5\u001b[39m}\n\u001b[0;32m      <a href='vscode-notebook-cell:/c%3A/Users/user/Documents/Archivos%20de%20VSC/PYTHON/Curso_Python_SoloLearn/Jugando%20con%20Python/Cap_ocho_metds_principales_del_obj_dict/metds_de_eliminacion_agregado_y_creacion.ipynb#X14sZmlsZQ%3D%3D?line=1'>2</a>\u001b[0m consolas \u001b[39m=\u001b[39m {\u001b[39m\"\u001b[39m\u001b[39mXbox\u001b[39m\u001b[39m\"\u001b[39m: \u001b[39m1\u001b[39m, \u001b[39m\"\u001b[39m\u001b[39mPS\u001b[39m\u001b[39m\"\u001b[39m: \u001b[39m2\u001b[39m, \u001b[39m\"\u001b[39m\u001b[39mPS2\u001b[39m\u001b[39m\"\u001b[39m: \u001b[39m1\u001b[39m, \u001b[39m\"\u001b[39m\u001b[39mXbox 360\u001b[39m\u001b[39m\"\u001b[39m: \u001b[39m0\u001b[39m, \u001b[39m\"\u001b[39m\u001b[39mXbox One\u001b[39m\u001b[39m\"\u001b[39m: \u001b[39m1\u001b[39m, \u001b[39m\"\u001b[39m\u001b[39mPSP\u001b[39m\u001b[39m\"\u001b[39m: \u001b[39m10\u001b[39m}\n\u001b[1;32m----> <a href='vscode-notebook-cell:/c%3A/Users/user/Documents/Archivos%20de%20VSC/PYTHON/Curso_Python_SoloLearn/Jugando%20con%20Python/Cap_ocho_metds_principales_del_obj_dict/metds_de_eliminacion_agregado_y_creacion.ipynb#X14sZmlsZQ%3D%3D?line=3'>4</a>\u001b[0m diccionario1\u001b[39m.\u001b[39;49mupdate(acuario, consolas)\n",
      "\u001b[1;31mTypeError\u001b[0m: update expected at most 1 argument, got 2"
     ]
    }
   ],
   "source": [
    "acuario = {\"Calamar\": 1, \"Tiburón\": 4, \"Mantarraya\": 2, \"Pulpo\": 5}\n",
    "consolas = {\"Xbox\": 1, \"PS\": 2, \"PS2\": 1, \"Xbox 360\": 0, \"Xbox One\": 1, \"PSP\": 10}\n",
    "\n",
    "diccionario1.update(acuario, consolas)"
   ]
  }
 ],
 "metadata": {
  "kernelspec": {
   "display_name": "Python 3.10.4 64-bit",
   "language": "python",
   "name": "python3"
  },
  "language_info": {
   "codemirror_mode": {
    "name": "ipython",
    "version": 3
   },
   "file_extension": ".py",
   "mimetype": "text/x-python",
   "name": "python",
   "nbconvert_exporter": "python",
   "pygments_lexer": "ipython3",
   "version": "3.10.4"
  },
  "orig_nbformat": 4,
  "vscode": {
   "interpreter": {
    "hash": "fb4569285eef3a3450cb62085a5b1e0da4bce0af555edc33dcf29baf3acc1368"
   }
  }
 },
 "nbformat": 4,
 "nbformat_minor": 2
}
