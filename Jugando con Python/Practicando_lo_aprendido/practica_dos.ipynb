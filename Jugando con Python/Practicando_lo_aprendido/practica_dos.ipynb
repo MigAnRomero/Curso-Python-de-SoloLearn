{
 "cells": [
  {
   "cell_type": "code",
   "execution_count": 6,
   "metadata": {},
   "outputs": [
    {
     "name": "stdout",
     "output_type": "stream",
     "text": [
      "Tienes $2.21 dólares.\n",
      "Tienes $0.00044 pesos colombianos.\n"
     ]
    }
   ],
   "source": [
    "# Conversor de monedas\n",
    "# Pasar de pesos colombianos a dólares estadounidenses\n",
    "pesos = float(input(\"¿Cuántos pesos colombianos tienes?: \"))\n",
    "valor_dolar = 4525.98  # Valor actual de un dólar a peso colombiano (25/01/2023)\n",
    "# Convertir COP a USD\n",
    "dolares = pesos / valor_dolar\n",
    "dolares = round(dolares, 2)\n",
    "print(f\"Tienes ${dolares} dólares.\")\n",
    "\n",
    "# Pasar de dólares estadounidenses a pesos colombianos\n",
    "pesos_usd = float(input(\"Digitar cantidad de USD: \"))\n",
    "valor_cop = 0.00022 # Valor actual de un peso colombiano a dólar (25/01/2023)\n",
    "# Convertir USD a COP\n",
    "pesos_cop = pesos_usd * valor_cop\n",
    "# pesos_cop = round(pesos_cop, 2)\n",
    "print(f\"Tienes ${pesos_cop} pesos colombianos.\")"
   ]
  },
  {
   "cell_type": "code",
   "execution_count": 3,
   "metadata": {},
   "outputs": [
    {
     "name": "stdout",
     "output_type": "stream",
     "text": [
      "Tienes $532.2 dólares.\n",
      "El valor de un dólar a pesos mexicanos es: $18.79\n"
     ]
    }
   ],
   "source": [
    "def conversor(tipo_pesos, valor_dolar):\n",
    "    pesos = float(input(\"¿Cuántos pesos \" + tipo_pesos + \" tienes?: \"))\n",
    "    # Convertir tipo_pesos a USD\n",
    "    dolares = pesos / valor_dolar\n",
    "    dolares = round(dolares, 2)\n",
    "    print(f\"Tienes ${dolares} dólares.\")\n",
    "\n",
    "    opcion_dos = int(input(menu_dos))\n",
    "\n",
    "    if (opcion_dos == 1):\n",
    "        print(f\"El valor de un dólar a pesos {tipo_pesos} es: ${valor_dolar}\")\n",
    "    elif (opcion_dos == 2):\n",
    "        print(\"Se ha finalizado el programa.\")\n",
    "    else:\n",
    "        print(\"Ingresa solo 1 o 2.\")\n",
    "\n",
    "\n",
    "menu = \"\"\"\n",
    "Bienvenido al conversor de monedas\n",
    "\n",
    "1 - Pesos colombianos\n",
    "2 - Pesos argentinos\n",
    "3 - Pesos mexicanos\n",
    "\n",
    "Elige una opción: \"\"\"\n",
    "\n",
    "menu_dos = \"\"\"\n",
    "¿Deseas saber el valor de un dólar en la moneda del país seleccionado?\n",
    "\n",
    "1 - Si\n",
    "2 - No\n",
    "\n",
    "Elige una opción: \"\"\"\n",
    "\n",
    "opcion = int(input(menu))\n",
    "\n",
    "if (opcion == 1):\n",
    "    valor_dolar = 4537.09  # Valor actual de un dólar a peso colombiano - COP (27/01/2023)\n",
    "    conversor(\"colombianos\", valor_dolar) \n",
    "elif (opcion == 2):\n",
    "    valor_dolar = 185.64  # Valor actual de un dólar a peso argentino - ARS (27/01/2023)\n",
    "    conversor(\"argentinos\", valor_dolar)\n",
    "elif (opcion == 3):\n",
    "    valor_dolar = 18.79  # Valor actual de un dólar a peso mexicano - MXN (27/01/2023)\n",
    "    conversor(\"mexicanos\", valor_dolar)\n",
    "else:\n",
    "    print(\"Ingresa una opción correcta.\")"
   ]
  },
  {
   "cell_type": "code",
   "execution_count": 2,
   "metadata": {},
   "outputs": [
    {
     "name": "stdout",
     "output_type": "stream",
     "text": [
      "Hola\n",
      "¿Cómo estás?\n",
      "Elegiste la opción 3\n",
      "Adios\n"
     ]
    }
   ],
   "source": [
    "def conversacion(mensaje):\n",
    "    print(\"Hola\")\n",
    "    print(\"¿Cómo estás?\")\n",
    "    print(mensaje)\n",
    "    print(\"Adios\") \n",
    "\n",
    "\n",
    "opcion_tres = int(input(\"Elige una opción (1, 2, 3): \"))\n",
    "\n",
    "if opcion_tres == 1:\n",
    "    conversacion(\"Elegiste la opción 1\")\n",
    "elif opcion_tres == 2:\n",
    "    conversacion(\"Elegiste la opción 2\")\n",
    "elif opcion_tres == 3:\n",
    "    conversacion(\"Elegiste la opción 3\")\n",
    "else:\n",
    "    print(\"Digitar la opción correcta.\")"
   ]
  },
  {
   "cell_type": "code",
   "execution_count": 4,
   "metadata": {},
   "outputs": [
    {
     "name": "stdout",
     "output_type": "stream",
     "text": [
      "Es palíndromo.\n"
     ]
    }
   ],
   "source": [
    "# Programa palíndromo\n",
    "def palindromo(palabra):\n",
    "    palabra = palabra.replace(' ', '')\n",
    "    palabra = palabra.lower()\n",
    "    palabra_invertida = palabra[::-1]\n",
    "    if (palabra == palabra_invertida):\n",
    "        return True\n",
    "    else:\n",
    "        return False\n",
    "\n",
    "\n",
    "def run():\n",
    "    palabra = input(\"Digitar una palabra: \")\n",
    "    es_palindromo = palindromo(palabra)\n",
    "    if (es_palindromo == True):\n",
    "        print(\"Es palíndromo.\")\n",
    "    else:\n",
    "        print(\"No es palíndromo.\")\n",
    "\n",
    "\n",
    "if __name__ == \"__main__\":\n",
    "    run()"
   ]
  },
  {
   "cell_type": "code",
   "execution_count": 7,
   "metadata": {},
   "outputs": [
    {
     "name": "stdout",
     "output_type": "stream",
     "text": [
      "2 ** 10 = 1024\n",
      "2 ** 9 = 512\n",
      "2 ** 8 = 256\n",
      "2 ** 7 = 128\n",
      "2 ** 6 = 64\n",
      "2 ** 5 = 32\n",
      "2 ** 4 = 16\n",
      "2 ** 3 = 8\n",
      "2 ** 2 = 4\n",
      "2 ** 1 = 2\n"
     ]
    }
   ],
   "source": [
    "# Bucles\n",
    "# def elevar_numero(numero):\n",
    "#     exponente = 0\n",
    "#     while(exponente <= 1000):\n",
    "#         print(f\"{numero} ** {exponente} = {numero ** exponente}\")\n",
    "#         exponente += 1\n",
    "\n",
    "\n",
    "# def correr_programa():\n",
    "#     digitar_numero = int(input(\"Digitar número\"))\n",
    "#     elevar_numero(digitar_numero)\n",
    "\n",
    "\n",
    "def elevar_numero(numero, exponente):\n",
    "    while(exponente != 0):\n",
    "        print(f\"{numero} ** {exponente} = {numero ** exponente}\")\n",
    "        exponente -= 1\n",
    "\n",
    "\n",
    "def correr_programa():\n",
    "    digitar_numero = int(input(\"Digitar número\"))\n",
    "    digitar_exponente = int(input(\"Digitar exponente: \"))\n",
    "    elevar_numero(digitar_numero, digitar_exponente)\n",
    "    \n",
    "    \n",
    "if __name__ == \"__main__\":\n",
    "    correr_programa()"
   ]
  },
  {
   "cell_type": "code",
   "execution_count": 8,
   "metadata": {},
   "outputs": [
    {
     "name": "stdout",
     "output_type": "stream",
     "text": [
      "2 elevado a 0 es igual a: 1\n",
      "2 elevado a 1 es igual a: 2\n",
      "2 elevado a 2 es igual a: 4\n",
      "2 elevado a 3 es igual a: 8\n",
      "2 elevado a 4 es igual a: 16\n",
      "2 elevado a 5 es igual a: 32\n",
      "2 elevado a 6 es igual a: 64\n",
      "2 elevado a 7 es igual a: 128\n",
      "2 elevado a 8 es igual a: 256\n",
      "2 elevado a 9 es igual a: 512\n"
     ]
    }
   ],
   "source": [
    "def run_two():\n",
    "    LIMITE = 1000\n",
    "    \n",
    "    contador = 0\n",
    "    potencia_2 = 2 ** contador\n",
    "    while (potencia_2 < LIMITE):\n",
    "        print(f\"2 elevado a {contador} es igual a: {potencia_2}\")\n",
    "        contador += 1\n",
    "        potencia_2 = 2 ** contador\n",
    "    \n",
    "    \n",
    "if __name__ == \"__main__\":\n",
    "    run_two()"
   ]
  }
 ],
 "metadata": {
  "kernelspec": {
   "display_name": "Python 3",
   "language": "python",
   "name": "python3"
  },
  "language_info": {
   "codemirror_mode": {
    "name": "ipython",
    "version": 3
   },
   "file_extension": ".py",
   "mimetype": "text/x-python",
   "name": "python",
   "nbconvert_exporter": "python",
   "pygments_lexer": "ipython3",
   "version": "3.10.9"
  },
  "orig_nbformat": 4,
  "vscode": {
   "interpreter": {
    "hash": "56c0ef66eafa77f5621502488dc5c34eb637ad67328822495225a940efa104a9"
   }
  }
 },
 "nbformat": 4,
 "nbformat_minor": 2
}
