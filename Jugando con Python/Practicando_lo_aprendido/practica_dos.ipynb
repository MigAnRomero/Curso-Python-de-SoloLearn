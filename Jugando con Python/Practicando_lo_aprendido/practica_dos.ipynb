{
 "cells": [
  {
   "cell_type": "code",
   "execution_count": 6,
   "metadata": {},
   "outputs": [
    {
     "name": "stdout",
     "output_type": "stream",
     "text": [
      "Tienes $2.21 dólares.\n",
      "Tienes $0.00044 pesos colombianos.\n"
     ]
    }
   ],
   "source": [
    "# Conversor de monedas\n",
    "# Pasar de pesos colombianos a dólares estadounidenses\n",
    "pesos = float(input(\"¿Cuántos pesos colombianos tienes?: \"))\n",
    "valor_dolar = 4525.98  # Valor actual de un dólar a peso colombiano (25/01/2023)\n",
    "# Convertir COP a USD\n",
    "dolares = pesos / valor_dolar\n",
    "dolares = round(dolares, 2)\n",
    "print(f\"Tienes ${dolares} dólares.\")\n",
    "\n",
    "# Pasar de dólares estadounidenses a pesos colombianos\n",
    "pesos_usd = float(input(\"Digitar cantidad de USD: \"))\n",
    "valor_cop = 0.00022 # Valor actual de un peso colombiano a dólar (25/01/2023)\n",
    "# Convertir USD a COP\n",
    "pesos_cop = pesos_usd * valor_cop\n",
    "# pesos_cop = round(pesos_cop, 2)\n",
    "print(f\"Tienes ${pesos_cop} pesos colombianos.\")"
   ]
  }
 ],
 "metadata": {
  "kernelspec": {
   "display_name": "Python 3",
   "language": "python",
   "name": "python3"
  },
  "language_info": {
   "codemirror_mode": {
    "name": "ipython",
    "version": 3
   },
   "file_extension": ".py",
   "mimetype": "text/x-python",
   "name": "python",
   "nbconvert_exporter": "python",
   "pygments_lexer": "ipython3",
   "version": "3.10.9"
  },
  "orig_nbformat": 4,
  "vscode": {
   "interpreter": {
    "hash": "fb4569285eef3a3450cb62085a5b1e0da4bce0af555edc33dcf29baf3acc1368"
   }
  }
 },
 "nbformat": 4,
 "nbformat_minor": 2
}
