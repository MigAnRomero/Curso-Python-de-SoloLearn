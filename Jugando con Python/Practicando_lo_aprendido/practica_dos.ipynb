{
 "cells": [
  {
   "cell_type": "code",
   "execution_count": 6,
   "metadata": {},
   "outputs": [
    {
     "name": "stdout",
     "output_type": "stream",
     "text": [
      "Tienes $2.21 dólares.\n",
      "Tienes $0.00044 pesos colombianos.\n"
     ]
    }
   ],
   "source": [
    "# Conversor de monedas\n",
    "# Pasar de pesos colombianos a dólares estadounidenses\n",
    "pesos = float(input(\"¿Cuántos pesos colombianos tienes?: \"))\n",
    "valor_dolar = 4525.98  # Valor actual de un dólar a peso colombiano (25/01/2023)\n",
    "# Convertir COP a USD\n",
    "dolares = pesos / valor_dolar\n",
    "dolares = round(dolares, 2)\n",
    "print(f\"Tienes ${dolares} dólares.\")\n",
    "\n",
    "# Pasar de dólares estadounidenses a pesos colombianos\n",
    "pesos_usd = float(input(\"Digitar cantidad de USD: \"))\n",
    "valor_cop = 0.00022 # Valor actual de un peso colombiano a dólar (25/01/2023)\n",
    "# Convertir USD a COP\n",
    "pesos_cop = pesos_usd * valor_cop\n",
    "# pesos_cop = round(pesos_cop, 2)\n",
    "print(f\"Tienes ${pesos_cop} pesos colombianos.\")"
   ]
  },
  {
   "cell_type": "code",
   "execution_count": 4,
   "metadata": {},
   "outputs": [
    {
     "name": "stdout",
     "output_type": "stream",
     "text": [
      "Tienes $4.41 dólares.\n",
      "El valor de un dólar a pesos colombianos es: $4537.09 COP\n"
     ]
    }
   ],
   "source": [
    "menu = \"\"\"\n",
    "Bienvenido al conversor de monedas\n",
    "\n",
    "1 - Pesos colombianos\n",
    "2 - Pesos argentinos\n",
    "3 - Pesos mexicanos\n",
    "\n",
    "Elige una opción: \"\"\"\n",
    "\n",
    "menu_dos = \"\"\"\n",
    "¿Deseas saber el valor de un dólar en la moneda del país seleccionado?\n",
    "\n",
    "1 - Si\n",
    "2 - No\n",
    "\n",
    "Elige una opción: \"\"\"\n",
    "\n",
    "opcion = int(input(menu))\n",
    "\n",
    "if (opcion == 1):\n",
    "    pesos = float(input(\"¿Cuántos pesos colombianos tienes?: \"))\n",
    "    valor_dolar = 4537.09  # Valor actual de un dólar a peso colombiano (27/01/2023)\n",
    "    # Convertir COP a USD\n",
    "    dolares = pesos / valor_dolar\n",
    "    dolares = round(dolares, 2)\n",
    "    print(f\"Tienes ${dolares} dólares.\")\n",
    "\n",
    "    opcion_dos = int(input(menu_dos))\n",
    "\n",
    "    if (opcion_dos == 1):\n",
    "        print(f\"El valor de un dólar a pesos colombianos es: ${valor_dolar} COP\")\n",
    "    elif (opcion_dos == 2):\n",
    "        print(\"Se ha finalizado el programa.\")\n",
    "    else:\n",
    "        print(\"Ingresa solo 1 o 2.\")\n",
    "elif (opcion == 2):\n",
    "    pesos = float(input(\"¿Cuántos pesos argentinos tienes?: \"))\n",
    "    valor_dolar = 185.64  # Valor actual de un dólar a peso argentino (27/01/2023)\n",
    "    # Convertir ARS a USD\n",
    "    dolares = pesos / valor_dolar\n",
    "    dolares = round(dolares, 2)\n",
    "    print(f\"Tienes ${dolares} dólares.\")\n",
    "\n",
    "    opcion_dos = int(input(menu_dos))\n",
    "\n",
    "    if (opcion_dos == 1):\n",
    "        print(f\"El valor de un dólar a pesos argentinos es: ${valor_dolar} ARS\")\n",
    "    elif (opcion_dos == 2):\n",
    "        print(\"Se ha finalizado el programa.\")\n",
    "    else:\n",
    "        print(\"Ingresa solo 1 o 2.\")\n",
    "elif (opcion == 3):\n",
    "    pesos = float(input(\"¿Cuántos pesos mexicanos tienes?: \"))\n",
    "    valor_dolar = 18.79  # Valor actual de un dólar a peso mexicano (27/01/2023)\n",
    "    # Convertir MXN a USD\n",
    "    dolares = pesos / valor_dolar\n",
    "    dolares = round(dolares, 2)\n",
    "    print(f\"Tienes ${dolares} dólares.\")\n",
    "\n",
    "    opcion_dos = int(input(menu_dos))\n",
    "\n",
    "    if (opcion_dos == 1):\n",
    "        print(f\"El valor de un dólar a pesos mexicanos es: ${valor_dolar} MXN\")\n",
    "    elif (opcion_dos == 2):\n",
    "        print(\"Se ha finalizado el programa.\")\n",
    "    else:\n",
    "        print(\"Ingresa solo 1 o 2.\")\n",
    "else:\n",
    "    print(\"Ingresa una opción correcta.\")"
   ]
  },
  {
   "cell_type": "code",
   "execution_count": null,
   "metadata": {},
   "outputs": [],
   "source": [
    "opcion_tres = int(input(\"Elige una opción (1, 2, 3): \"))\n",
    "\n",
    "if opcion_tres == 1:\n",
    "    pass\n",
    "elif opcion_tres == 2:\n",
    "    pass\n",
    "elif opcion_tres == 3:\n",
    "    pass\n",
    "else:\n",
    "    print(\"Digitar la opción correcta.\")"
   ]
  }
 ],
 "metadata": {
  "kernelspec": {
   "display_name": "Python 3",
   "language": "python",
   "name": "python3"
  },
  "language_info": {
   "codemirror_mode": {
    "name": "ipython",
    "version": 3
   },
   "file_extension": ".py",
   "mimetype": "text/x-python",
   "name": "python",
   "nbconvert_exporter": "python",
   "pygments_lexer": "ipython3",
   "version": "3.10.9"
  },
  "orig_nbformat": 4,
  "vscode": {
   "interpreter": {
    "hash": "fb4569285eef3a3450cb62085a5b1e0da4bce0af555edc33dcf29baf3acc1368"
   }
  }
 },
 "nbformat": 4,
 "nbformat_minor": 2
}
