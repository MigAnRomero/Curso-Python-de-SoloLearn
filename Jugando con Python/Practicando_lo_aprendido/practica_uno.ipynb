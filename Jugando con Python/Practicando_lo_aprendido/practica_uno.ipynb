{
 "cells": [
  {
   "cell_type": "code",
   "execution_count": 2,
   "metadata": {},
   "outputs": [
    {
     "name": "stdout",
     "output_type": "stream",
     "text": [
      "Nombre: Josefa\n",
      "Año: 1999\n",
      "País: Colombia\n"
     ]
    }
   ],
   "source": [
    "# Digitar tu nombre, año y pais de nacimiento\n",
    "nombre = input('¿Cuál es tu nombre? ')\n",
    "anio = int(input('¿En qué añó naciste? '))\n",
    "pais = input('¿Cuál es tu país de nacimiento? ')\n",
    "\n",
    "print(f\"Nombre: {nombre}\\nAño: {anio}\\nPaís: {pais}\")"
   ]
  },
  {
   "cell_type": "code",
   "execution_count": 13,
   "metadata": {},
   "outputs": [
    {
     "name": "stdout",
     "output_type": "stream",
     "text": [
      "Ciclo for tradicional\n",
      "1 2 3 4 5 6 7 8 9 10 \n",
      "Ciclo for en orden inverso\n",
      "10 9 8 7 6 5 4 3 2 1 "
     ]
    }
   ],
   "source": [
    "# Ciclo for para contar números en orden invertido\n",
    "numero = int(input(\"Digitar número: \"))\n",
    "print(\"Ciclo for tradicional\")\n",
    "for i in range(1, numero + 1):\n",
    "    print(i, end=' ')\n",
    "\n",
    "print(\"\\nCiclo for en orden inverso\")\n",
    "for i in range(numero, 0, -1):\n",
    "    print(i, end=' ')"
   ]
  }
 ],
 "metadata": {
  "kernelspec": {
   "display_name": "Python 3",
   "language": "python",
   "name": "python3"
  },
  "language_info": {
   "codemirror_mode": {
    "name": "ipython",
    "version": 3
   },
   "file_extension": ".py",
   "mimetype": "text/x-python",
   "name": "python",
   "nbconvert_exporter": "python",
   "pygments_lexer": "ipython3",
   "version": "3.10.9"
  },
  "orig_nbformat": 4,
  "vscode": {
   "interpreter": {
    "hash": "fb4569285eef3a3450cb62085a5b1e0da4bce0af555edc33dcf29baf3acc1368"
   }
  }
 },
 "nbformat": 4,
 "nbformat_minor": 2
}
