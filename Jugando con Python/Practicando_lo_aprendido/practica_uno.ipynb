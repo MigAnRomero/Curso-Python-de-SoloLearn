{
 "cells": [
  {
   "cell_type": "code",
   "execution_count": 2,
   "metadata": {},
   "outputs": [
    {
     "name": "stdout",
     "output_type": "stream",
     "text": [
      "Nombre: Josefa\n",
      "Año: 1999\n",
      "País: Colombia\n"
     ]
    }
   ],
   "source": [
    "# Digitar tu nombre, año y pais de nacimiento\n",
    "nombre = input('¿Cuál es tu nombre? ')\n",
    "anio = int(input('¿En qué añó naciste? '))\n",
    "pais = input('¿Cuál es tu país de nacimiento? ')\n",
    "\n",
    "print(f\"Nombre: {nombre}\\nAño: {anio}\\nPaís: {pais}\")"
   ]
  },
  {
   "cell_type": "code",
   "execution_count": 3,
   "metadata": {},
   "outputs": [
    {
     "name": "stdout",
     "output_type": "stream",
     "text": [
      "Ciclo for tradicional\n",
      "1 2 3 4 5 6 7 8 9 10 11 12 13 14 15 \n",
      "Ciclo for en orden inverso\n",
      "15 14 13 12 11 10 9 8 7 6 5 4 3 2 1 "
     ]
    }
   ],
   "source": [
    "# Ciclo for para contar números en orden invertido\n",
    "numero = int(input(\"Digitar número: \"))\n",
    "print(\"Ciclo for tradicional\")\n",
    "for i in range(1, numero + 1):\n",
    "    print(i, end=' ')\n",
    "\n",
    "print(\"\\nCiclo for en orden inverso\")\n",
    "for i in range(numero, 0, -1):\n",
    "    print(i, end=' ')"
   ]
  },
  {
   "cell_type": "code",
   "execution_count": 15,
   "metadata": {},
   "outputs": [
    {
     "name": "stdout",
     "output_type": "stream",
     "text": [
      "1|2|3|4|5|\n",
      "1,2,3,4,5,\n",
      "(0, 1)\n",
      "[(0, 1), (1, 2), (2, 3), (3, 4), (4, 5)]\n"
     ]
    }
   ],
   "source": [
    "# Iteradores\n",
    "lista_uno = [1, 2, 3, 4, 5]\n",
    "for i in lista_uno:\n",
    "    print(i, end=\"|\")\n",
    "\n",
    "print(\"\")\n",
    "\n",
    "# Se puede crear un iterador con la función ITER\n",
    "iterador_uno = iter(lista_uno)\n",
    "for i in iterador_uno:\n",
    "    print(i, end=\",\")\n",
    "    \n",
    "print(\"\")\n",
    "\n",
    "# También se puede iterar usando la función enumerate() junto con la función next()\n",
    "enum_uno = enumerate(lista_uno)\n",
    "print(next(enum_uno))  # El primer valor del () representa el índice y el segundo es el valor que pertenece a dicha posición dentro de una lista\n",
    "print(list(enumerate(lista_uno)))  # Otra forma de hacerlo pero con todos los elementos que tiene la lista seleccionada"
   ]
  }
 ],
 "metadata": {
  "kernelspec": {
   "display_name": "Python 3",
   "language": "python",
   "name": "python3"
  },
  "language_info": {
   "codemirror_mode": {
    "name": "ipython",
    "version": 3
   },
   "file_extension": ".py",
   "mimetype": "text/x-python",
   "name": "python",
   "nbconvert_exporter": "python",
   "pygments_lexer": "ipython3",
   "version": "3.10.9"
  },
  "orig_nbformat": 4,
  "vscode": {
   "interpreter": {
    "hash": "56c0ef66eafa77f5621502488dc5c34eb637ad67328822495225a940efa104a9"
   }
  }
 },
 "nbformat": 4,
 "nbformat_minor": 2
}
