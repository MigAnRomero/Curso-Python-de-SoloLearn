{
 "cells": [
  {
   "cell_type": "code",
   "execution_count": 2,
   "metadata": {},
   "outputs": [
    {
     "name": "stdout",
     "output_type": "stream",
     "text": [
      "Nombre: Josefa\n",
      "Año: 1999\n",
      "País: Colombia\n"
     ]
    }
   ],
   "source": [
    "# Digitar tu nombre, año y pais de nacimiento\n",
    "nombre = input('¿Cuál es tu nombre? ')\n",
    "anio = int(input('¿En qué añó naciste? '))\n",
    "pais = input('¿Cuál es tu país de nacimiento? ')\n",
    "\n",
    "print(f\"Nombre: {nombre}\\nAño: {anio}\\nPaís: {pais}\")"
   ]
  },
  {
   "cell_type": "code",
   "execution_count": 3,
   "metadata": {},
   "outputs": [
    {
     "name": "stdout",
     "output_type": "stream",
     "text": [
      "Ciclo for tradicional\n",
      "1 2 3 4 5 6 7 8 9 10 11 12 13 14 15 \n",
      "Ciclo for en orden inverso\n",
      "15 14 13 12 11 10 9 8 7 6 5 4 3 2 1 "
     ]
    }
   ],
   "source": [
    "# Ciclo for para contar números en orden invertido\n",
    "numero = int(input(\"Digitar número: \"))\n",
    "print(\"Ciclo for tradicional\")\n",
    "for i in range(1, numero + 1):\n",
    "    print(i, end=' ')\n",
    "\n",
    "print(\"\\nCiclo for en orden inverso\")\n",
    "for i in range(numero, 0, -1):\n",
    "    print(i, end=' ')"
   ]
  },
  {
   "cell_type": "code",
   "execution_count": 15,
   "metadata": {},
   "outputs": [
    {
     "name": "stdout",
     "output_type": "stream",
     "text": [
      "1|2|3|4|5|\n",
      "1,2,3,4,5,\n",
      "(0, 1)\n",
      "[(0, 1), (1, 2), (2, 3), (3, 4), (4, 5)]\n"
     ]
    }
   ],
   "source": [
    "# Iteradores\n",
    "lista_uno = [1, 2, 3, 4, 5]\n",
    "for i in lista_uno:\n",
    "    print(i, end=\"|\")\n",
    "\n",
    "print(\"\")\n",
    "\n",
    "# Se puede crear un iterador con la función ITER\n",
    "iterador_uno = iter(lista_uno)\n",
    "for i in iterador_uno:\n",
    "    print(i, end=\",\")\n",
    "    \n",
    "print(\"\")\n",
    "\n",
    "# También se puede iterar usando la función enumerate() junto con la función next()\n",
    "enum_uno = enumerate(lista_uno)\n",
    "print(next(enum_uno))  # El primer valor del () representa el índice y el segundo es el valor que pertenece a dicha posición dentro de una lista\n",
    "print(list(enumerate(lista_uno)))  # Otra forma de hacerlo pero con todos los elementos que tiene la lista seleccionada"
   ]
  },
  {
   "cell_type": "code",
   "execution_count": 2,
   "metadata": {},
   "outputs": [
    {
     "name": "stdout",
     "output_type": "stream",
     "text": [
      "Define el equipamiento para una aventura de trekking y su valor en trekjuls (moneda del juego):\n",
      "Lista tres objetos del equipamiento: Nombre y valor\n",
      "Botella: 20.5\n",
      "Agua: 73\n",
      "Snacks: 8.8\n",
      "¿Puedes combinar elementos de tu equipo para prepararte mejor?\n",
      "Agua en botella: 93.5\n",
      "Linterna funcional: 39.69\n",
      "¿El precio del agua en botella es menor al de la linterna funcional?\n",
      "False\n",
      "¿Cuanto valdría comprar unos snacks y una brujula?\n",
      "69.79\n",
      "¿Si tengo 100 puntos, me alcanza para comprar unas botas?\n",
      "False\n"
     ]
    }
   ],
   "source": [
    "#Clase 1 Proyecto: Definidendo la aventura\n",
    "\n",
    "#Equipamiento - Costo en monedas trekjuls\n",
    "print(\"Define el equipamiento para una aventura de trekking y su valor en trekjuls (moneda del juego):\")\n",
    "\n",
    "mapa = 70.67\n",
    "botas = 120.23\n",
    "bateria = 11.69\n",
    "linterna = 28\n",
    "agua = 73\n",
    "botella = 20.5\n",
    "snacks = 8.8\n",
    "brujula = 60.99\n",
    "reloj = 83.75\n",
    "lentes_sol = 53.28\n",
    "\n",
    "\n",
    "print(\"Lista tres objetos del equipamiento: Nombre y valor\")\n",
    "print(\"Botella:\", botella)\n",
    "print(\"Agua:\", agua)\n",
    "print(\"Snacks:\", snacks)\n",
    "\n",
    "#Operadores\n",
    "print(\"¿Puedes combinar elementos de tu equipo para prepararte mejor?\")\n",
    "\n",
    "agua_en_botella = agua + botella\n",
    "linterna_funcional = linterna + bateria\n",
    "\n",
    "print(\"Agua en botella:\", agua_en_botella)\n",
    "print(\"Linterna funcional:\", linterna_funcional)\n",
    "\n",
    "\n",
    "print(\"¿El precio del agua en botella es menor al de la linterna funcional?\")\n",
    "print(agua_en_botella < linterna_funcional)\n",
    "\n",
    "print(\"¿Cuanto valdría comprar unos snacks y una brujula?\")\n",
    "print(snacks + brujula)\n",
    "\n",
    "print(\"¿Si tengo 100 puntos, me alcanza para comprar unas botas?\")\n",
    "print(botas <= 100)"
   ]
  },
  {
   "cell_type": "code",
   "execution_count": 3,
   "metadata": {},
   "outputs": [
    {
     "name": "stdout",
     "output_type": "stream",
     "text": [
      "No colocar más de 5 objetos en tu mochila, y tampoco pasarte de 200 trekjuls: ¿Cuales elementos colocarías?\n",
      "Ups! Ninguna de tus intentos fue exitoso\n",
      "El valor de los elementos es menor a 200. Total compra:  194.18\n"
     ]
    }
   ],
   "source": [
    "#Clase 2 Proyecto: Tomando decisiones\n",
    "\n",
    "print(\"No colocar más de 5 objetos en tu mochila, y tampoco pasarte de 200 trekjuls: ¿Cuales elementos colocarías?\")\n",
    "\n",
    "mochila = 0\n",
    "\n",
    "if agua_en_botella + linterna_funcional + brujula + reloj + snacks <= 200:\n",
    "    mochila = agua_en_botella + linterna_funcional + brujula + reloj + snacks\n",
    "    print(\"El valor de los elementos es menor a 200: \", mochila)\n",
    "\n",
    "elif agua_en_botella + linterna_funcional + brujula + reloj <= 200:\n",
    "    mochila = agua_en_botella + linterna_funcional + brujula + reloj\n",
    "    print(\"El valor de los elementos es menor a 200\", mochila)\n",
    "\n",
    "else:\n",
    "    print(\"Ups! Ninguna de tus intentos fue exitoso\")\n",
    "\n",
    "if agua_en_botella + linterna_funcional + brujula <= 200:\n",
    "    mochila = agua_en_botella + linterna_funcional + brujula\n",
    "    print(\"El valor de los elementos es menor a 200. Total compra: \", mochila)"
   ]
  },
  {
   "cell_type": "code",
   "execution_count": 4,
   "metadata": {},
   "outputs": [
    {
     "name": "stdout",
     "output_type": "stream",
     "text": [
      "Es tu dia de suerte! Te voy a dar otra mochila, pero solo puedes agregarle agua en botella\n",
      "Mochila dos:  93.5\n",
      "Mochila dos:  187.0\n",
      "Mochila dos:  280.5\n",
      "Nos pasamos, vamos a restar una botella de agua, ahora tenemos:  187.0\n"
     ]
    }
   ],
   "source": [
    "#Ciclos\n",
    "\n",
    "print (\"Es tu dia de suerte! Te voy a dar otra mochila, pero solo puedes agregarle agua en botella\")\n",
    "mochila_dos = 0\n",
    "\n",
    "while (mochila_dos <= 200):\n",
    "    mochila_dos += agua_en_botella\n",
    "    print(\"Mochila dos: \", mochila_dos)\n",
    "\n",
    "mochila_dos -= agua_en_botella\n",
    "print(\"Nos pasamos, vamos a restar una botella de agua, ahora tenemos: \", mochila_dos)\n"
   ]
  },
  {
   "cell_type": "code",
   "execution_count": 8,
   "metadata": {},
   "outputs": [
    {
     "name": "stdout",
     "output_type": "stream",
     "text": [
      "La esfingue le hizo una actualización a tu mochila, porque solo podias conocer el valor de los objetos que tenias\n",
      "Ahora sabras el objeto que tienes, la cantidad y su valor unitario, pero tu debes volverla a llenarla\n",
      "\n",
      "Mostrar mochila_actualizada:  {'agua_en_botella': {'cantidad': 1, 'valor_unitario': 93.5}, 'linterna_funcional': {'cantidad': 1, 'valor_unitario': 39.69}, 'brujula': {'cantidad': 1, 'valor_unitario': 60.99}}\n",
      "\n",
      "Mostrar mochila_dos_actualizada:  {'agua_en_botella': {'cantidad': 2, 'valor_unitario': 93.5}}\n"
     ]
    }
   ],
   "source": [
    "#Clase 3 Proyecto: \n",
    "\n",
    "#Diccionarios\n",
    "print(\"La esfingue le hizo una actualización a tu mochila, porque solo podias conocer el valor de los objetos que tenias\")\n",
    "print(\"Ahora sabras el objeto que tienes, la cantidad y su valor unitario, pero tu debes volverla a llenarla\")\n",
    "\n",
    "mochila_actualizada = {\n",
    "    \"agua_en_botella\" : {\"cantidad\": 1, \"valor_unitario\": agua_en_botella},\n",
    "    \"linterna_funcional\" : {\"cantidad\": 1, \"valor_unitario\": linterna_funcional},\n",
    "    \"brujula\" : {\"cantidad\": 1, \"valor_unitario\": brujula}\n",
    "}\n",
    "\n",
    "print(\"\\nMostrar mochila_actualizada: \", mochila_actualizada)\n",
    "\n",
    "mochila_dos_actualizada = {\n",
    "    \"agua_en_botella\" : {\"cantidad\": 2, \"valor_unitario\": agua_en_botella}\n",
    "}\n",
    "\n",
    "print(\"\\nMostrar mochila_dos_actualizada: \", mochila_dos_actualizada)"
   ]
  },
  {
   "cell_type": "code",
   "execution_count": 13,
   "metadata": {},
   "outputs": [
    {
     "name": "stdout",
     "output_type": "stream",
     "text": [
      "En esta aventura te van a acompañar 8 integrantes más, y te han pedido que les armes una mochila igual a la tuya y la coloques en el compartimiento de tu vehiculo\n",
      "\n",
      "Acabas de armar la mochila para el compartimiento:  1\n",
      "Acabas de armar la mochila para el compartimiento:  2\n",
      "Acabas de armar la mochila para el compartimiento:  3\n",
      "Acabas de armar la mochila para el compartimiento:  4\n",
      "Acabas de armar la mochila para el compartimiento:  5\n",
      "Acabas de armar la mochila para el compartimiento:  6\n",
      "Acabas de armar la mochila para el compartimiento:  7\n",
      "\n",
      "Numero de compartmiento 1 para la mochila:  {'agua_en_botella': {'cantidad': 1, 'valor_unitario': 93.5}, 'linterna_funcional': {'cantidad': 1, 'valor_unitario': 39.69}, 'brujula': {'cantidad': 1, 'valor_unitario': 60.99}} \n",
      "\n",
      "Numero de compartmiento 2 para la mochila:  {'agua_en_botella': {'cantidad': 1, 'valor_unitario': 93.5}, 'linterna_funcional': {'cantidad': 1, 'valor_unitario': 39.69}, 'brujula': {'cantidad': 1, 'valor_unitario': 60.99}} \n",
      "\n",
      "Numero de compartmiento 3 para la mochila:  {'agua_en_botella': {'cantidad': 1, 'valor_unitario': 93.5}, 'linterna_funcional': {'cantidad': 1, 'valor_unitario': 39.69}, 'brujula': {'cantidad': 1, 'valor_unitario': 60.99}} \n",
      "\n",
      "Numero de compartmiento 4 para la mochila:  {'agua_en_botella': {'cantidad': 1, 'valor_unitario': 93.5}, 'linterna_funcional': {'cantidad': 1, 'valor_unitario': 39.69}, 'brujula': {'cantidad': 1, 'valor_unitario': 60.99}} \n",
      "\n",
      "Numero de compartmiento 5 para la mochila:  {'agua_en_botella': {'cantidad': 1, 'valor_unitario': 93.5}, 'linterna_funcional': {'cantidad': 1, 'valor_unitario': 39.69}, 'brujula': {'cantidad': 1, 'valor_unitario': 60.99}} \n",
      "\n",
      "Numero de compartmiento 6 para la mochila:  {'agua_en_botella': {'cantidad': 1, 'valor_unitario': 93.5}, 'linterna_funcional': {'cantidad': 1, 'valor_unitario': 39.69}, 'brujula': {'cantidad': 1, 'valor_unitario': 60.99}} \n",
      "\n",
      "Numero de compartmiento 7 para la mochila:  {'agua_en_botella': {'cantidad': 1, 'valor_unitario': 93.5}, 'linterna_funcional': {'cantidad': 1, 'valor_unitario': 39.69}, 'brujula': {'cantidad': 1, 'valor_unitario': 60.99}} \n",
      "\n"
     ]
    }
   ],
   "source": [
    "#Listas\n",
    "\n",
    "print(\"En esta aventura te van a acompañar 8 integrantes más, y te han pedido que les armes una mochila igual a la tuya y la coloques en el compartimiento de tu vehiculo\\n\")\n",
    "\n",
    "vehiculo = [{}] * 7\n",
    "\n",
    "for compartimiento in range(7):\n",
    "    vehiculo[compartimiento] = {\n",
    "        \"agua_en_botella\" : {\"cantidad\": 1, \"valor_unitario\": agua_en_botella},\n",
    "        \"linterna_funcional\" : {\"cantidad\": 1, \"valor_unitario\": linterna_funcional},\n",
    "        \"brujula\" : {\"cantidad\": 1, \"valor_unitario\": brujula}\n",
    "    }\n",
    "    print(\"Acabas de armar la mochila para el compartimiento: \", compartimiento + 1)\n",
    "\n",
    "print(\"\")\n",
    "\n",
    "numero_compartimiento = 0\n",
    "\n",
    "for mochila in vehiculo:\n",
    "    numero_compartimiento += 1\n",
    "    print(f\"Numero de compartmiento {numero_compartimiento} para la mochila: \", mochila, \"\\n\")"
   ]
  },
  {
   "cell_type": "code",
   "execution_count": 1,
   "metadata": {},
   "outputs": [
    {
     "name": "stdout",
     "output_type": "stream",
     "text": [
      "6\n",
      "15\n",
      "8\n"
     ]
    }
   ],
   "source": [
    "# Parametros en funciones\n",
    "\n",
    "def suma(a, b=1):\n",
    "    return a + b\n",
    "\n",
    "resultado = suma(5)\n",
    "print(resultado)\n",
    "\n",
    "# En el orden que quieres\n",
    "resultado = suma(b = 10, a = 5)\n",
    "print(resultado)\n",
    "\n",
    "# Asignar a una variable\n",
    "s = suma\n",
    "resultado = s(5, 3)\n",
    "print(resultado)"
   ]
  },
  {
   "cell_type": "code",
   "execution_count": 3,
   "metadata": {},
   "outputs": [
    {
     "name": "stdout",
     "output_type": "stream",
     "text": [
      "[20, 10, 4]\n"
     ]
    }
   ],
   "source": [
    "# Paso por valor en funciones\n",
    "# def duplicar(dato):\n",
    "#     dato = dato * 2\n",
    "\n",
    "# num = 10\n",
    "# duplicar(num)\n",
    "# print(num) La salida sigue siendo 10\n",
    "\n",
    "# Paso por referencia en funciones\n",
    "def duplicar(datos):\n",
    "    for i, n in enumerate(datos):\n",
    "        numeros[i] = numeros[i] * 2\n",
    "\n",
    "numeros = [10, 5, 2]\n",
    "duplicar(numeros)\n",
    "print(numeros)\n"
   ]
  },
  {
   "cell_type": "code",
   "execution_count": null,
   "metadata": {},
   "outputs": [],
   "source": [
    "# Preparando un omelette\n",
    "# Paso 1\n",
    "# def primer_paso(mantequilla):\n",
    "#     sarten = sacar_sarten_de_la_cocina()\n",
    "#     if(es_primera_vez):\n",
    "#         prender_fuego(sarten, \"bajo\")\n",
    "#     else:\n",
    "#         prender_fuego(sarten, \"medio\")\n",
    "#     poner_ingredientes(sarten, mantequilla)\n",
    "#     return sarten\n",
    "\n",
    "# Paso 2\n",
    "# def segundo_paso(huevos, sal, pinienta, cebollin):\n",
    "#     bol = sacar_sarten_de_la_cocina()\n",
    "#     bol = poner_ingredientes(bol, huevos, sal, pinienta, cebollin)\n",
    "#     bol.batir_ingredientes(20)\n",
    "#     return bol\n",
    "\n",
    "# Paso 3\n",
    "# def tercer_paso(sarten, bol):\n",
    "#     omelet = bol.sacar_ingredientes(sarten)\n",
    "#     if(borde_esta_cocido(sarten)):\n",
    "#         omelet = mover(sarten)\n",
    "        \n",
    "#     if(omelet_esta_suelta(omelet)):\n",
    "#         return sarten\n",
    "\n",
    "# Paso 4\n",
    "# def cuarto_paso(sarten, queso, champinones):\n",
    "#     if(doblar_en_3):\n",
    "#         sarten = poner_ingredientes_en_la_mitad(sarten, queso, champinones)\n",
    "#     else:\n",
    "#         sarten = poner_ingredientes(sarten, queso, champinones)\n",
    "#     return sarten\n",
    "\n",
    "# Paso 5\n",
    "# def quinto_paso(sarten, espatula, plato):\n",
    "#     plato = sacar_plato_caliente_de_la_cocina()\n",
    "#     plegar_omelet(sarten, espatula)\n",
    "#     if(esta_cocinado(sarten)):\n",
    "#         plato = pasar_a_plato(sarten)\n",
    "#     return plato"
   ]
  }
 ],
 "metadata": {
  "kernelspec": {
   "display_name": "Python 3",
   "language": "python",
   "name": "python3"
  },
  "language_info": {
   "codemirror_mode": {
    "name": "ipython",
    "version": 3
   },
   "file_extension": ".py",
   "mimetype": "text/x-python",
   "name": "python",
   "nbconvert_exporter": "python",
   "pygments_lexer": "ipython3",
   "version": "3.10.9"
  },
  "orig_nbformat": 4,
  "vscode": {
   "interpreter": {
    "hash": "56c0ef66eafa77f5621502488dc5c34eb637ad67328822495225a940efa104a9"
   }
  }
 },
 "nbformat": 4,
 "nbformat_minor": 2
}
