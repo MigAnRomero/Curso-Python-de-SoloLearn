{
 "cells": [
  {
   "cell_type": "code",
   "execution_count": 1,
   "metadata": {},
   "outputs": [
    {
     "name": "stdout",
     "output_type": "stream",
     "text": [
      "Bienvenido a mi aplicación\n"
     ]
    }
   ],
   "source": [
    "# Métodos frecuentes del objeto String:\n",
    "\n",
    "# Métodos de formato\n",
    "\n",
    "# Convertir a mayúscula la primera letra\n",
    "# Método: capitalize()\n",
    "# Retorna: una copia de la cadena con la primera letra en mayúsculas\n",
    "cadena_uno = \"bienvenido a mi aplicación\"\n",
    "print(cadena_uno.capitalize())"
   ]
  },
  {
   "cell_type": "code",
   "execution_count": 3,
   "metadata": {},
   "outputs": [
    {
     "name": "stdout",
     "output_type": "stream",
     "text": [
      "hola mundo\n",
      "hi jhonn!\n"
     ]
    }
   ],
   "source": [
    "# Convertir una cadena a minúsculas\n",
    "# Método: lower()\n",
    "# Retorna: una copia de la cadena en minúsculas\n",
    "cadena_dos = \"Hola Mundo\"\n",
    "cadena_tres = \"Hi Jhonn!\"\n",
    "\n",
    "print(cadena_dos.lower())\n",
    "print(cadena_tres.lower())"
   ]
  },
  {
   "cell_type": "code",
   "execution_count": 4,
   "metadata": {},
   "outputs": [
    {
     "name": "stdout",
     "output_type": "stream",
     "text": [
      "HOLA MUNDO\n",
      "HI JHONN!\n"
     ]
    }
   ],
   "source": [
    "# Convertir una cadena a mayúsculas\n",
    "# Método: upper()\n",
    "# Retorna: una copia de la cadena en mayúsculas\n",
    "print(cadena_dos.upper())\n",
    "print(cadena_tres.upper())"
   ]
  },
  {
   "cell_type": "code",
   "execution_count": 4,
   "metadata": {},
   "outputs": [
    {
     "name": "stdout",
     "output_type": "stream",
     "text": [
      "Método swapcase() en la variable cadena_cuatro: CamelCase, snake_case, camelCaseDos\n",
      "cadena_cuatro.swapcase(): cAMELcASE, SNAKE_CASE, CAMELcASEdOS\n"
     ]
    }
   ],
   "source": [
    "# Convertir mayúsculas a minúsculas y viceversa\n",
    "# Método: swapcase()\n",
    "# Retorna: una copia de la cadena convertidas las mayúsculas en minúsculas y viceversa\n",
    "cadena_cuatro = \"CamelCase, snake_case, camelCaseDos\"\n",
    "# print(cadena_tres.swapcase())\n",
    "print(f\"Método swapcase() en la variable cadena_cuatro: {cadena_cuatro}\\n\" +\n",
    "      f\"cadena_cuatro.swapcase(): {cadena_cuatro.swapcase()}\")"
   ]
  },
  {
   "cell_type": "code",
   "execution_count": 6,
   "metadata": {},
   "outputs": [
    {
     "name": "stdout",
     "output_type": "stream",
     "text": [
      "fue solo una vez en la vida. Cuando aún era muy joven\n",
      "Fue Solo Una Vez En La Vida. Cuando Aún Era Muy Joven\n"
     ]
    }
   ],
   "source": [
    "# Convertir una cadena en Formato Título\n",
    "# Método: title()\n",
    "# Retorna: una copia de la cadena convertida\n",
    "texto_uno = \"fue solo una vez en la vida. Cuando aún era muy joven\"\n",
    "print(texto_uno)\n",
    "print(texto_uno.title())"
   ]
  },
  {
   "cell_type": "code",
   "execution_count": 21,
   "metadata": {},
   "outputs": [
    {
     "name": "stdout",
     "output_type": "stream",
     "text": [
      "======¡Bienvenido a mi aplicación de prueba!======\n",
      "------------\n",
      "      ¡Bienvenido a mi aplicación de prueba!      \n",
      "------------------------\n",
      "++++++¡Bienvenido a mi aplicación de prueba!++++++\n",
      "------------------------------------\n",
      "------¡Bienvenido a mi aplicación de prueba!------\n",
      "------------------------------------------------\n",
      "******¡Bienvenido a mi aplicación de prueba!******\n",
      "------------------------------\n"
     ]
    }
   ],
   "source": [
    "# Centrar un texto\n",
    "# Método: center(longitud[, “caracter de relleno”])\n",
    "# Retorna: una copia de la cadena centrada\n",
    "cadena_cinco = \"¡Bienvenido a mi aplicación de prueba!\"\n",
    "print(cadena_cinco.center(50, \"=\"))\n",
    "print(\"---\"*4)  # Los caracteres se repiten 4 veces en la salida\n",
    "print(cadena_cinco.center(50, \" \"))\n",
    "print(\"---\"*8)\n",
    "print(cadena_cinco.center(50, \"+\"))\n",
    "print(\"---\"*12)\n",
    "print(cadena_cinco.center(50, \"-\"))\n",
    "print(\"----\"*12)\n",
    "print(cadena_cinco.center(50, \"*\"))\n",
    "print(\"---\"*10)"
   ]
  },
  {
   "cell_type": "code",
   "execution_count": 22,
   "metadata": {},
   "outputs": [
    {
     "name": "stdout",
     "output_type": "stream",
     "text": [
      "¡Bienvenido a mi aplicación de prueba!============\n"
     ]
    }
   ],
   "source": [
    "# Alinear texto a la izquierda\n",
    "# Método: ljust(longitud[, “caracter de relleno”])\n",
    "# Retorna: una copia de la cadena alineada a la izquierda\n",
    "print(cadena_cinco.ljust(50, \"=\"))"
   ]
  },
  {
   "cell_type": "code",
   "execution_count": 26,
   "metadata": {},
   "outputs": [
    {
     "name": "stdout",
     "output_type": "stream",
     "text": [
      "============¡Bienvenido a mi aplicación de prueba!\n",
      "********************************¡Bienvenido a mi aplicación de prueba!\n",
      "----------------------¡Bienvenido a mi aplicación de prueba!\n",
      "  ¡Bienvenido a mi aplicación de prueba!\n",
      "#################¡Bienvenido a mi aplicación de prueba!\n"
     ]
    }
   ],
   "source": [
    "# Alinear texto a la derecha\n",
    "# Método: rjust(longitud[, “caracter de relleno”])\n",
    "# Retorna: una copia de la cadena alineada a la derecha\n",
    "print(cadena_cinco.rjust(50, \"=\"))\n",
    "print(cadena_cinco.rjust(70, \"*\"))\n",
    "print(cadena_cinco.rjust(60, \"-\"))\n",
    "print(cadena_cinco.rjust(40, \" \"))\n",
    "print(cadena_cinco.rjust(55, \"#\"))\n"
   ]
  },
  {
   "cell_type": "code",
   "execution_count": 29,
   "metadata": {},
   "outputs": [
    {
     "name": "stdout",
     "output_type": "stream",
     "text": [
      "000000001575\n",
      "Número de elementos en str(numero_factura).zfill(12): 12\n",
      "\n",
      "0000000000000000001575\n",
      "Número de elementos en str(numero_factura).zfill(12): 22\n",
      "\n"
     ]
    }
   ],
   "source": [
    "# Rellenar un texto anteponiendo ceros\n",
    "# Método: zfill(longitud)\n",
    "# Retorna: una copia de la cadena rellena con ceros a la izquierda hasta alcanzar la\n",
    "# longitud final indicada\n",
    "numero_factura = 1575\n",
    "print(str(numero_factura).zfill(12))\n",
    "print(f\"Número de elementos en str(numero_factura).zfill(12): {len(str(numero_factura).zfill(12))}\\n\")\n",
    "print(str(numero_factura).zfill(22))\n",
    "print(f\"Número de elementos en str(numero_factura).zfill(12): {len(str(numero_factura).zfill(22))}\\n\")\n"
   ]
  },
  {
   "cell_type": "code",
   "execution_count": 32,
   "metadata": {},
   "outputs": [
    {
     "name": "stdout",
     "output_type": "stream",
     "text": [
      "¡Bienvenido a mi aplicación de prueba!\n",
      "4\n",
      "2\n"
     ]
    }
   ],
   "source": [
    "# Métodos de Búsqueda\n",
    "\n",
    "# Contar cantidad de apariciones de una subcadena\n",
    "# Método: count(“subcadena”[, posicion_inicio, posicion_fin])\n",
    "# Retorna: un entero representando la cantidad de apariciones de subcadena dentro de\n",
    "# cadena\n",
    "\n",
    "print(cadena_cinco)\n",
    "print(cadena_cinco.count(\"a\"))  # Cuenta las veces que se repite la letra \"a\" en cadena_cinco\n",
    "cadena_modificada = \"Bienvenido A mi aplicAción de prueba\"\n",
    "print(cadena_modificada.count(\"a\"))  # En la salida debe dar 2 por no contar la mayúscula de \"a\""
   ]
  },
  {
   "cell_type": "code",
   "execution_count": 34,
   "metadata": {},
   "outputs": [
    {
     "name": "stdout",
     "output_type": "stream",
     "text": [
      "14\n",
      "-1\n",
      "14\n"
     ]
    }
   ],
   "source": [
    "# Buscar una subcadena dentro de una cadena\n",
    "# Método: find(“subcadena”[, posicion_inicio, posicion_fin])\n",
    "# Retorna: un entero representando la posición donde inicia la subcadena dentro de\n",
    "# cadena. Si no la encuentra, retorna -1\n",
    "print(cadena_cinco.find(\"mi\"))\n",
    "print(cadena_cinco.find(\"mi\", 0, 10))\n",
    "print(cadena_cinco.find(\"mi\", 0, -1))"
   ]
  },
  {
   "cell_type": "code",
   "execution_count": 4,
   "metadata": {},
   "outputs": [
    {
     "name": "stdout",
     "output_type": "stream",
     "text": [
      "cadena_uno: bienvenido a mi aplicación\n",
      "ejemplo: Bienvenido a mi aplicación\n",
      "Probando con cadena_uno\n",
      "False\n",
      "False\n",
      "True\n",
      "Probando con ejemplo\n",
      "True\n",
      "False\n",
      "ejemplo.find(\"aplicación\"): 16\n",
      "True\n"
     ]
    }
   ],
   "source": [
    "# Métodos de Validación\n",
    "\n",
    "# Saber si una cadena comienza con una subcadena determinada\n",
    "# Método: startswith(“subcadena”[, posicion_inicio, posicion_fin])\n",
    "# Retorna: True o False\n",
    "print(f\"cadena_uno: {cadena_uno}\")\n",
    "ejemplo = cadena_uno.capitalize()\n",
    "print(f\"ejemplo: {ejemplo}\")\n",
    "print(\"Probando con cadena_uno\")\n",
    "print(cadena_uno.startswith(\"Bienvenido\"))\n",
    "print(cadena_uno.startswith(\"aplicación\"))\n",
    "print(cadena_uno.startswith(\"aplicación\", 16))\n",
    "print(\"Probando con ejemplo\")\n",
    "print(ejemplo.startswith(\"Bienvenido\"))\n",
    "print(ejemplo.startswith(\"aplicación\"))\n",
    "print(f\"ejemplo.find(\\\"aplicación\\\"): \" + str(ejemplo.find(\"aplicación\")))\n",
    "print(ejemplo.startswith(\"aplicación\", 16))"
   ]
  },
  {
   "cell_type": "code",
   "execution_count": 5,
   "metadata": {},
   "outputs": [
    {
     "name": "stdout",
     "output_type": "stream",
     "text": [
      "True\n",
      "False\n",
      "False\n",
      "True\n"
     ]
    }
   ],
   "source": [
    "# Saber si una cadena finaliza con una subcadena determinada\n",
    "# Método: endswith(“subcadena”[, posicion_inicio, posicion_fin])\n",
    "# Retorna: True o False\n",
    "print(cadena_uno.endswith(\"aplicación\"))\n",
    "print(cadena_uno.endswith(\"Bienvenido\"))\n",
    "print(cadena_uno.endswith(\"bienvenido\"))\n",
    "print(cadena_uno.endswith(\"bienvenido\", 0, 10))"
   ]
  },
  {
   "cell_type": "code",
   "execution_count": 1,
   "metadata": {},
   "outputs": [
    {
     "name": "stdout",
     "output_type": "stream",
     "text": [
      "user_one (MexicoPower4Ever) es una cadena alfanumérica: True\n",
      "user_two (Milan2Morrow) es una cadena alfanumérica: True\n",
      "user_three (PapaMericana) es una cadena alfanumérica: True\n",
      "user_four (Cristobal Doce 12) es una cadena alfanumérica: False\n",
      "user_five (Money_Six) es una cadena alfanumérica: False\n"
     ]
    }
   ],
   "source": [
    "# Saber si una cadena es alfanumérica\n",
    "# Método: isalnum()\n",
    "# Retorna: True o False\n",
    "user_one = \"MexicoPower4Ever\"\n",
    "user_two = \"Milan2Morrow\"\n",
    "user_three = \"PapaMericana\"\n",
    "user_four = \"Cristobal Doce 12\"\n",
    "user_five = \"Money_Six\"\n",
    "\n",
    "print(f\"user_one ({user_one}) es una cadena alfanumérica: {user_one.isalnum()}\")\n",
    "print(f\"user_two ({user_two}) es una cadena alfanumérica: {user_two.isalnum()}\")\n",
    "print(f\"user_three ({user_three}) es una cadena alfanumérica: {user_three.isalnum()}\")\n",
    "print(f\"user_four ({user_four}) es una cadena alfanumérica: {user_four.isalnum()}\")\n",
    "print(f\"user_five ({user_five}) es una cadena alfanumérica: {user_five.isalnum()}\")"
   ]
  },
  {
   "cell_type": "code",
   "execution_count": 10,
   "metadata": {},
   "outputs": [
    {
     "name": "stdout",
     "output_type": "stream",
     "text": [
      "user_one (MexicoPower4Ever) es una cadena alfabética: False\n",
      "user_two (Milan2Morrow) es una cadena alfabética: False\n",
      "user_three (PapaMericana) es una cadena alfabética: True\n",
      "user_four (Cristobal Doce 12) es una cadena alfabética: False\n",
      "user_five (Money_Six) es una cadena alfabética: False\n"
     ]
    }
   ],
   "source": [
    "# Saber si una cadena es alfabética\n",
    "# Método: isalpha()\n",
    "# Retorna: True o False\n",
    "print(f\"user_one ({user_one}) es una cadena alfabética: {user_one.isalpha()}\")\n",
    "print(f\"user_two ({user_two}) es una cadena alfabética: {user_two.isalpha()}\")\n",
    "print(f\"user_three ({user_three}) es una cadena alfabética: {user_three.isalpha()}\")\n",
    "print(f\"user_four ({user_four}) es una cadena alfabética: {user_four.isalpha()}\")\n",
    "print(f\"user_five ({user_five}) es una cadena alfabética: {user_five.isalpha()}\")"
   ]
  },
  {
   "cell_type": "code",
   "execution_count": 2,
   "metadata": {},
   "outputs": [
    {
     "name": "stdout",
     "output_type": "stream",
     "text": [
      "user_one (MexicoPower4Ever) es una cadena numérica: False\n",
      "user_two (Milan2Morrow) es una cadena numérica: False\n",
      "user_three (PapaMericana) es una cadena numérica: False\n",
      "user_four (Cristobal Doce 12) es una cadena numérica: False\n",
      "user_five (Money_Six) es una cadena numérica: False\n",
      "password_one (12345) es una cadena numérica: True\n",
      "password_two (0987654321) es una cadena numérica: True\n",
      "password_three (+*-Q1234) es una cadena numérica: False\n",
      "password_four (OP12_345) es una cadena numérica: False\n",
      "password_five (#1234) es una cadena numérica: False\n"
     ]
    }
   ],
   "source": [
    "# Saber si una cadena es numérica\n",
    "# Método: isdigit()\n",
    "# Retorna: True o False\n",
    "password_one = \"12345\"\n",
    "password_two = \"0987654321\"\n",
    "password_three = \"+*-Q1234\"\n",
    "password_four = \"OP12_345\"\n",
    "password_five = \"#1234\"\n",
    "\n",
    "print(f\"user_one ({user_one}) es una cadena numérica: {user_one.isdigit()}\")\n",
    "print(f\"user_two ({user_two}) es una cadena numérica: {user_two.isdigit()}\")\n",
    "print(f\"user_three ({user_three}) es una cadena numérica: {user_three.isdigit()}\")\n",
    "print(f\"user_four ({user_four}) es una cadena numérica: {user_four.isdigit()}\")\n",
    "print(f\"user_five ({user_five}) es una cadena numérica: {user_five.isdigit()}\")\n",
    "print(f\"password_one ({password_one}) es una cadena numérica: {password_one.isdigit()}\")\n",
    "print(f\"password_two ({password_two}) es una cadena numérica: {password_two.isdigit()}\")\n",
    "print(f\"password_three ({password_three}) es una cadena numérica: {password_three.isdigit()}\")\n",
    "print(f\"password_four ({password_four}) es una cadena numérica: {password_four.isdigit()}\")\n",
    "print(f\"password_five ({password_five}) es una cadena numérica: {password_five.isdigit()}\")"
   ]
  },
  {
   "cell_type": "code",
   "execution_count": 3,
   "metadata": {},
   "outputs": [
    {
     "name": "stdout",
     "output_type": "stream",
     "text": [
      "¿user_one (MexicoPower4Ever) es una cadena de solo minúsculas?: False\n",
      "¿user_two (Milan2Morrow) es una cadena de solo minúsculas?: False\n",
      "¿user_three (PapaMericana) es una cadena de solo minúsculas?: False\n",
      "¿usuario_uno (mario pepe) es una cadena de solo minúsculas?: True\n",
      "¿usuario_dos (mariopepe) es una cadena de solo minúsculas?: True\n",
      "¿usuario_tres (mario_pepe) es una cadena de solo minúsculas?: True\n",
      "¿usuario_cuatro (marioPepe) es una cadena de solo minúsculas?: False\n"
     ]
    }
   ],
   "source": [
    "# Saber si una cadena contiene solo minúsculas\n",
    "# Método: islower()\n",
    "# Retorna: True o False\n",
    "usuario_uno = \"mario pepe\"\n",
    "usuario_dos = \"mariopepe\"\n",
    "usuario_tres = \"mario_pepe\"\n",
    "usuario_cuatro = \"marioPepe\"\n",
    "\n",
    "print(f\"¿user_one ({user_one}) es una cadena de solo minúsculas?: {user_one.islower()}\")\n",
    "print(f\"¿user_two ({user_two}) es una cadena de solo minúsculas?: {user_two.islower()}\")\n",
    "print(f\"¿user_three ({user_three}) es una cadena de solo minúsculas?: {user_three.islower()}\")\n",
    "print(f\"¿usuario_uno ({usuario_uno}) es una cadena de solo minúsculas?: {usuario_uno.islower()}\")\n",
    "print(f\"¿usuario_dos ({usuario_dos}) es una cadena de solo minúsculas?: {usuario_dos.islower()}\")\n",
    "print(f\"¿usuario_tres ({usuario_tres}) es una cadena de solo minúsculas?: {usuario_tres.islower()}\")\n",
    "print(f\"¿usuario_cuatro ({usuario_cuatro}) es una cadena de solo minúsculas?: {usuario_cuatro.islower()}\")"
   ]
  },
  {
   "cell_type": "code",
   "execution_count": 4,
   "metadata": {},
   "outputs": [
    {
     "name": "stdout",
     "output_type": "stream",
     "text": [
      "¿user_one (MexicoPower4Ever) es una cadena de solo mayúsculas?: False\n",
      "¿user_two (Milan2Morrow) es una cadena de solo mayúsculas?: False\n",
      "¿user_three (PapaMericana) es una cadena de solo mayúsculas?: False\n",
      "¿usuario_uno (mario pepe) es una cadena de solo mayúsculas?: False\n",
      "¿usuario_dos (mariopepe) es una cadena de solo mayúsculas?: False\n",
      "¿usuario_tres (mario_pepe) es una cadena de solo mayúsculas?: False\n",
      "¿usuario_cuatro (marioPepe) es una cadena de solo mayúsculas?: False\n",
      "¿code_one (NCSI) es una cadena de solo mayúsculas?: True\n",
      "¿code_two (CSI LAS VEGAS) es una cadena de solo mayúsculas?: True\n",
      "¿code_three (NCSI: NEW YORK) es una cadena de solo mayúsculas?: True\n",
      "¿code_four (NCSI: Miami) es una cadena de solo mayúsculas?: False\n",
      "¿code_five (NCSI_AGENTE_DINOZZO) es una cadena de solo mayúsculas?: True\n"
     ]
    }
   ],
   "source": [
    "# Saber si una cadena contiene solo mayúsculas\n",
    "# Método: isupper()\n",
    "# Retorna: True o False\n",
    "code_one = \"NCSI\"\n",
    "code_two = \"CSI LAS VEGAS\"\n",
    "code_three = \"NCSI: NEW YORK\"\n",
    "code_four = \"NCSI: Miami\"\n",
    "code_five = \"NCSI_AGENTE_DINOZZO\"\n",
    "\n",
    "print(f\"¿user_one ({user_one}) es una cadena de solo mayúsculas?: {user_one.isupper()}\")\n",
    "print(f\"¿user_two ({user_two}) es una cadena de solo mayúsculas?: {user_two.isupper()}\")\n",
    "print(f\"¿user_three ({user_three}) es una cadena de solo mayúsculas?: {user_three.isupper()}\")\n",
    "print(f\"¿usuario_uno ({usuario_uno}) es una cadena de solo mayúsculas?: {usuario_uno.isupper()}\")\n",
    "print(f\"¿usuario_dos ({usuario_dos}) es una cadena de solo mayúsculas?: {usuario_dos.isupper()}\")\n",
    "print(f\"¿usuario_tres ({usuario_tres}) es una cadena de solo mayúsculas?: {usuario_tres.isupper()}\")\n",
    "print(f\"¿usuario_cuatro ({usuario_cuatro}) es una cadena de solo mayúsculas?: {usuario_cuatro.isupper()}\")\n",
    "print(f\"¿code_one ({code_one}) es una cadena de solo mayúsculas?: {code_one.isupper()}\")\n",
    "print(f\"¿code_two ({code_two}) es una cadena de solo mayúsculas?: {code_two.isupper()}\")\n",
    "print(f\"¿code_three ({code_three}) es una cadena de solo mayúsculas?: {code_three.isupper()}\")\n",
    "print(f\"¿code_four ({code_four}) es una cadena de solo mayúsculas?: {code_four.isupper()}\")\n",
    "print(f\"¿code_five ({code_five}) es una cadena de solo mayúsculas?: {code_five.isupper()}\")"
   ]
  },
  {
   "cell_type": "code",
   "execution_count": 5,
   "metadata": {},
   "outputs": [
    {
     "name": "stdout",
     "output_type": "stream",
     "text": [
      "¿user_one (MexicoPower4Ever) es una cadena con solo espacios en blanco?: False\n",
      "¿user_two (Milan2Morrow) es una cadena con solo espacios en blanco?: False\n",
      "¿user_three (PapaMericana) es una cadena con solo espacios en blanco?: False\n",
      "¿usuario_uno (mario pepe) es una cadena con espacios en blanco?: False\n",
      "¿usuario_dos (mariopepe) es una cadena con solo espacios en blanco?: False\n",
      "¿usuario_tres (mario_pepe) es una cadena con solo espacios en blanco?: False\n",
      "¿usuario_cuatro (marioPepe) es una cadena con solo espacios en blanco?: False\n",
      "¿code_one (NCSI) es una cadena con solo espacios en blanco?: False\n",
      "¿code_two (CSI LAS VEGAS) es una cadena con solo espacios en blanco?: False\n",
      "¿code_three (NCSI: NEW YORK) es una cadena con solo espacios en blanco?: False\n",
      "¿code_four (NCSI: Miami) es una cadena con solo espacios en blanco?: False\n",
      "¿code_five (NCSI_AGENTE_DINOZZO) es una cadena con solo espacios en blanco?: False\n",
      "¿cadena_vacia () es una cadena con solo espacios en blanco?: False\n",
      "¿cadena_con_espacios_en_blanco (   ) es una cadena con solo espacios en blanco?: True\n"
     ]
    }
   ],
   "source": [
    "# Saber si una cadena contiene solo espacios en blanco\n",
    "# Método: isspace()\n",
    "# Retorna: True o False\n",
    "cadena_vacia = \"\"\n",
    "cadena_con_espacios_en_blanco = \"   \"\n",
    "\n",
    "print(f\"¿user_one ({user_one}) es una cadena con solo espacios en blanco?: {user_one.isspace()}\")\n",
    "print(f\"¿user_two ({user_two}) es una cadena con solo espacios en blanco?: {user_two.isspace()}\")\n",
    "print(f\"¿user_three ({user_three}) es una cadena con solo espacios en blanco?: {user_three.isspace()}\")\n",
    "print(f\"¿usuario_uno ({usuario_uno}) es una cadena con espacios en blanco?: {usuario_uno.isspace()}\")\n",
    "print(f\"¿usuario_dos ({usuario_dos}) es una cadena con solo espacios en blanco?: {usuario_dos.isspace()}\")\n",
    "print(f\"¿usuario_tres ({usuario_tres}) es una cadena con solo espacios en blanco?: {usuario_tres.isspace()}\")\n",
    "print(f\"¿usuario_cuatro ({usuario_cuatro}) es una cadena con solo espacios en blanco?: {usuario_cuatro.isspace()}\")\n",
    "print(f\"¿code_one ({code_one}) es una cadena con solo espacios en blanco?: {code_one.isspace()}\")\n",
    "print(f\"¿code_two ({code_two}) es una cadena con solo espacios en blanco?: {code_two.isspace()}\")\n",
    "print(f\"¿code_three ({code_three}) es una cadena con solo espacios en blanco?: {code_three.isspace()}\")\n",
    "print(f\"¿code_four ({code_four}) es una cadena con solo espacios en blanco?: {code_four.isspace()}\")\n",
    "print(f\"¿code_five ({code_five}) es una cadena con solo espacios en blanco?: {code_five.isspace()}\")\n",
    "print(f\"¿cadena_vacia ({cadena_vacia}) es una cadena con solo espacios en blanco?: {cadena_vacia.isspace()}\")\n",
    "print(f\"¿cadena_con_espacios_en_blanco ({cadena_con_espacios_en_blanco}) es una cadena con solo espacios en blanco?: {cadena_con_espacios_en_blanco.isspace()}\")"
   ]
  },
  {
   "cell_type": "code",
   "execution_count": 9,
   "metadata": {},
   "outputs": [
    {
     "name": "stdout",
     "output_type": "stream",
     "text": [
      "¿cadena_normal (Pepe Grillo) tiene Formato de Título?: True\n",
      "¿cadena_normal (Pepe grillo) tiene Formato de Título?: False\n",
      "¿cadena_normal (Pepe_Grillo) tiene Formato de Título?: True\n",
      "¿cadena_normal (CSI: Miami) tiene Formato de Título?: False\n",
      "¿cadena_normal (CSI NY) tiene Formato de Título?: False\n",
      "¿cadena_normal (Csi: Miami) tiene Formato de Título?: True\n",
      "¿cadena_normal (CSI Miami) tiene Formato de Título?: False\n",
      "¿cadena_normal (CamelCase_Upper) tiene Formato de Título?: False\n"
     ]
    }
   ],
   "source": [
    "# Saber si una cadena tiene Formato De Título\n",
    "# Método: istitle()\n",
    "# Retorna: True o False\n",
    "cadena_normal = \"Pepe Grillo\"\n",
    "print(f\"¿cadena_normal ({cadena_normal}) tiene Formato de Título?: {cadena_normal.istitle()}\")\n",
    "cadena_normal = \"Pepe grillo\"\n",
    "print(f\"¿cadena_normal ({cadena_normal}) tiene Formato de Título?: {cadena_normal.istitle()}\")\n",
    "cadena_normal = \"Pepe_Grillo\"\n",
    "print(f\"¿cadena_normal ({cadena_normal}) tiene Formato de Título?: {cadena_normal.istitle()}\")\n",
    "cadena_normal = \"CSI: Miami\"\n",
    "print(f\"¿cadena_normal ({cadena_normal}) tiene Formato de Título?: {cadena_normal.istitle()}\")\n",
    "cadena_normal = \"CSI NY\"\n",
    "print(f\"¿cadena_normal ({cadena_normal}) tiene Formato de Título?: {cadena_normal.istitle()}\")\n",
    "cadena_normal = \"Csi: Miami\"\n",
    "print(f\"¿cadena_normal ({cadena_normal}) tiene Formato de Título?: {cadena_normal.istitle()}\")\n",
    "cadena_normal = \"CSI Miami\"\n",
    "print(f\"¿cadena_normal ({cadena_normal}) tiene Formato de Título?: {cadena_normal.istitle()}\")\n",
    "cadena_normal = \"CamelCase_Upper\"\n",
    "print(f\"¿cadena_normal ({cadena_normal}) tiene Formato de Título?: {cadena_normal.istitle()}\")"
   ]
  },
  {
   "cell_type": "code",
   "execution_count": 15,
   "metadata": {},
   "outputs": [
    {
     "name": "stdout",
     "output_type": "stream",
     "text": [
      "bienvenido a mi aplicación en Python\n",
      "bienvenido a mi aplicación en Java o en Python\n",
      "Importe bruto: $100 + IVA: $21 = Importe neto: 121\n",
      "Importe bruto: $100 + IVA: $21 = Importe neto: 121\n",
      "Importe bruto: $100 + IVA: $21.0 = Importe neto: 121.0\n",
      "Hola mi nombres es {0} y soy graduado de la {1} del año {2}\n",
      "Hola mi nombres es Luis Hernan y soy graduado de la UFPs del año 2020\n"
     ]
    }
   ],
   "source": [
    "# Métodos de Sustitución\n",
    "\n",
    "# Dar formato a una cadena, sustituyendo texto dinámicamente\n",
    "# Método: format(*args, **kwargs)\n",
    "# Retorna: la cadena formateada\n",
    "cadena = \"bienvenido a mi aplicación {0}\"\n",
    "print(cadena.format(\"en Python\"))\n",
    "# bienvenido a mi aplicación en Python\n",
    "# print(cadena.format(programa=input()))  # IndexError: Replacement index 0 out of range for positional args tuple\n",
    "print(cadena.format(input()))\n",
    "cadena = \"Importe bruto: ${0} + IVA: ${1} = Importe neto: {2}\"\n",
    "print(cadena.format(100, 21, 121))\n",
    "# Importe bruto: $100 + IVA: $21 = Importe neto: 121\n",
    "cadena = \"Importe bruto: ${bruto} + IVA: ${iva} = Importe neto: {neto}\"\n",
    "print(cadena.format(bruto=100, iva=21, neto=121))\n",
    "# Importe bruto: $100 + IVA: $21 = Importe neto: 121\n",
    "print(cadena.format(bruto=100, iva=100 * 21 / 100, neto=100 * 21 / 100 + 100))\n",
    "# Importe bruto: $100 + IVA: $21 = Importe neto: 121\n",
    "name = input()\n",
    "university = input()\n",
    "year = input()\n",
    "cadena = \"Hola mi nombres es {0} y soy graduado de la {1} del año {2}\"\n",
    "print(cadena)\n",
    "print(cadena.format(name, university, year))"
   ]
  },
  {
   "cell_type": "code",
   "execution_count": 18,
   "metadata": {},
   "outputs": [
    {
     "name": "stdout",
     "output_type": "stream",
     "text": [
      "La UFPS se encuentra en Colombia.\n"
     ]
    }
   ],
   "source": [
    "cadena = \"La {university} se encuentra en {country}.\"\n",
    "print(cadena.format(university=input(), country=input()))"
   ]
  }
 ],
 "metadata": {
  "kernelspec": {
   "display_name": "Python 3.10.4 64-bit",
   "language": "python",
   "name": "python3"
  },
  "language_info": {
   "codemirror_mode": {
    "name": "ipython",
    "version": 3
   },
   "file_extension": ".py",
   "mimetype": "text/x-python",
   "name": "python",
   "nbconvert_exporter": "python",
   "pygments_lexer": "ipython3",
   "version": "3.10.4"
  },
  "orig_nbformat": 4,
  "vscode": {
   "interpreter": {
    "hash": "fb4569285eef3a3450cb62085a5b1e0da4bce0af555edc33dcf29baf3acc1368"
   }
  }
 },
 "nbformat": 4,
 "nbformat_minor": 2
}
