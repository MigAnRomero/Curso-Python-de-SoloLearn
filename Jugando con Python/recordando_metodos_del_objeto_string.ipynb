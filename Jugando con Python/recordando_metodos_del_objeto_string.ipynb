{
 "cells": [
  {
   "cell_type": "code",
   "execution_count": 1,
   "metadata": {},
   "outputs": [
    {
     "name": "stdout",
     "output_type": "stream",
     "text": [
      "Bienvenido a mi aplicación\n"
     ]
    }
   ],
   "source": [
    "# Métodos frecuentes del objeto String:\n",
    "\n",
    "# Métodos de formato\n",
    "# Convertir a mayúscula la primera letra\n",
    "# Método: capitalize()\n",
    "# Retorna: una copia de la cadena con la primera letra en mayúsculas\n",
    "cadena_uno = \"bienvenido a mi aplicación\"\n",
    "print(cadena_uno.capitalize())"
   ]
  },
  {
   "cell_type": "code",
   "execution_count": 3,
   "metadata": {},
   "outputs": [
    {
     "name": "stdout",
     "output_type": "stream",
     "text": [
      "hola mundo\n",
      "hi jhonn!\n"
     ]
    }
   ],
   "source": [
    "# Convertir una cadena a minúsculas\n",
    "# Método: lower()\n",
    "# Retorna: una copia de la cadena en minúsculas\n",
    "cadena_dos = \"Hola Mundo\"\n",
    "cadena_tres = \"Hi Jhonn!\"\n",
    "\n",
    "print(cadena_dos.lower())\n",
    "print(cadena_tres.lower())"
   ]
  },
  {
   "cell_type": "code",
   "execution_count": 4,
   "metadata": {},
   "outputs": [
    {
     "name": "stdout",
     "output_type": "stream",
     "text": [
      "HOLA MUNDO\n",
      "HI JHONN!\n"
     ]
    }
   ],
   "source": [
    "# Convertir una cadena a mayúsculas\n",
    "# Método: upper()\n",
    "# Retorna: una copia de la cadena en mayúsculas\n",
    "print(cadena_dos.upper())\n",
    "print(cadena_tres.upper())"
   ]
  },
  {
   "cell_type": "code",
   "execution_count": 4,
   "metadata": {},
   "outputs": [
    {
     "name": "stdout",
     "output_type": "stream",
     "text": [
      "Método swapcase() en la variable cadena_cuatro: CamelCase, snake_case, camelCaseDos\n",
      "cadena_cuatro.swapcase(): cAMELcASE, SNAKE_CASE, CAMELcASEdOS\n"
     ]
    }
   ],
   "source": [
    "# Convertir mayúsculas a minúsculas y viceversa\n",
    "# Método: swapcase()\n",
    "# Retorna: una copia de la cadena convertidas las mayúsculas en minúsculas y viceversa\n",
    "cadena_cuatro = \"CamelCase, snake_case, camelCaseDos\"\n",
    "# print(cadena_tres.swapcase())\n",
    "print(f\"Método swapcase() en la variable cadena_cuatro: {cadena_cuatro}\\n\" +\n",
    "      f\"cadena_cuatro.swapcase(): {cadena_cuatro.swapcase()}\")"
   ]
  }
 ],
 "metadata": {
  "kernelspec": {
   "display_name": "Python 3.10.4 64-bit",
   "language": "python",
   "name": "python3"
  },
  "language_info": {
   "codemirror_mode": {
    "name": "ipython",
    "version": 3
   },
   "file_extension": ".py",
   "mimetype": "text/x-python",
   "name": "python",
   "nbconvert_exporter": "python",
   "pygments_lexer": "ipython3",
   "version": "3.10.4"
  },
  "orig_nbformat": 4,
  "vscode": {
   "interpreter": {
    "hash": "fb4569285eef3a3450cb62085a5b1e0da4bce0af555edc33dcf29baf3acc1368"
   }
  }
 },
 "nbformat": 4,
 "nbformat_minor": 2
}
