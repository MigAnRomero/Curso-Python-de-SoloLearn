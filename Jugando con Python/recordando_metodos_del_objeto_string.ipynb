{
 "cells": [
  {
   "cell_type": "code",
   "execution_count": 1,
   "metadata": {},
   "outputs": [
    {
     "name": "stdout",
     "output_type": "stream",
     "text": [
      "Bienvenido a mi aplicación\n"
     ]
    }
   ],
   "source": [
    "# Métodos frecuentes del objeto String:\n",
    "\n",
    "# Métodos de formato\n",
    "# Convertir a mayúscula la primera letra\n",
    "# Método: capitalize()\n",
    "# Retorna: una copia de la cadena con la primera letra en mayúsculas\n",
    "cadena_uno = \"bienvenido a mi aplicación\"\n",
    "print(cadena_uno.capitalize())"
   ]
  },
  {
   "cell_type": "code",
   "execution_count": 3,
   "metadata": {},
   "outputs": [
    {
     "name": "stdout",
     "output_type": "stream",
     "text": [
      "hola mundo\n",
      "hi jhonn!\n"
     ]
    }
   ],
   "source": [
    "# Convertir una cadena a minúsculas\n",
    "# Método: lower()\n",
    "# Retorna: una copia de la cadena en minúsculas\n",
    "cadena_dos = \"Hola Mundo\"\n",
    "cadena_tres = \"Hi Jhonn!\"\n",
    "\n",
    "print(cadena_dos.lower())\n",
    "print(cadena_tres.lower())"
   ]
  },
  {
   "cell_type": "code",
   "execution_count": 4,
   "metadata": {},
   "outputs": [
    {
     "name": "stdout",
     "output_type": "stream",
     "text": [
      "HOLA MUNDO\n",
      "HI JHONN!\n"
     ]
    }
   ],
   "source": [
    "# Convertir una cadena a mayúsculas\n",
    "# Método: upper()\n",
    "# Retorna: una copia de la cadena en mayúsculas\n",
    "print(cadena_dos.upper())\n",
    "print(cadena_tres.upper())"
   ]
  },
  {
   "cell_type": "code",
   "execution_count": 4,
   "metadata": {},
   "outputs": [
    {
     "name": "stdout",
     "output_type": "stream",
     "text": [
      "Método swapcase() en la variable cadena_cuatro: CamelCase, snake_case, camelCaseDos\n",
      "cadena_cuatro.swapcase(): cAMELcASE, SNAKE_CASE, CAMELcASEdOS\n"
     ]
    }
   ],
   "source": [
    "# Convertir mayúsculas a minúsculas y viceversa\n",
    "# Método: swapcase()\n",
    "# Retorna: una copia de la cadena convertidas las mayúsculas en minúsculas y viceversa\n",
    "cadena_cuatro = \"CamelCase, snake_case, camelCaseDos\"\n",
    "# print(cadena_tres.swapcase())\n",
    "print(f\"Método swapcase() en la variable cadena_cuatro: {cadena_cuatro}\\n\" +\n",
    "      f\"cadena_cuatro.swapcase(): {cadena_cuatro.swapcase()}\")"
   ]
  },
  {
   "cell_type": "code",
   "execution_count": 6,
   "metadata": {},
   "outputs": [
    {
     "name": "stdout",
     "output_type": "stream",
     "text": [
      "fue solo una vez en la vida. Cuando aún era muy joven\n",
      "Fue Solo Una Vez En La Vida. Cuando Aún Era Muy Joven\n"
     ]
    }
   ],
   "source": [
    "# Convertir una cadena en Formato Título\n",
    "# Método: title()\n",
    "# Retorna: una copia de la cadena convertida\n",
    "texto_uno = \"fue solo una vez en la vida. Cuando aún era muy joven\"\n",
    "print(texto_uno)\n",
    "print(texto_uno.title())"
   ]
  },
  {
   "cell_type": "code",
   "execution_count": 21,
   "metadata": {},
   "outputs": [
    {
     "name": "stdout",
     "output_type": "stream",
     "text": [
      "======¡Bienvenido a mi aplicación de prueba!======\n",
      "------------\n",
      "      ¡Bienvenido a mi aplicación de prueba!      \n",
      "------------------------\n",
      "++++++¡Bienvenido a mi aplicación de prueba!++++++\n",
      "------------------------------------\n",
      "------¡Bienvenido a mi aplicación de prueba!------\n",
      "------------------------------------------------\n",
      "******¡Bienvenido a mi aplicación de prueba!******\n",
      "------------------------------\n"
     ]
    }
   ],
   "source": [
    "# Centrar un texto\n",
    "# Método: center(longitud[, “caracter de relleno”])\n",
    "# Retorna: una copia de la cadena centrada\n",
    "cadena_cinco = \"¡Bienvenido a mi aplicación de prueba!\"\n",
    "print(cadena_cinco.center(50, \"=\"))\n",
    "print(\"---\"*4)  # Los caracteres se repiten 4 veces en la salida\n",
    "print(cadena_cinco.center(50, \" \"))\n",
    "print(\"---\"*8)\n",
    "print(cadena_cinco.center(50, \"+\"))\n",
    "print(\"---\"*12)\n",
    "print(cadena_cinco.center(50, \"-\"))\n",
    "print(\"----\"*12)\n",
    "print(cadena_cinco.center(50, \"*\"))\n",
    "print(\"---\"*10)"
   ]
  },
  {
   "cell_type": "code",
   "execution_count": 22,
   "metadata": {},
   "outputs": [
    {
     "name": "stdout",
     "output_type": "stream",
     "text": [
      "¡Bienvenido a mi aplicación de prueba!============\n"
     ]
    }
   ],
   "source": [
    "# Alinear texto a la izquierda\n",
    "# Método: ljust(longitud[, “caracter de relleno”])\n",
    "# Retorna: una copia de la cadena alineada a la izquierda\n",
    "print(cadena_cinco.ljust(50, \"=\"))"
   ]
  },
  {
   "cell_type": "code",
   "execution_count": 26,
   "metadata": {},
   "outputs": [
    {
     "name": "stdout",
     "output_type": "stream",
     "text": [
      "============¡Bienvenido a mi aplicación de prueba!\n",
      "********************************¡Bienvenido a mi aplicación de prueba!\n",
      "----------------------¡Bienvenido a mi aplicación de prueba!\n",
      "  ¡Bienvenido a mi aplicación de prueba!\n",
      "#################¡Bienvenido a mi aplicación de prueba!\n"
     ]
    }
   ],
   "source": [
    "# Alinear texto a la derecha\n",
    "# Método: rjust(longitud[, “caracter de relleno”])\n",
    "# Retorna: una copia de la cadena alineada a la derecha\n",
    "print(cadena_cinco.rjust(50, \"=\"))\n",
    "print(cadena_cinco.rjust(70, \"*\"))\n",
    "print(cadena_cinco.rjust(60, \"-\"))\n",
    "print(cadena_cinco.rjust(40, \" \"))\n",
    "print(cadena_cinco.rjust(55, \"#\"))\n"
   ]
  },
  {
   "cell_type": "code",
   "execution_count": 29,
   "metadata": {},
   "outputs": [
    {
     "name": "stdout",
     "output_type": "stream",
     "text": [
      "000000001575\n",
      "Número de elementos en str(numero_factura).zfill(12): 12\n",
      "\n",
      "0000000000000000001575\n",
      "Número de elementos en str(numero_factura).zfill(12): 22\n",
      "\n"
     ]
    }
   ],
   "source": [
    "# Rellenar un texto anteponiendo ceros\n",
    "# Método: zfill(longitud)\n",
    "# Retorna: una copia de la cadena rellena con ceros a la izquierda hasta alcanzar la\n",
    "# longitud final indicada\n",
    "numero_factura = 1575\n",
    "print(str(numero_factura).zfill(12))\n",
    "print(f\"Número de elementos en str(numero_factura).zfill(12): {len(str(numero_factura).zfill(12))}\\n\")\n",
    "print(str(numero_factura).zfill(22))\n",
    "print(f\"Número de elementos en str(numero_factura).zfill(12): {len(str(numero_factura).zfill(22))}\\n\")\n"
   ]
  }
 ],
 "metadata": {
  "kernelspec": {
   "display_name": "Python 3.10.4 64-bit",
   "language": "python",
   "name": "python3"
  },
  "language_info": {
   "codemirror_mode": {
    "name": "ipython",
    "version": 3
   },
   "file_extension": ".py",
   "mimetype": "text/x-python",
   "name": "python",
   "nbconvert_exporter": "python",
   "pygments_lexer": "ipython3",
   "version": "3.10.4"
  },
  "orig_nbformat": 4,
  "vscode": {
   "interpreter": {
    "hash": "fb4569285eef3a3450cb62085a5b1e0da4bce0af555edc33dcf29baf3acc1368"
   }
  }
 },
 "nbformat": 4,
 "nbformat_minor": 2
}
