{
 "cells": [
  {
   "cell_type": "code",
   "execution_count": 3,
   "metadata": {},
   "outputs": [
    {
     "name": "stdout",
     "output_type": "stream",
     "text": [
      "Hello\n",
      "word\n",
      "!\n",
      "---\n",
      "3\n"
     ]
    }
   ],
   "source": [
    "# LISTS\n",
    "# Las listas se utilizan para almacenar artículos.\n",
    "# Podemos crear una lista usando corchetes con comas que separan los elementos.\n",
    "# words = [\"Hello\", \"word\", \"!\"]\n",
    "# En este ejemplo, la lista de palabras contiene tres elementos de cadena: Hello , mundo y !\n",
    "\n",
    "# Si desea acceder a un determinado elemento de la lista, puede hacerlo utilizando su índice \n",
    "# entre corchetes . En nuestro ejemplo, se vería así:\n",
    "words = [\"Hello\", \"word\", \"!\"]\n",
    "print(words[0])\n",
    "print(words[1])\n",
    "print(words[2])\n",
    "# El índice del primer elemento de la lista es 0 , en lugar de 1, como era de esperar.\n",
    "print(\"---\")\n",
    "# Otro ejemplo:\n",
    "nums = [5, 4, 3, 2, 1]\n",
    "print(nums[2])"
   ]
  },
  {
   "cell_type": "code",
   "execution_count": 4,
   "metadata": {},
   "outputs": [
    {
     "name": "stdout",
     "output_type": "stream",
     "text": [
      "b\n",
      "4\n"
     ]
    }
   ],
   "source": [
    "# Las listas pueden contener diferentes tipos de datos, como cadenas y números.\n",
    "x = [\"a\", \"b\", \"c\"]\n",
    "y = [1, 2, 3, 4, 5]\n",
    "\n",
    "print(x[1])\n",
    "print(y[3])"
   ]
  },
  {
   "cell_type": "code",
   "execution_count": 6,
   "metadata": {},
   "outputs": [
    {
     "name": "stdout",
     "output_type": "stream",
     "text": [
      "6\n",
      "1\n"
     ]
    }
   ],
   "source": [
    "# ¡Pero las listas no son solo para ir de compras! Podemos hacer algunas cosas \n",
    "# geniales con ellos en Python. Por ejemplo, podemos usar listas anidadas para \n",
    "# representar cuadrículas 2D, como matrices. Por ejemplo:\n",
    "m = [\n",
    "    [1, 2, 3], \n",
    "    [4, 5, 6]\n",
    "    ]\n",
    "# Esto es útil porque una estructura similar a una matriz puede permitirle almacenar \n",
    "# datos en formato fila-columna, como en los programas de emisión de boletos, que \n",
    "# necesitan almacenar los números de asiento en una matriz, con sus filas y \n",
    "# números correspondientes.\n",
    "\n",
    "# Para acceder a los elementos de una matriz, especificamos la fila y la columna del \n",
    "# elemento entre corchetes:\n",
    "print(m[1][2])\n",
    "# El código anterior genera el tercer elemento de la segunda fila.\n",
    "print(m[0][0])\n",
    "# El código anterior genera el primer elemento de la primera fila."
   ]
  },
  {
   "cell_type": "code",
   "execution_count": 8,
   "metadata": {},
   "outputs": [
    {
     "name": "stdout",
     "output_type": "stream",
     "text": [
      "8\n"
     ]
    }
   ],
   "source": [
    "things = [\"text\", 0, [1, 2, 8], 4.56]\n",
    "print(things[2][2])"
   ]
  },
  {
   "cell_type": "code",
   "execution_count": 11,
   "metadata": {},
   "outputs": [
    {
     "name": "stdout",
     "output_type": "stream",
     "text": [
      "w\n",
      "e\n",
      "l\n",
      "l\n",
      "o\n"
     ]
    }
   ],
   "source": [
    "# STRINGS\n",
    "# ¡Las cadenas también se pueden indexar como listas! Indexar una cadena \n",
    "# es como crear una lista que contenga cada carácter de la cadena. Por ejemplo:\n",
    "str = \"Hello world!\"\n",
    "print(str[6])\n",
    "print(str[1])\n",
    "print(str[2])\n",
    "print(str[3])\n",
    "print(str[4])\n",
    "# El espacio (\" \") también es un símbolo y tiene un índice.\n",
    "# La cadena \"Hola\" se puede considerar como una lista, donde cada carácter es un \n",
    "# elemento de la lista. El primer elemento es \"H\", el segundo elemento es \"e\", y así sucesivamente."
   ]
  },
  {
   "cell_type": "code",
   "execution_count": 13,
   "metadata": {},
   "outputs": [
    {
     "name": "stdout",
     "output_type": "stream",
     "text": [
      "y\n",
      "o\n",
      "yo\n"
     ]
    }
   ],
   "source": [
    "x = \"Python\"\n",
    "print(x[1])\n",
    "print(x[4])\n",
    "print(x[1] + x[4])"
   ]
  },
  {
   "cell_type": "code",
   "execution_count": 17,
   "metadata": {},
   "outputs": [
    {
     "name": "stdout",
     "output_type": "stream",
     "text": [
      "[5, 8, 2]\n",
      "[5, 42, 2]\n",
      "---\n",
      "[1, 2, 3, 4, 5]\n",
      "4\n",
      "[1, 2, 3, 2, 5]\n",
      "2\n"
     ]
    }
   ],
   "source": [
    "# LIST OPERATIONS\n",
    "# El elemento en un cierto índice en una lista se puede reasignar. \n",
    "# Por ejemplo:\n",
    "nums = [5, 8, 2]\n",
    "print(nums)\n",
    "nums[1] = 42\n",
    "print(nums)\n",
    "# Otro ejemplo:\n",
    "print(\"---\")\n",
    "nums = [1, 2, 3, 4, 5]\n",
    "print(nums)\n",
    "print(nums[3])\n",
    "nums[3] = nums[1]\n",
    "print(nums)\n",
    "print(nums[3])"
   ]
  },
  {
   "cell_type": "code",
   "execution_count": 21,
   "metadata": {},
   "outputs": [
    {
     "name": "stdout",
     "output_type": "stream",
     "text": [
      "[1, 2, 3]\n",
      "[1, 2, 3, 4, 5, 6]\n",
      "---\n",
      "[2, 4, 6, 8]\n",
      "6\n",
      "2\n",
      "3\n"
     ]
    }
   ],
   "source": [
    "# ¡La lista de cosas geniales que podemos hacer con las listas sigue creciendo!\n",
    "# Las listas también se pueden agregar de la misma manera que las cadenas. Por ejemplo:\n",
    "nums = [1, 2, 3]\n",
    "print(nums)\n",
    "print(nums + [4, 5, 6])\n",
    "print(\"---\")\n",
    "# Otro ejemplo:\n",
    "x = [2, 4]\n",
    "x += [6, 8]\n",
    "print(x)\n",
    "print(x[2])\n",
    "print(x[0])\n",
    "print(x[2]//x[0])"
   ]
  },
  {
   "cell_type": "code",
   "execution_count": 22,
   "metadata": {},
   "outputs": [
    {
     "name": "stdout",
     "output_type": "stream",
     "text": [
      "[1, 2, 3, 1, 2, 3, 1, 2, 3]\n"
     ]
    }
   ],
   "source": [
    "# Las listas y las cadenas comparten muchas similitudes; básicamente, puede \n",
    "# pensar en las cadenas como listas de caracteres que no se pueden cambiar.\n",
    "# Similar a las cadenas, una lista se puede multiplicar por un número entero:\n",
    "nums = [1, 2, 3]\n",
    "print(nums * 3)\n",
    "# Esto repite la lista el número especificado de veces."
   ]
  },
  {
   "cell_type": "code",
   "execution_count": 27,
   "metadata": {},
   "outputs": [
    {
     "name": "stdout",
     "output_type": "stream",
     "text": [
      "[2, 4, 2, 4, 2, 4]\n",
      "4\n"
     ]
    }
   ],
   "source": [
    "x = [2, 4]\n",
    "x = x * 3\n",
    "print(x)\n",
    "print(x[3])"
   ]
  },
  {
   "cell_type": "code",
   "execution_count": 31,
   "metadata": {},
   "outputs": [
    {
     "name": "stdout",
     "output_type": "stream",
     "text": [
      "['spam', 'egg', 'spam', 'sausage']\n",
      "True\n",
      "True\n",
      "False\n"
     ]
    }
   ],
   "source": [
    "# Para verificar si un elemento está en una lista en particular, podemos usar \n",
    "# el operador in. Devuelve True si el elemento aparece una o más veces en la \n",
    "# lista y False en caso contrario.\n",
    "words = [\"spam\", \"egg\", \"spam\", \"sausage\"]\n",
    "print(words)\n",
    "print(\"spam\" in words)\n",
    "print(\"egg\" in words)\n",
    "print(\"tomato\" in words)"
   ]
  },
  {
   "cell_type": "code",
   "execution_count": 33,
   "metadata": {},
   "outputs": [
    {
     "name": "stdout",
     "output_type": "stream",
     "text": [
      "[10, 9, 8, 7, 6, 5]\n",
      "[4, 9, 8, 7, 6, 5]\n",
      "7\n"
     ]
    }
   ],
   "source": [
    "nums = [10, 9, 8, 7, 6, 5]\n",
    "print(nums)\n",
    "nums[0] = nums[1] - 5\n",
    "print(nums)\n",
    "if 4 in nums:\n",
    "  print(nums[3])\n",
    "else:\n",
    "  print(nums[4])"
   ]
  },
  {
   "cell_type": "code",
   "execution_count": 36,
   "metadata": {},
   "outputs": [
    {
     "name": "stdout",
     "output_type": "stream",
     "text": [
      "No\n"
     ]
    }
   ],
   "source": [
    "# El operador in también se usa para determinar si una cadena \n",
    "# es o no una subcadena de otra cadena.\n",
    "x = \"hello world\"\n",
    "\n",
    "if \"word\" in x:\n",
    "    print(\"Yes\")\n",
    "else:\n",
    "    print(\"No\")"
   ]
  },
  {
   "cell_type": "code",
   "execution_count": 1,
   "metadata": {},
   "outputs": [
    {
     "name": "stdout",
     "output_type": "stream",
     "text": [
      "[1, 2, 3]\n",
      "True\n",
      "True\n",
      "False\n",
      "False\n"
     ]
    }
   ],
   "source": [
    "# De manera similar, para verificar si un elemento no está en una lista, \n",
    "# puede usar el operador not de una de las siguientes maneras:\n",
    "nums = [1, 2, 3]\n",
    "print(nums)\n",
    "print(not 4 in nums)\n",
    "print(4 not in nums)\n",
    "print(not 3 in nums)\n",
    "print(3 not in nums)"
   ]
  },
  {
   "cell_type": "code",
   "execution_count": 3,
   "metadata": {},
   "outputs": [
    {
     "name": "stdout",
     "output_type": "stream",
     "text": [
      "hello!\n",
      "world!\n",
      "spam!\n",
      "eggs!\n"
     ]
    }
   ],
   "source": [
    "# FOR LOOP\n",
    "# Hemos aprendido sobre el bucle while en las lecciones anteriores. \n",
    "# Ahora es el momento de aprender sobre el bucle for. \n",
    "# El ciclo for se usa para iterar sobre una secuencia determinada, \n",
    "# como listas o cadenas. \n",
    "# El siguiente código genera cada elemento de la lista y agrega un \n",
    "# signo de exclamación al final:\n",
    "words = [\"hello\", \"world\", \"spam\", \"eggs\"]\n",
    "for word in words:\n",
    "    print(word + \"!\")\n",
    "# El bucle for define una variable que toma el valor del elemento actual \n",
    "# de la lista en cada iteración. \n",
    "# En el código anterior, la palabra variable representa el elemento \n",
    "# correspondiente de la lista en cada iteración del bucle.\n",
    "\n",
    "# Durante la primera iteración, palabra es igual a \"hello\", y durante \n",
    "# la segunda iteración es igual a \"world\", y así sucesivamente."
   ]
  },
  {
   "cell_type": "code",
   "execution_count": 4,
   "metadata": {},
   "outputs": [
    {
     "name": "stdout",
     "output_type": "stream",
     "text": [
      "8\n",
      "14\n",
      "6\n",
      "2\n"
     ]
    }
   ],
   "source": [
    "nums = [4, 7, 3, 1]\n",
    "for x in nums:\n",
    "    print(x*2)"
   ]
  },
  {
   "cell_type": "code",
   "execution_count": 5,
   "metadata": {},
   "outputs": [
    {
     "name": "stdout",
     "output_type": "stream",
     "text": [
      "2\n"
     ]
    }
   ],
   "source": [
    "# Se puede usar un bucle for para iterar sobre cadenas. \n",
    "# Por ejemplo:\n",
    "\n",
    "str = \"testing for loops\"\n",
    "count = 0\n",
    "\n",
    "for x in str:\n",
    "    if(x == 't'):\n",
    "        count += 1\n",
    "print(count)\n",
    "\n",
    "# El código anterior define una variable de count, itera sobre \n",
    "# la cadena y calcula el count de letras ' t ' en él. Durante cada \n",
    "# iteración, la variable x representa la letra actual de la cadena.\n",
    "\n",
    "# La variable de count se incrementa cada vez que se encuentra \n",
    "# la letra 't', por lo que al final del ciclo, representa el número \n",
    "# de letras 't' en la cadena."
   ]
  },
  {
   "cell_type": "code",
   "execution_count": 9,
   "metadata": {},
   "outputs": [
    {
     "name": "stdout",
     "output_type": "stream",
     "text": [
      "s\n",
      "o\n",
      "m\n",
      "---\n",
      "s\n",
      "o\n",
      "m\n",
      "e\n",
      " \n",
      "t\n",
      "e\n"
     ]
    }
   ],
   "source": [
    "# De forma similar a los bucles while, las sentencias break y continue \n",
    "# se pueden utilizar en bucles for, para detener el bucle o pasar a la \n",
    "# siguiente iteración.\n",
    "text = \"some text\"\n",
    "for x in text:\n",
    "    if x == 'e':\n",
    "        break\n",
    "    print(x)\n",
    "print(\"---\")\n",
    "\n",
    "for x in text:\n",
    "    if x == 'x':\n",
    "        break\n",
    "    print(x)"
   ]
  },
  {
   "cell_type": "code",
   "execution_count": 11,
   "metadata": {},
   "outputs": [
    {
     "name": "stdout",
     "output_type": "stream",
     "text": [
      "5\n"
     ]
    }
   ],
   "source": [
    "list = [2, 3, 4, 5, 6, 7]\n",
    "\n",
    "for x in list:\n",
    "   if(x%2==1 and x>4):\n",
    "      print(x)\n",
    "      break"
   ]
  },
  {
   "cell_type": "code",
   "execution_count": 13,
   "metadata": {},
   "outputs": [
    {
     "name": "stdout",
     "output_type": "stream",
     "text": [
      "84\n",
      "16\n",
      "14\n",
      "2\n",
      "0\n",
      "248\n",
      "17794\n",
      "1110\n",
      "6\n",
      "134\n",
      "198\n",
      "198\n"
     ]
    }
   ],
   "source": [
    "x = [42, 8, 7, 1, 0, 124, 8897, 555, 3, 67, 99]\n",
    "# Sumar todos los numeros de la lista \"x\"\n",
    "for num in x:\n",
    "    num += num\n",
    "    print(num)\n",
    "print(num)"
   ]
  },
  {
   "cell_type": "code",
   "execution_count": 16,
   "metadata": {},
   "outputs": [
    {
     "name": "stdout",
     "output_type": "stream",
     "text": [
      "42\n",
      "50\n",
      "57\n",
      "58\n",
      "58\n",
      "182\n",
      "9079\n",
      "9634\n",
      "9637\n",
      "9704\n",
      "9803\n",
      "9803\n"
     ]
    }
   ],
   "source": [
    "x = [42, 8, 7, 1, 0, 124, 8897, 555, 3, 67, 99]\n",
    "# Sumar todos los numeros de la lista \"x\"\n",
    "# se utiliza la variable \"sum\" como un conteo vacio para la sumatoria\n",
    "sum = 0\n",
    "for num in x:\n",
    "    sum += num\n",
    "    print(sum)\n",
    "print(sum)"
   ]
  },
  {
   "cell_type": "code",
   "execution_count": 17,
   "metadata": {},
   "outputs": [
    {
     "name": "stdout",
     "output_type": "stream",
     "text": [
      "4\n"
     ]
    }
   ],
   "source": [
    "nums = [1, 2, 3, 4]\n",
    "res = 0\n",
    "\n",
    "for x in nums:\n",
    "    if(x%2==0):\n",
    "        continue\n",
    "    else:\n",
    "        res += x\n",
    "        \n",
    "print(res)"
   ]
  },
  {
   "cell_type": "code",
   "execution_count": 28,
   "metadata": {},
   "outputs": [
    {
     "name": "stdout",
     "output_type": "stream",
     "text": [
      "range(0, 10)\n",
      "range(0, 5)\n"
     ]
    }
   ],
   "source": [
    "# RANGE\n",
    "# Python hace que sea muy fácil crear secuencias de números usando \n",
    "# la función range(). \n",
    "# De forma predeterminada, comienza desde 0, se incrementa en 1 y se \n",
    "# detiene antes del número especificado. \n",
    "# El siguiente código genera una lista que contiene todos los números \n",
    "# enteros, hasta 10.\n",
    "number = range(10)\n",
    "print(number)\n",
    "\n",
    "x = range(5)\n",
    "print(x)\n",
    "\n",
    "# Para generar el rango como una lista, debemos convertirlo explícitamente \n",
    "# en una lista, usando la función list()."
   ]
  },
  {
   "cell_type": "code",
   "execution_count": 30,
   "metadata": {},
   "outputs": [
    {
     "ename": "TypeError",
     "evalue": "'list' object is not callable",
     "output_type": "error",
     "traceback": [
      "\u001b[1;31m---------------------------------------------------------------------------\u001b[0m",
      "\u001b[1;31mTypeError\u001b[0m                                 Traceback (most recent call last)",
      "\u001b[1;32mc:\\Users\\user\\Documents\\Archivos de VSC\\PYTHON\\SoloLearn_Lists.ipynb Cell 24'\u001b[0m in \u001b[0;36m<cell line: 1>\u001b[1;34m()\u001b[0m\n\u001b[1;32m----> <a href='vscode-notebook-cell:/c%3A/Users/user/Documents/Archivos%20de%20VSC/PYTHON/SoloLearn_Lists.ipynb#ch0000025?line=0'>1</a>\u001b[0m numbers \u001b[39m=\u001b[39m \u001b[39mlist\u001b[39;49m(\u001b[39mrange\u001b[39;49m(\u001b[39m10\u001b[39;49m))\n\u001b[0;32m      <a href='vscode-notebook-cell:/c%3A/Users/user/Documents/Archivos%20de%20VSC/PYTHON/SoloLearn_Lists.ipynb#ch0000025?line=1'>2</a>\u001b[0m \u001b[39mprint\u001b[39m(numbers)\n",
      "\u001b[1;31mTypeError\u001b[0m: 'list' object is not callable"
     ]
    }
   ],
   "source": [
    "numbers = list(range(10))\n",
    "print(numbers) \n",
    "# Mirar el archivo Lista_Python.py para ver la ejecución del código"
   ]
  },
  {
   "cell_type": "code",
   "execution_count": 31,
   "metadata": {},
   "outputs": [
    {
     "name": "stdout",
     "output_type": "stream",
     "text": [
      "True\n"
     ]
    }
   ],
   "source": [
    "print(range(20) == range(0, 20))"
   ]
  },
  {
   "cell_type": "code",
   "execution_count": 35,
   "metadata": {},
   "outputs": [
    {
     "name": "stdout",
     "output_type": "stream",
     "text": [
      "hello!\n",
      "hello!\n",
      "hello!\n",
      "hello!\n",
      "hello!\n"
     ]
    }
   ],
   "source": [
    "# Puede usar rangos en bucles for, sin necesidad de convertirlos en listas. \n",
    "# Se usa comúnmente para repetir algún código un cierto número de veces. \n",
    "for i in range(5):\n",
    "    print(\"hello!\")"
   ]
  },
  {
   "cell_type": "code",
   "execution_count": 36,
   "metadata": {},
   "outputs": [
    {
     "name": "stdout",
     "output_type": "stream",
     "text": [
      "[4, 9, 16, 25]\n",
      "[9, 16, 25, 36, 49]\n",
      "[0]\n"
     ]
    }
   ],
   "source": [
    "# LIST SLICES\n",
    "# Los segmentos de lista le permiten obtener una parte de la lista \n",
    "# utilizando dos índices separados por dos puntos. Esto devuelve una \n",
    "# nueva lista que contiene todos los valores entre los índices. \n",
    "# Ejemplo:\n",
    "\n",
    "squares = [0, 1, 4, 9, 16, 25, 36, 49, 64, 81]\n",
    "print(squares[2:6])\n",
    "print(squares[3:8])\n",
    "print(squares[0:1])\n",
    "\n",
    "# Al igual que los argumentos de range, el primer índice proporcionado \n",
    "# en un segmento se incluye en el resultado, pero el segundo no."
   ]
  },
  {
   "cell_type": "code",
   "execution_count": 37,
   "metadata": {},
   "outputs": [
    {
     "name": "stdout",
     "output_type": "stream",
     "text": [
      "[16, 25, 36]\n"
     ]
    }
   ],
   "source": [
    "sqs = [0, 1, 4, 9, 16, 25, 36, 49, 64]\n",
    "print(sqs[4:7])"
   ]
  },
  {
   "cell_type": "code",
   "execution_count": 39,
   "metadata": {},
   "outputs": [
    {
     "name": "stdout",
     "output_type": "stream",
     "text": [
      "[0, 1, 4, 9, 16, 25, 36]\n",
      "[49, 64, 81]\n"
     ]
    }
   ],
   "source": [
    "# Si se omite el primer número de un segmento, \n",
    "# se toma como el comienzo de la lista. \n",
    "# Ejemplo:\n",
    "\n",
    "squares = [0, 1, 4, 9, 16, 25, 36, 49, 64, 81]\n",
    "print(squares[:7])\n",
    "\n",
    "# Si se omite el segundo número, se toma como el final.\n",
    "print(squares[7:])"
   ]
  },
  {
   "cell_type": "code",
   "execution_count": 40,
   "metadata": {},
   "outputs": [
    {
     "name": "stdout",
     "output_type": "stream",
     "text": [
      "[16, 25, 36, 49, 64]\n"
     ]
    }
   ],
   "source": [
    "sq = [0, 1, 4, 9, 16, 25, 36, 49, 64]\n",
    "print(sq[4:])"
   ]
  },
  {
   "cell_type": "code",
   "execution_count": 43,
   "metadata": {},
   "outputs": [
    {
     "name": "stdout",
     "output_type": "stream",
     "text": [
      "[0, 4, 16, 36, 64]\n",
      "[4, 9, 16, 25, 36, 49]\n",
      "[4, 16, 36]\n",
      "[4, 25]\n"
     ]
    }
   ],
   "source": [
    "# Al igual que con los rangos, los segmentos de su lista pueden \n",
    "# incluir un tercer número, que representa el paso, para incluir \n",
    "# solo valores alternativos en el segmento.\n",
    "\n",
    "squares = [0, 1, 4, 9, 16, 25, 36, 49, 64, 81]\n",
    "print(squares[::2])\n",
    "print(squares[2:8])\n",
    "print(squares[2:8:2])\n",
    "print(squares[2:8:3])"
   ]
  },
  {
   "cell_type": "code",
   "execution_count": 44,
   "metadata": {},
   "outputs": [
    {
     "name": "stdout",
     "output_type": "stream",
     "text": [
      "[1, 25, 81]\n"
     ]
    }
   ],
   "source": [
    "sqs = [0, 1, 4, 9, 16, 25, 36, 49, 64, 81]\n",
    "print(sqs[1::4])"
   ]
  },
  {
   "cell_type": "code",
   "execution_count": 46,
   "metadata": {},
   "outputs": [
    {
     "name": "stdout",
     "output_type": "stream",
     "text": [
      "[1, 4, 9, 16, 25, 36, 49, 64]\n"
     ]
    }
   ],
   "source": [
    "# Los valores negativos también se pueden usar en la segmentación \n",
    "# de listas (así como en la indexación normal de listas). \n",
    "\n",
    "# Lo que significa que cuando se utilizan valores negativos para el \n",
    "# primer y segundo valor de un segmento (o un índice normal), \n",
    "# cuentan desde el final de la lista.\n",
    "\n",
    "squares = [0, 1, 4, 9, 16, 25, 36, 49, 64, 81]\n",
    "print(squares[1:-1])\n",
    "\n",
    "# Si se utiliza un valor negativo para el paso, el corte se realizará hacia atrás. "
   ]
  },
  {
   "cell_type": "code",
   "execution_count": 54,
   "metadata": {},
   "outputs": [
    {
     "name": "stdout",
     "output_type": "stream",
     "text": [
      "[49, 36]\n",
      "[49, 36, 25]\n"
     ]
    }
   ],
   "source": [
    "sqs = [0, 1, 4, 9, 16, 25, 36, 49, 64, 81]\n",
    "print(sqs[7:5:-1])\n",
    "print(sqs[7:4:-1])"
   ]
  },
  {
   "cell_type": "code",
   "execution_count": 55,
   "metadata": {},
   "outputs": [
    {
     "name": "stdout",
     "output_type": "stream",
     "text": [
      "[5, 42, 7, 1, 0]\n",
      "[0, 1, 7, 42, 5]\n"
     ]
    }
   ],
   "source": [
    "# Usar [::-1] como segmento es una forma común e idiomática de invertir una lista.\n",
    "nums = [5, 42, 7, 1, 0]\n",
    "res = nums[::-1]\n",
    "print(nums)\n",
    "print(res) "
   ]
  },
  {
   "cell_type": "code",
   "execution_count": 59,
   "metadata": {},
   "outputs": [
    {
     "name": "stdout",
     "output_type": "stream",
     "text": [
      "[1, 2, 3, 4, 5, 6]\n",
      "[6, 5, 4, 3, 2, 1]\n",
      "4\n",
      "1\n"
     ]
    }
   ],
   "source": [
    "nums = [1, 2, 3, 4, 5, 6]\n",
    "res = nums[::-1]\n",
    "print(nums)\n",
    "print(res)\n",
    "print(res[2])\n",
    "print(res[-1])\n"
   ]
  },
  {
   "cell_type": "code",
   "execution_count": 61,
   "metadata": {},
   "outputs": [
    {
     "name": "stdout",
     "output_type": "stream",
     "text": [
      "5\n",
      "234\n"
     ]
    }
   ],
   "source": [
    "cadena = \"12345\"\n",
    "print(cadena[-1])\n",
    "print(cadena[1:-1])"
   ]
  },
  {
   "cell_type": "code",
   "execution_count": 62,
   "metadata": {},
   "outputs": [
    {
     "name": "stdout",
     "output_type": "stream",
     "text": [
      "8\n"
     ]
    }
   ],
   "source": [
    "list = [1, 1, 2, 3, 5, 8, 13]\n",
    "print(list[list[4]])"
   ]
  },
  {
   "cell_type": "code",
   "execution_count": 63,
   "metadata": {},
   "outputs": [
    {
     "name": "stdout",
     "output_type": "stream",
     "text": [
      "2\n",
      "4\n",
      "6\n",
      "8\n",
      "10\n"
     ]
    }
   ],
   "source": [
    "for i in range(10):\n",
    "  if not i % 2 == 0:\n",
    "    print(i+1)"
   ]
  },
  {
   "cell_type": "code",
   "execution_count": 64,
   "metadata": {},
   "outputs": [
    {
     "name": "stdout",
     "output_type": "stream",
     "text": [
      "[6, 4, 2, 9]\n",
      "[9, 2, 4, 6]\n",
      "13\n"
     ]
    }
   ],
   "source": [
    "x = [6, 4, 2, 9]\n",
    "print(x)\n",
    "x = x[::-1]\n",
    "print(x)\n",
    "print(x[0]+x[2])"
   ]
  },
  {
   "cell_type": "code",
   "execution_count": 67,
   "metadata": {},
   "outputs": [
    {
     "name": "stdout",
     "output_type": "stream",
     "text": [
      "0\n",
      "1\n",
      "3\n",
      "6\n",
      "10\n",
      "15\n",
      "21\n",
      "28\n",
      "36\n",
      "45\n",
      "55\n",
      "66\n",
      "78\n",
      "91\n",
      "105\n",
      "120\n",
      "136\n",
      "153\n",
      "171\n",
      "190\n",
      "210\n",
      "231\n",
      "253\n",
      "276\n",
      "300\n",
      "325\n",
      "351\n",
      "378\n",
      "406\n",
      "435\n",
      "465\n",
      "496\n",
      "528\n",
      "561\n",
      "595\n",
      "630\n",
      "666\n",
      "703\n",
      "741\n",
      "780\n",
      "820\n",
      "861\n",
      "903\n",
      "946\n",
      "990\n",
      "1035\n",
      "1081\n",
      "1128\n",
      "1176\n",
      "1225\n",
      "1275\n",
      "1326\n",
      "1378\n",
      "1431\n",
      "1485\n",
      "1540\n",
      "1596\n",
      "1653\n",
      "1711\n",
      "1770\n",
      "1830\n",
      "1891\n",
      "1953\n",
      "2016\n",
      "2080\n",
      "2145\n",
      "2211\n",
      "2278\n",
      "2346\n",
      "2415\n",
      "2485\n",
      "2556\n",
      "2628\n",
      "2701\n",
      "2775\n",
      "2850\n",
      "2926\n",
      "3003\n",
      "3081\n",
      "3160\n",
      "3240\n",
      "3321\n",
      "3403\n",
      "3486\n",
      "3570\n",
      "3655\n",
      "3741\n",
      "3828\n",
      "3916\n",
      "4005\n",
      "4095\n",
      "4186\n",
      "4278\n",
      "4371\n",
      "4465\n",
      "4560\n",
      "4656\n",
      "4753\n",
      "4851\n",
      "4950\n",
      "5050\n",
      "5050\n"
     ]
    }
   ],
   "source": [
    "# Sumar todos los números incluyendo el último.\n",
    "N = 100\n",
    "sum = 0\n",
    "for num in range(0, N + 1): # Se digita \"+ 1\" para tomar en cuenta el último número de N\n",
    "    sum += num\n",
    "    print(sum)\n",
    "print(sum)"
   ]
  }
 ],
 "metadata": {
  "interpreter": {
   "hash": "247ab06e135bb35fa78c5eff31b2a9a0050dcb5fb773c2631d2a29ac689eeccb"
  },
  "kernelspec": {
   "display_name": "Python 3.9.5 64-bit",
   "language": "python",
   "name": "python3"
  },
  "language_info": {
   "codemirror_mode": {
    "name": "ipython",
    "version": 3
   },
   "file_extension": ".py",
   "mimetype": "text/x-python",
   "name": "python",
   "nbconvert_exporter": "python",
   "pygments_lexer": "ipython3",
   "version": "3.9.5"
  },
  "orig_nbformat": 4
 },
 "nbformat": 4,
 "nbformat_minor": 2
}
