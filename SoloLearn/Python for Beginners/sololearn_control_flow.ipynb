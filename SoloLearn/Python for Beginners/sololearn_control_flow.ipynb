{
 "cells": [
  {
   "cell_type": "code",
   "execution_count": 1,
   "metadata": {},
   "outputs": [
    {
     "name": "stdout",
     "output_type": "stream",
     "text": [
      "True\n",
      "False\n",
      "True\n"
     ]
    }
   ],
   "source": [
    "# BOOLEANS & COMPARISONS\n",
    "# Los valores de un Boolean deben empezar siempre con letra capital y,\n",
    "# solo se aceptan dos valores: True y False.\n",
    "my_boolean = True\n",
    "print(my_boolean)\n",
    "\n",
    "print(2 == 3)\n",
    "\n",
    "print(\"hello\" == \"hello\")"
   ]
  },
  {
   "cell_type": "code",
   "execution_count": 2,
   "metadata": {},
   "outputs": [
    {
     "name": "stdout",
     "output_type": "stream",
     "text": [
      "True\n",
      "True\n",
      "False\n",
      "True\n",
      "True\n"
     ]
    }
   ],
   "source": [
    "# Booleans are created when comparing values. Python has a number of comparison operators: \n",
    "# equal to ==, \n",
    "# not equal to !=, \n",
    "# greater than >, \n",
    "# smaller than <, \n",
    "# greater or equal to >=, \n",
    "# smaller or equal to <=.\n",
    "# Let’s look at some examples:\n",
    "x = 7\n",
    "\n",
    "print(x != 8)\n",
    "print(x > 5)\n",
    "print(x < 2)\n",
    "print(x >= 7)\n",
    "print(x <= 7)\n",
    "#Comparison operators are also called Relational operators."
   ]
  },
  {
   "cell_type": "code",
   "execution_count": 8,
   "metadata": {},
   "outputs": [
    {
     "name": "stdout",
     "output_type": "stream",
     "text": [
      "False\n",
      "True\n",
      "False\n",
      "True\n",
      "False\n"
     ]
    }
   ],
   "source": [
    "# Los operadores mayor que y menor que también se pueden usar para comparar cadenas lexicográficamente \n",
    "# (el orden alfabético de las palabras se basa en el orden alfabético de las letras que las componen).\n",
    "print('a' > 'b')\n",
    "print('z' > 'd')\n",
    "print(\"Bob\" > \"Dave\")\n",
    "print(\"Silver\" > \"Axioma\")\n",
    "print(\"hey\" < \"hay\")"
   ]
  },
  {
   "cell_type": "code",
   "execution_count": 10,
   "metadata": {},
   "outputs": [
    {
     "name": "stdout",
     "output_type": "stream",
     "text": [
      "1\n",
      "True\n"
     ]
    }
   ],
   "source": [
    "# Los valores booleanos verdadero (True) y falso (False) se pueden representar \n",
    "# como números enteros 1 y 0, respectivamente.\n",
    "# Por ejemplo:\n",
    "x = (7 > 5)\n",
    "print(int(x))\n",
    "print(x)\n",
    "# Tenga en cuenta que usamos la función int () para convertir el valor booleano \n",
    "# en un número entero."
   ]
  },
  {
   "cell_type": "code",
   "execution_count": 4,
   "metadata": {},
   "outputs": [
    {
     "name": "stdout",
     "output_type": "stream",
     "text": [
      "five\n"
     ]
    }
   ],
   "source": [
    "# IF STATEMENTS\n",
    "# Una cosa que puede hacer con los valores booleanos es usar sentencias if \n",
    "# para ejecutar código en función de una determinada condición, por ejemplo, \n",
    "# si el valor booleano se evalúa como True. \n",
    "# Una declaración if se ve así:\n",
    "# if condition:\n",
    "#     statements\n",
    "# Python usa sangría (ese espacio vacío al comienzo de una línea) para delimitar \n",
    "# bloques de código.\n",
    "# Dependiendo de la lógica del programa, la sangría puede ser obligatoria.\n",
    "spam = 7\n",
    "if spam > 5:\n",
    "   print(\"five\")\n",
    "if spam > 8:\n",
    "   print(\"eight\")\n",
    "# Los dos puntos al final de la expresión en la instrucción if son importantes, \n",
    "# no los omita."
   ]
  },
  {
   "cell_type": "code",
   "execution_count": 7,
   "metadata": {},
   "outputs": [
    {
     "name": "stdout",
     "output_type": "stream",
     "text": [
      "Bigger than 5\n",
      "Between 5 and 47\n",
      "3\n",
      "ab\n"
     ]
    }
   ],
   "source": [
    "# En ocasiones tendremos que realizar comprobaciones más complejas. \n",
    "# Pero eso no es problema, porque las sentencias if se pueden anidar, \n",
    "# una dentro de otra. Por ejemplo:\n",
    "num = 12\n",
    "if num > 5:\n",
    "    print(\"Bigger than 5\")\n",
    "    if num <= 47:\n",
    "        print(\"Between 5 and 47\")\n",
    "# Otro ejemplo:\n",
    "num = 7\n",
    "if num > 3:\n",
    "   print(\"3\")\n",
    "   if num < 5:\n",
    "      print(\"5\")\n",
    "      if num ==7:\n",
    "         print(\"7\")\n",
    "# Otro ejemplo:\n",
    "x = 'a'\n",
    "if(x < 'c'):\n",
    "    x += 'b'\n",
    "if(x > 'z'):\n",
    "    x += 'c'\n",
    "    \n",
    "print(x)"
   ]
  },
  {
   "cell_type": "code",
   "execution_count": 2,
   "metadata": {},
   "outputs": [
    {
     "name": "stdout",
     "output_type": "stream",
     "text": [
      "else\n"
     ]
    }
   ],
   "source": [
    "# ELSE STATEMENTS\n",
    "# La declaración else se puede usar para ejecutar algunas declaraciones \n",
    "# cuando la condición de la declaración if es falsa\n",
    "# Ejemplo:\n",
    "# x = 4\n",
    "# if x == 5:\n",
    "#     print(\"Yes\")\n",
    "# else:\n",
    "#     print(\"No\")\n",
    "if 1 + 1 == 2:\n",
    "   if 2 * 2 == 8:\n",
    "      print(\"if\")\n",
    "   else:\n",
    "      print(\"else\")\n",
    "# Al igual que con las declaraciones if , el código dentro del bloque debe sangrarse.\n",
    "# Los dos puntos al final de la palabra clave else son importantes, no los omita."
   ]
  },
  {
   "cell_type": "code",
   "execution_count": 3,
   "metadata": {},
   "outputs": [
    {
     "name": "stdout",
     "output_type": "stream",
     "text": [
      "Three\n"
     ]
    }
   ],
   "source": [
    "# Cada bloque de condición if puede tener solo una declaración else.\n",
    "# Entonces, para que podamos hacer múltiples comprobaciones, necesitamos \n",
    "# encadenar declaraciones if y else . Por ejemplo, el siguiente programa \n",
    "# verifica y genera el valor de la variable num como texto:\n",
    "num = 3\n",
    "if num == 1:\n",
    "    print(\"One\")\n",
    "else:\n",
    "    if num == 2:\n",
    "        print(\"Two\")\n",
    "    else:\n",
    "        if num == 3:\n",
    "            print(\"Three\")\n",
    "        else:\n",
    "            print(\"Something else\")\n",
    "# La sangría determina a qué sentencias if/else pertenecen los bloques de código."
   ]
  },
  {
   "cell_type": "code",
   "execution_count": 6,
   "metadata": {},
   "outputs": [
    {
     "name": "stdout",
     "output_type": "stream",
     "text": [
      "Three\n",
      "10\n"
     ]
    }
   ],
   "source": [
    "# ELIF STATEMENTS\n",
    "# Demasiadas declaraciones if/else hacen que su código sea largo y difícil de leer. \n",
    "# La mejor manera de resolver esto es la declaración elif (abreviatura de else if). \n",
    "# Es un atajo para usar al encadenar declaraciones if y else , lo que hace que el código \n",
    "# sea más corto y más fácil de leer. El mismo ejemplo de la parte anterior se puede reescribir \n",
    "# usando declaraciones elif:\n",
    "num = 3\n",
    "if num == 1:\n",
    "    print(\"One\")\n",
    "elif num == 2:\n",
    "    print(\"Two\")\n",
    "elif num == 3:\n",
    "    print(\"Three\")\n",
    "else:\n",
    "    print(\"Something else\")\n",
    "# Otro ejemplo:\n",
    "x = 10\n",
    "y = 20\n",
    "if x > y:\n",
    "   print(x+y)\n",
    "else:\n",
    "   print(y-x)"
   ]
  },
  {
   "cell_type": "code",
   "execution_count": 7,
   "metadata": {},
   "outputs": [
    {
     "name": "stdout",
     "output_type": "stream",
     "text": [
      "true\n"
     ]
    }
   ],
   "source": [
    "# BOOLEAN LOGIC\n",
    "# Ahora es el momento de subir de nivel nuestros valores booleanos con algunos operadores, \n",
    "# que nos permiten combinar múltiples condiciones. Empecemos con el operador and. Es True, \n",
    "# si ambas condiciones se evalúan como True:\n",
    "# print( 1 == 1 and 2 == 2)\n",
    "# True\n",
    "# print(1 == 1 and 2 == 3)\n",
    "# False\n",
    "# print(1 != 1 and 2 == 2)\n",
    "# False\n",
    "# print(2 < 1 and 3 > 6)\n",
    "# False\n",
    "\n",
    "if (1 == 1) and (2 + 2 > 3):\n",
    "  print(\"true\")\n",
    "else:\n",
    "  print(\"false\")"
   ]
  },
  {
   "cell_type": "code",
   "execution_count": 8,
   "metadata": {},
   "outputs": [
    {
     "name": "stdout",
     "output_type": "stream",
     "text": [
      "True\n",
      "True\n",
      "True\n",
      "False\n"
     ]
    }
   ],
   "source": [
    "# BOOLEAN OR\n",
    "# Ahora en el operador or . El operador o es Verdadero si alguna (o ambas) de sus \n",
    "# condiciones son Verdaderas, y Falso si ambas condiciones son Falsas\n",
    "print(1 == 1 or 2 == 2)\n",
    "# True\n",
    "print(1 == 1 or 2 == 3)\n",
    "# True\n",
    "print(1 != 1 or 2 == 2)\n",
    "# True\n",
    "print(2 < 1 or 3 > 6)\n",
    "# False\n",
    "\n"
   ]
  },
  {
   "cell_type": "code",
   "execution_count": 11,
   "metadata": {},
   "outputs": [
    {
     "name": "stdout",
     "output_type": "stream",
     "text": [
      "False\n",
      "True\n",
      "2\n"
     ]
    }
   ],
   "source": [
    "# BOOLEAN NOT\n",
    "# Cambia el valor booleano, es decir, cambia verdadero a falso y viceversa\n",
    "# Se una not, ejemplo:\n",
    "print(not 1 == 1)\n",
    "# False\n",
    "print(not 1 > 7)\n",
    "# True\n",
    "\n",
    "if not True:\n",
    "   print(\"1\")\n",
    "elif not (1 + 1 == 3):\n",
    "   print(\"2\")\n",
    "else:\n",
    "   print(\"3\")\n"
   ]
  },
  {
   "cell_type": "code",
   "execution_count": 15,
   "metadata": {},
   "outputs": [
    {
     "name": "stdout",
     "output_type": "stream",
     "text": [
      "Cool\n",
      "True\n"
     ]
    }
   ],
   "source": [
    "# BOOLEAN LOGIC II\n",
    "# Puede encadenar varias sentencias condicionales en una sentencia if utilizando \n",
    "# los operadores booleanos. Por ejemplo:\n",
    "country = \"US\"\n",
    "age = 42\n",
    "\n",
    "if (country == \"US\" or country == \"GB\") and (age > 0 and age < 100):\n",
    "    print(\"Cool\")\n",
    "\n",
    "# Otro ejemplo:\n",
    "hour = 9\n",
    "day = 23\n",
    "\n",
    "if (hour > 12 and day <= 15) or (hour < 10):\n",
    "    print(\"True\")\n",
    "else:\n",
    "    print(\"False\")\n",
    "# El orden de las operaciones de Python es el mismo que el de las \n",
    "# matemáticas normales: primero los paréntesis, luego la exponenciación, \n",
    "# luego la multiplicación/división y luego la suma/resta."
   ]
  },
  {
   "cell_type": "code",
   "execution_count": 2,
   "metadata": {},
   "outputs": [
    {
     "name": "stdout",
     "output_type": "stream",
     "text": [
      "1\n",
      "2\n",
      "3\n",
      "4\n",
      "5\n",
      "Finished!\n"
     ]
    }
   ],
   "source": [
    "# LOOPS\n",
    "# Los bucles le permiten repetir un bloque de código varias veces.\n",
    "# Por ejemplo, supongamos que necesitamos procesar múltiples entradas \n",
    "# de usuario, de modo que cada vez que el usuario ingrese algo, \n",
    "# se debe ejecutar el mismo bloque de código.\n",
    "# Aquí hay un bucle while que contiene una variable que cuenta de 1 a 5, momento en el que termina el bucle.\n",
    "i = 1\n",
    "while i <= 5:\n",
    "    print(i)\n",
    "    i += + 1\n",
    "print(\"Finished!\")\n",
    "# Durante cada ejecución del ciclo, la variable i se incrementa en uno, hasta llegar a 5.\n",
    "# Entonces, el bucle ejecutará la declaración de impresión 5 veces."
   ]
  },
  {
   "cell_type": "code",
   "execution_count": 9,
   "metadata": {},
   "outputs": [
    {
     "name": "stdout",
     "output_type": "stream",
     "text": [
      "1\n",
      "2\n",
      "3\n",
      "4\n",
      "5\n",
      "---\n",
      "55\n",
      "---\n",
      "3\n",
      "2\n",
      "1\n",
      "0\n"
     ]
    }
   ],
   "source": [
    "# La sangria dentro del ciclo WHILE es igual a como se hace\n",
    "# con las sentencias IF.\n",
    "i = 1\n",
    "while i <= 5:\n",
    "  print(i)\n",
    "  i = i + 1\n",
    "\n",
    "# El código en el cuerpo de un ciclo while se ejecuta repetidamente \n",
    "# mientras la condición es True.\n",
    "# Esto se llama iteración . \n",
    "# El siguiente código agrega el número actual \n",
    "# a la variable de suma durante cada iteración:\n",
    "print(\"---\")\n",
    "sum = 0\n",
    "x = 10\n",
    "while x > 0:\n",
    "  sum += x\n",
    "  x -= 1\n",
    "print(sum)\n",
    "print(\"---\")\n",
    "i = 3\n",
    "while i>=0:\n",
    "   print(i)\n",
    "   i = i - 1"
   ]
  },
  {
   "cell_type": "code",
   "execution_count": 10,
   "metadata": {},
   "outputs": [
    {
     "name": "stdout",
     "output_type": "stream",
     "text": [
      "1 is odd\n",
      "2 is even\n",
      "3 is odd\n",
      "4 is even\n",
      "5 is odd\n",
      "6 is even\n",
      "7 is odd\n",
      "8 is even\n",
      "9 is odd\n"
     ]
    }
   ],
   "source": [
    "# También puede usar otras declaraciones, como declaraciones if en bucles.\n",
    "# Esto es especialmente útil en cosas como los juegos, en los que es \n",
    "# posible que deba recorrer varias acciones del jugador y agregar o quitar \n",
    "# puntos a la puntuación del jugador. \n",
    "\n",
    "# Mira este código, que usa una instrucción if/else dentro de un ciclo while \n",
    "# para separar los números pares e impares en el rango de 1 a 10:\n",
    "x = 1\n",
    "while x < 10:\n",
    "    if x%2 == 0:\n",
    "        print(str(x) + \" is even\")\n",
    "    else:\n",
    "        print(str(x) + \" is odd\")\n",
    "    \n",
    "    x += 1"
   ]
  },
  {
   "cell_type": "code",
   "execution_count": 2,
   "metadata": {},
   "outputs": [
    {
     "name": "stdout",
     "output_type": "stream",
     "text": [
      "0\n",
      "1\n",
      "2\n",
      "3\n",
      "4\n",
      "Breaking\n",
      "Finished \n",
      " ---\n",
      "5\n",
      "4\n",
      "3\n"
     ]
    }
   ],
   "source": [
    "# BREAK\n",
    "# Para finalizar un ciclo while antes de tiempo, podemos usar una \n",
    "# instrucción break. Por ejemplo, podemos romper un bucle infinito \n",
    "# si se cumple alguna condición:\n",
    "i = 0\n",
    "while True:\n",
    "    print(i)\n",
    "    i = i + 1\n",
    "    if i >= 5:\n",
    "        print(\"Breaking\")\n",
    "        break\n",
    "\n",
    "print(\"Finished \\n ---\")\n",
    "\n",
    "i = 5\n",
    "while True:\n",
    "  print(i)\n",
    "  i = i - 1\n",
    "  if i <= 2:\n",
    "    break"
   ]
  },
  {
   "cell_type": "code",
   "execution_count": 4,
   "metadata": {},
   "outputs": [
    {
     "name": "stdout",
     "output_type": "stream",
     "text": [
      "1\n",
      "2\n",
      "Skipping 3\n",
      "4\n",
      "5\n",
      "---\n",
      "1\n",
      "3\n",
      "4\n"
     ]
    }
   ],
   "source": [
    "# CONTINUE\n",
    "# Otra declaración que se puede usar dentro de los bucles es continuar.\n",
    "# A diferencia de break , continue salta de regreso a la parte superior \n",
    "# del bucle, en lugar de detenerlo. Básicamente, la declaración de continuar \n",
    "# detiene la iteración actual y continúa con la siguiente. Por ejemplo:\n",
    "i = 0\n",
    "while i < 5:\n",
    "    i += 1\n",
    "    if i==3:\n",
    "        print(\"Skipping 3\")\n",
    "        continue\n",
    "    print(i)\n",
    "# Un ejemplo de caso de uso de continuar:\n",
    "# un sistema de emisión de boletos de una aerolínea necesita calcular el costo \n",
    "# total de todos los boletos comprados. Las entradas para niños menores de 3 años \n",
    "# son gratuitas. Podemos usar un ciclo while para iterar a través de la lista de \n",
    "# pasajeros y calcular el costo total de sus boletos. Aquí, la declaración de \n",
    "# continuación se puede usar para omitir a los niños.\n",
    "print(\"---\")\n",
    "i=0\n",
    "while True:\n",
    "    i+=1\n",
    "    if(i == 2):\n",
    "        continue\n",
    "    if(i == 5):\n",
    "        break\n",
    "    \n",
    "    print(i)"
   ]
  },
  {
   "cell_type": "code",
   "execution_count": 7,
   "metadata": {},
   "outputs": [
    {
     "name": "stdout",
     "output_type": "stream",
     "text": [
      "6\n",
      "8\n"
     ]
    }
   ],
   "source": [
    "i = 0\n",
    "x = 0\n",
    "while i < 4:\n",
    "    x+=i\n",
    "    i+=1\n",
    "\n",
    "print(x)\n",
    "\n",
    "x = 9\n",
    "if x > 5:\n",
    "    if x < 8:\n",
    "        print(x+1)\n",
    "    else:\n",
    "        print(x-1)\n",
    "else:\n",
    "    print(x)"
   ]
  }
 ],
 "metadata": {
  "interpreter": {
   "hash": "247ab06e135bb35fa78c5eff31b2a9a0050dcb5fb773c2631d2a29ac689eeccb"
  },
  "kernelspec": {
   "display_name": "Python 3.9.5 64-bit",
   "language": "python",
   "name": "python3"
  },
  "language_info": {
   "codemirror_mode": {
    "name": "ipython",
    "version": 3
   },
   "file_extension": ".py",
   "mimetype": "text/x-python",
   "name": "python",
   "nbconvert_exporter": "python",
   "pygments_lexer": "ipython3",
   "version": "3.9.5"
  },
  "orig_nbformat": 4
 },
 "nbformat": 4,
 "nbformat_minor": 2
}
