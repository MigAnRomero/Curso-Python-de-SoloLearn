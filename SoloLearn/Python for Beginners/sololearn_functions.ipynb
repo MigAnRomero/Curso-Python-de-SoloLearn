{
 "cells": [
  {
   "cell_type": "code",
   "execution_count": null,
   "metadata": {},
   "outputs": [],
   "source": [
    "# FUNCTIONS\n",
    "# Una función es un grupo de instrucciones relacionadas que realizan \n",
    "# una tarea específica.\n",
    "# Las funciones ayudan a dividir nuestro programa en partes más pequeñas \n",
    "# y modulares. A medida que nuestro programa crece más y más, las \n",
    "# funciones lo hacen más organizado y manejable.\n",
    "\n",
    "# Además, evita la repetición y hace que el código sea reutilizable.\n",
    "\n",
    "# Una función tiene un nombre y puede tener argumentos . \n",
    "# Por ejemplo:\n",
    "# print(\"Hello\")\n",
    "\n",
    "# Aquí, print es el nombre de la función y \"Hello\" es el argumento.\n",
    "\n",
    "# Las funciones pueden tener varios argumentos.\n",
    "# Por ejemplo, range(2, 20) tiene dos argumentos, 2 y 20.\n",
    "\n",
    "# Los argumentos de la función deben estar separados por comas.\n",
    "\n",
    "# La función se llama usando su nombre, seguido de paréntesis, que encierran los argumentos. \n",
    "\n",
    "# Por ejemplo, llamamos a la función de print con un argumento de cadena para generar resultados:\n",
    "# pritn(\"some text\")"
   ]
  },
  {
   "cell_type": "code",
   "execution_count": 1,
   "metadata": {},
   "outputs": [
    {
     "name": "stdout",
     "output_type": "stream",
     "text": [
      "5\n"
     ]
    }
   ],
   "source": [
    "# LIST FUNCTIONS\n",
    "# Python tiene un montón de útiles funciones integradas para listas. \n",
    "# len() le permite obtener la cantidad de elementos en una lista.\n",
    "\n",
    "nums = [1, 3, 5, 2, 4]\n",
    "print(len(nums))\n",
    "\n",
    "# A diferencia de la indexación de elementos, len no comienza con 0. \n",
    "# La lista anterior contiene 5 elementos, lo que significa que len devolverá 5."
   ]
  },
  {
   "cell_type": "code",
   "execution_count": 3,
   "metadata": {},
   "outputs": [
    {
     "name": "stdout",
     "output_type": "stream",
     "text": [
      " la lista letters tiene 3 elementos\n",
      " la lista letters tiene 4 elementos\n"
     ]
    }
   ],
   "source": [
    "letters = [\"a\", \"b\", \"c\"]\n",
    "print(f\" la lista letters tiene {len(letters)} elementos\")\n",
    "letters += [\"d\"]\n",
    "print(f\" la lista letters tiene {len(letters)} elementos\")"
   ]
  },
  {
   "cell_type": "code",
   "execution_count": 4,
   "metadata": {},
   "outputs": [
    {
     "name": "stdout",
     "output_type": "stream",
     "text": [
      "9\n"
     ]
    }
   ],
   "source": [
    "# También puede usar len en cadenas para devolver su longitud (recuento de caracteres). \n",
    "# Por ejemplo:\n",
    "\n",
    "str = \"some text\"\n",
    "x = len(str)\n",
    "print(x)\n",
    "\n",
    "# Recuerda que el espacio también es un carácter."
   ]
  },
  {
   "cell_type": "code",
   "execution_count": 5,
   "metadata": {},
   "outputs": [
    {
     "name": "stdout",
     "output_type": "stream",
     "text": [
      "6\n"
     ]
    }
   ],
   "source": [
    "x =\"abc\"\n",
    "x *= 2\n",
    "print(len(x))"
   ]
  },
  {
   "cell_type": "code",
   "execution_count": 6,
   "metadata": {},
   "outputs": [
    {
     "name": "stdout",
     "output_type": "stream",
     "text": [
      "[1, 2, 3, 4]\n"
     ]
    }
   ],
   "source": [
    "# La función append() se usa para agregar un elemento al final de la lista:\n",
    "\n",
    "nums = [1, 2, 3]\n",
    "nums.append(4)\n",
    "print(nums)\n",
    "\n",
    "# Tenga en cuenta que la función se llama utilizando el nombre de la lista, \n",
    "# seguido de un punto."
   ]
  },
  {
   "cell_type": "code",
   "execution_count": 13,
   "metadata": {},
   "outputs": [
    {
     "name": "stdout",
     "output_type": "stream",
     "text": [
      " Lista antes de la función insert(1, \"is\"): ['Python', 'fun']\n",
      " Lista después de la función insert(1, \"is\"): ['Python', 'is', 'fun']\n"
     ]
    }
   ],
   "source": [
    "# La función insert() inserta un nuevo elemento en la posición dada en la lista:\n",
    "\n",
    "words = [\"Python\", \"fun\"]\n",
    "print(f\" Lista antes de la función insert(1, \\\"is\\\"): {words}\")\n",
    "words.insert(1, \"is\")\n",
    "print(f\" Lista después de la función insert(1, \\\"is\\\"): {words}\")\n",
    "\n",
    "# El primer argumento es el índice de posición, mientras que el segundo parámetro \n",
    "# es el elemento a insertar en esa posición."
   ]
  },
  {
   "cell_type": "code",
   "execution_count": 14,
   "metadata": {},
   "outputs": [
    {
     "name": "stdout",
     "output_type": "stream",
     "text": [
      "[9, 8, 7, 6, 5]\n",
      "[9, 8, 7, 6, 5, 4]\n",
      "[9, 8, 11, 7, 6, 5, 4]\n",
      "7\n"
     ]
    }
   ],
   "source": [
    "nums = [9, 8, 7, 6, 5]\n",
    "print(nums)\n",
    "nums.append(4)\n",
    "print(nums)\n",
    "nums.insert(2, 11)\n",
    "print(nums)\n",
    "print(len(nums))"
   ]
  },
  {
   "cell_type": "code",
   "execution_count": 15,
   "metadata": {},
   "outputs": [
    {
     "name": "stdout",
     "output_type": "stream",
     "text": [
      "2\n",
      "0\n",
      "1\n"
     ]
    }
   ],
   "source": [
    "# La función index() encuentra la primera aparición de un elemento \n",
    "# de la lista y devuelve su índice.\n",
    "\n",
    "letras = ['p', 'q', 'r', 's', 'p', 'u']\n",
    "print(letras.index('r'))\n",
    "print(letras.index('p'))\n",
    "print(letras.index('q'))\n",
    "\n",
    "# Se devuelve un error en caso de que el elemento especificado no se \n",
    "# encuentre en la lista."
   ]
  },
  {
   "cell_type": "code",
   "execution_count": 20,
   "metadata": {},
   "outputs": [
    {
     "name": "stdout",
     "output_type": "stream",
     "text": [
      "1\n",
      "42\n",
      "min(x): 1\n",
      "min(x): 42\n"
     ]
    }
   ],
   "source": [
    "# La función max (lista): Devuelve el valor máximo.\n",
    "# La función min (lista): Devuelve el valor mínimo.\n",
    "\n",
    "x = [1, 8, 42, 3]\n",
    "print(min(x))\n",
    "print(max(x))\n",
    "print(f\"min(x): {min(x)}\")\n",
    "print(f\"min(x): {max(x)}\")"
   ]
  },
  {
   "cell_type": "code",
   "execution_count": 21,
   "metadata": {},
   "outputs": [
    {
     "name": "stdout",
     "output_type": "stream",
     "text": [
      "6\n"
     ]
    }
   ],
   "source": [
    "nums = [1, 3, 5, 2, 4]\n",
    "res = min(nums) + max(nums)\n",
    "print(res)"
   ]
  },
  {
   "cell_type": "code",
   "execution_count": 23,
   "metadata": {},
   "outputs": [
    {
     "name": "stdout",
     "output_type": "stream",
     "text": [
      "Función x.count(2): 3\n",
      "Función x.remove(4): [2, 6, 2, 7, 2, 9]\n",
      "Función x.reverse(): [9, 2, 7, 2, 6, 2]\n"
     ]
    }
   ],
   "source": [
    "# La función lista.count (elemento): devuelve un recuento de cuántas \n",
    "# veces aparece un elemento en una lista.\n",
    "# La función lista.remove (elemento): elimina un elemento de una lista.\n",
    "# La función lista.reverse (): invierte los elementos de una lista. \n",
    "# Algunos ejemplos:\n",
    "\n",
    "x = [2, 4, 6, 2, 7, 2, 9]\n",
    "print(f\"Función x.count(2): {x.count(2)}\")\n",
    "\n",
    "x.remove(4)\n",
    "print(f\"Función x.remove(4): {x}\")\n",
    "\n",
    "x.reverse()\n",
    "print(f\"Función x.reverse(): {x}\")"
   ]
  },
  {
   "cell_type": "code",
   "execution_count": 24,
   "metadata": {},
   "outputs": [
    {
     "name": "stdout",
     "output_type": "stream",
     "text": [
      "[8, 4, 2, 6]\n",
      "[8, 4, 6]\n",
      "4\n"
     ]
    }
   ],
   "source": [
    "list = [8, 4, 2, 6]\n",
    "print(list)\n",
    "list.remove(2)\n",
    "print(list)\n",
    "print(len(list)+list.count(6))"
   ]
  },
  {
   "cell_type": "code",
   "execution_count": 25,
   "metadata": {},
   "outputs": [
    {
     "name": "stdout",
     "output_type": "stream",
     "text": [
      "[2, 3, 4, 8, 9, 5]\n",
      "[2, 3, 4, 8, 5]\n",
      "[1, 2, 3, 4, 8, 5]\n",
      "4\n"
     ]
    }
   ],
   "source": [
    "nums = [2,4,8,9,5]\n",
    "\n",
    "nums.insert(1, 3)\n",
    "print(nums)\n",
    "nums.remove(9)\n",
    "print(nums)\n",
    "nums.insert(0, nums.count(8))\n",
    "print(nums)\n",
    "print(nums[3])"
   ]
  },
  {
   "cell_type": "code",
   "execution_count": 31,
   "metadata": {},
   "outputs": [
    {
     "name": "stdout",
     "output_type": "stream",
     "text": [
      "[4, 5, 6]\n",
      "Numbers: 4 5 6\n"
     ]
    }
   ],
   "source": [
    "# STRING FORMATTING\n",
    "# Las cadenas tienen una función de format(), que permite incrustar \n",
    "# valores en ella, utilizando marcadores de posición. \n",
    "# Ejemplo:\n",
    "\n",
    "nums = [4, 5, 6]\n",
    "print(nums)\n",
    "msg = \"Numbers: {0} {1} {2}\". format(nums[0], nums[1], nums[2])\n",
    "print(msg)\n",
    "\n",
    "# Cada argumento de la función de format se coloca en la cadena en la \n",
    "# posición correspondiente, que se determina mediante las llaves {}."
   ]
  },
  {
   "cell_type": "code",
   "execution_count": 27,
   "metadata": {},
   "outputs": [
    {
     "name": "stdout",
     "output_type": "stream",
     "text": [
      "abracadabra\n"
     ]
    }
   ],
   "source": [
    "print(\"{0}{1}{0}\".format(\"abra\", \"cad\"))"
   ]
  },
  {
   "cell_type": "code",
   "execution_count": 28,
   "metadata": {},
   "outputs": [
    {
     "name": "stdout",
     "output_type": "stream",
     "text": [
      "5, 12\n"
     ]
    }
   ],
   "source": [
    "# También puede nombrar los marcadores de posición, \n",
    "# en lugar de los números de índice. \n",
    "# Ejemplo:\n",
    "\n",
    "a = \"{x}, {y}\".format(x=5, y=12)\n",
    "print(a)"
   ]
  },
  {
   "cell_type": "code",
   "execution_count": 29,
   "metadata": {},
   "outputs": [
    {
     "name": "stdout",
     "output_type": "stream",
     "text": [
      "7, 9, 5\n"
     ]
    }
   ],
   "source": [
    "str=\"{c}, {b}, {a}\".format(a=5, b=9, c=7)\n",
    "print(str)"
   ]
  },
  {
   "cell_type": "code",
   "execution_count": 30,
   "metadata": {},
   "outputs": [
    {
     "name": "stdout",
     "output_type": "stream",
     "text": [
      "spam, eggs, ham\n"
     ]
    }
   ],
   "source": [
    "# La función join() une una lista de cadenas \n",
    "# con otra cadena como separador. \n",
    "# Por ejemplo:\n",
    "\n",
    "x = \", \".join([\"spam\", \"eggs\", \"ham\"])\n",
    "print(x)\n",
    "#prints \"spam, eggs, ham\""
   ]
  },
  {
   "cell_type": "code",
   "execution_count": 32,
   "metadata": {},
   "outputs": [
    {
     "name": "stdout",
     "output_type": "stream",
     "text": [
      "['some', 'text', 'goes', 'here']\n"
     ]
    }
   ],
   "source": [
    "# split() es lo opuesto a join(). Convierte una cadena con un \n",
    "# determinado separador en una lista. Por ejemplo, dividamos una \n",
    "# oración en palabras:\n",
    "\n",
    "str = \"some text goes here\"\n",
    "x = str.split(' ')\n",
    "print(x)\n",
    "\n",
    "# Usamos un espacio ' ' como separador de división para obtener todas \n",
    "# las palabras de la cadena como una lista."
   ]
  },
  {
   "cell_type": "code",
   "execution_count": 33,
   "metadata": {},
   "outputs": [
    {
     "name": "stdout",
     "output_type": "stream",
     "text": [
      "Hello world\n"
     ]
    }
   ],
   "source": [
    "# replace() reemplaza una subcadena en una cadena con otra. \n",
    "# Por ejemplo:\n",
    "\n",
    "x = \"Hello ME\"\n",
    "print(x.replace(\"ME\", \"world\")) "
   ]
  },
  {
   "cell_type": "code",
   "execution_count": 34,
   "metadata": {},
   "outputs": [
    {
     "name": "stdout",
     "output_type": "stream",
     "text": [
      "THIS IS A SENTENCE.\n",
      "an all caps sentence\n"
     ]
    }
   ],
   "source": [
    "# lower() y upper() cambian el caso de una cadena a minúsculas y mayúsculas.\n",
    "\n",
    "print(\"This is a sentence.\".upper())\n",
    "\n",
    "print(\"AN ALL CAPS SENTENCE\".lower())"
   ]
  },
  {
   "cell_type": "code",
   "execution_count": 35,
   "metadata": {},
   "outputs": [
    {
     "name": "stdout",
     "output_type": "stream",
     "text": [
      "asd qwerty 12 opi zxc\n"
     ]
    }
   ],
   "source": [
    "msg = \"asd#qwerty#12#opi#zxc\"\n",
    "msg = msg.replace(\"#\", \" \")\n",
    "print(msg)"
   ]
  },
  {
   "cell_type": "code",
   "execution_count": 36,
   "metadata": {},
   "outputs": [
    {
     "name": "stdout",
     "output_type": "stream",
     "text": [
      "o\n"
     ]
    }
   ],
   "source": [
    "txt = \"hello\"\n",
    "print(max(txt))"
   ]
  },
  {
   "cell_type": "code",
   "execution_count": 42,
   "metadata": {},
   "outputs": [
    {
     "name": "stdout",
     "output_type": "stream",
     "text": [
      "spam\n",
      "spam\n",
      "spam\n"
     ]
    }
   ],
   "source": [
    "# Puede crear sus propias funciones usando la instrucción def. \n",
    "# Aquí hay un ejemplo de una función llamada my_func. No acepta \n",
    "# argumentos e imprime \"spam\" tres veces.\n",
    "\n",
    "def my_func():\n",
    "   print(\"spam\")\n",
    "   print(\"spam\")\n",
    "   print(\"spam\")\n",
    "\n",
    "my_func()\n",
    "\n",
    "# Al igual que con las declaraciones if , el bloque de código dentro \n",
    "# de cada función comienza con dos puntos (:) y está sangrado."
   ]
  },
  {
   "cell_type": "code",
   "execution_count": 41,
   "metadata": {},
   "outputs": [
    {
     "name": "stdout",
     "output_type": "stream",
     "text": [
      "Hello world!\n",
      "Hello world!\n",
      "Hello world!\n"
     ]
    }
   ],
   "source": [
    "# Entonces, una vez que haya definido una función, puede llamarla \n",
    "# varias veces en su código.\n",
    "\n",
    "def hello():\n",
    "   print(\"Hello world!\")\n",
    " \n",
    "hello()\n",
    "hello()\n",
    "hello()\n",
    "\n",
    "# Tenga en cuenta que llamamos a una función usando su nombre y los paréntesis.\n",
    "\n",
    "# NOTA: La función debe definirse antes de poder llamarla. Llamar a una función antes \n",
    "# de su definición provocará un error."
   ]
  },
  {
   "cell_type": "code",
   "execution_count": 43,
   "metadata": {},
   "outputs": [
    {
     "name": "stdout",
     "output_type": "stream",
     "text": [
      "1\n",
      "2\n",
      "1\n",
      "2\n"
     ]
    }
   ],
   "source": [
    "def foo():\n",
    "   print(1)\n",
    "   print(2)\n",
    "\n",
    "foo()\n",
    "foo()"
   ]
  },
  {
   "cell_type": "code",
   "execution_count": 1,
   "metadata": {},
   "outputs": [
    {
     "name": "stdout",
     "output_type": "stream",
     "text": [
      "spam!\n"
     ]
    }
   ],
   "source": [
    "# Las funciones pueden tomar argumentos, que se pueden usar para \n",
    "# generar la salida de la función. Por ejemplo:\n",
    "\n",
    "def exclamation(word):\n",
    "   print(word + \"!\")\n",
    "    \n",
    "exclamation(\"spam\")\n",
    "\n",
    "# Como puede ver en el ejemplo, el argumento se define entre paréntesis \n",
    "# y se llama word."
   ]
  },
  {
   "cell_type": "code",
   "execution_count": 2,
   "metadata": {},
   "outputs": [
    {
     "name": "stdout",
     "output_type": "stream",
     "text": [
      "6\n"
     ]
    }
   ],
   "source": [
    "def print_double(x):\n",
    "   print(2 * x)\n",
    "\n",
    "print_double(3)\n"
   ]
  },
  {
   "cell_type": "code",
   "execution_count": 3,
   "metadata": {},
   "outputs": [
    {
     "name": "stdout",
     "output_type": "stream",
     "text": [
      "13\n",
      "13\n"
     ]
    }
   ],
   "source": [
    "# Aún mejor, puede definir funciones con más de un argumento; \n",
    "# separarlos con comas.\n",
    "\n",
    "def print_sum_twice(x, y):\n",
    "   print(x + y)\n",
    "   print(x + y)\n",
    "\n",
    "print_sum_twice(5, 8)"
   ]
  },
  {
   "cell_type": "code",
   "execution_count": 4,
   "metadata": {},
   "outputs": [
    {
     "name": "stdout",
     "output_type": "stream",
     "text": [
      "A18\n"
     ]
    }
   ],
   "source": [
    "# Como puede ver en los ejemplos anteriores, los argumentos se \n",
    "# pueden usar como variables dentro de la función.\n",
    "\n",
    "# Puede tener diferentes sentencias en sus funciones, trabajando \n",
    "# con las variables de argumento, como sentencias if y loops.\n",
    "\n",
    "def msg(num, ch):\n",
    "  print(ch+str(num))\n",
    "\n",
    "msg(18, 'A')"
   ]
  },
  {
   "cell_type": "code",
   "execution_count": 5,
   "metadata": {},
   "outputs": [
    {
     "name": "stdout",
     "output_type": "stream",
     "text": [
      "49\n"
     ]
    }
   ],
   "source": [
    "# Returning from Functions\n",
    "# Ciertas funciones, como int o str , devuelven un valor en lugar de \n",
    "# generarlo. \n",
    "# El valor devuelto se puede usar más adelante en el código, por ejemplo, \n",
    "# al asignarlo a una variable. Para hacer esto para sus funciones definidas, \n",
    "# puede usar la declaración de return.\n",
    "\n",
    "# Ejemplo:\n",
    "\n",
    "# def sum(x, y):\n",
    "#   return x + y\n",
    "\n",
    "def sum(x, y):\n",
    "  return x+y\n",
    "\n",
    "res = sum(42, 7)\n",
    "print(res) \n",
    "\n",
    "# Regresar es útil cuando no necesita imprimir el resultado de la función, \n",
    "# pero necesita usarlo en su código. Por ejemplo, la función de withdraw() \n",
    "# de una cuenta bancaria podría devolver el saldo restante de la cuenta.\n"
   ]
  },
  {
   "cell_type": "code",
   "execution_count": 7,
   "metadata": {},
   "outputs": [
    {
     "name": "stdout",
     "output_type": "stream",
     "text": [
      "7\n",
      "Nope\n"
     ]
    }
   ],
   "source": [
    "def foo(x, y):\n",
    "  if x >= y:\n",
    "    return x\n",
    "  else:\n",
    "    return y\n",
    "\n",
    "x = foo(4, 7)\n",
    "print(x)\n",
    "\n",
    "# Puede usar el valor devuelto en su código, por ejemplo, una declaración if:\n",
    "\n",
    "def max(x, y):\n",
    "  if x >=y:\n",
    "    return x\n",
    "  else:\n",
    "    return y\n",
    "        \n",
    "if(max(6, 4) > 10):\n",
    "  print(\"Yes\")\n",
    "else:\n",
    "  print(\"Nope\")"
   ]
  },
  {
   "cell_type": "code",
   "execution_count": 8,
   "metadata": {},
   "outputs": [
    {
     "name": "stdout",
     "output_type": "stream",
     "text": [
      "9\n"
     ]
    }
   ],
   "source": [
    "# Una vez que devuelve un valor de una función, inmediatamente deja de ejecutarse. \n",
    "# No se ejecutará ningún código colocado después de la declaración de return. \n",
    "# Por ejemplo:\n",
    "\n",
    "def add_numbers(x, y):\n",
    "  total = x + y\n",
    "  return total\n",
    "  print(\"This won't be printed\")\n",
    "\n",
    "print(add_numbers(4, 5))"
   ]
  },
  {
   "cell_type": "code",
   "execution_count": 9,
   "metadata": {},
   "outputs": [
    {
     "name": "stdout",
     "output_type": "stream",
     "text": [
      "[12, 18]\n"
     ]
    }
   ],
   "source": [
    "# Una función solo puede devolver una vez, por lo tanto, si necesita devolver \n",
    "# varios valores, puede usar una lista .\n",
    "#  Por ejemplo:\n",
    "\n",
    "def double(a, b):\n",
    "   return [a*2, b*2]\n",
    "\n",
    "x = double(6, 9)\n",
    "print(x)"
   ]
  },
  {
   "cell_type": "code",
   "execution_count": 11,
   "metadata": {},
   "outputs": [
    {
     "name": "stdout",
     "output_type": "stream",
     "text": [
      "12\n",
      "7\n"
     ]
    }
   ],
   "source": [
    "def calc(x, y):\n",
    "   return [x+y, x*y]\n",
    "\n",
    "res = calc(3, 4)\n",
    "print(res[1])\n",
    "print(res[0])"
   ]
  },
  {
   "cell_type": "code",
   "execution_count": 12,
   "metadata": {},
   "outputs": [
    {
     "name": "stdout",
     "output_type": "stream",
     "text": [
      "6\n"
     ]
    }
   ],
   "source": [
    "def sum(x):\n",
    "    res = 0\n",
    "    for i in range(x):\n",
    "        res+=i\n",
    "    return res\n",
    "    \n",
    "print(sum(4))"
   ]
  },
  {
   "cell_type": "code",
   "execution_count": 13,
   "metadata": {},
   "outputs": [
    {
     "name": "stdout",
     "output_type": "stream",
     "text": [
      "spam!\n"
     ]
    }
   ],
   "source": [
    "# Docstring\n",
    "# Las docstrings (cadenas de documentación) son similares a los comentarios, \n",
    "# ya que están diseñadas para explicar el código. Pero son más específicos y \n",
    "# tienen una sintaxis diferente. \n",
    "\n",
    "# Se crean colocando una cadena de varias líneas que contiene una explicación \n",
    "# de la función debajo de la primera línea de la función.\n",
    "\n",
    "def shout(word):\n",
    "  \"\"\"\n",
    "  Print a word with an\n",
    "  exclamation mark following it.\n",
    "  \"\"\"\n",
    "  print(word + \"!\")\n",
    "    \n",
    "shout(\"spam\")\n",
    "\n",
    "# Las docstring actúan como documentación para otros desarrolladores que usan su función.\n",
    "\n",
    "# A diferencia de los comentarios convencionales, las cadenas de documentación se conservan \n",
    "# durante todo el tiempo de ejecución del programa. Esto permite al programador inspeccionar \n",
    "# estos comentarios en tiempo de ejecución."
   ]
  },
  {
   "cell_type": "code",
   "execution_count": 15,
   "metadata": {},
   "outputs": [
    {
     "name": "stdout",
     "output_type": "stream",
     "text": [
      "0\n",
      "3\n"
     ]
    }
   ],
   "source": [
    "def print_nums(x):\n",
    "  for i in range(x):\n",
    "    print(i)\n",
    "    return\n",
    "print_nums(10)\n",
    "\n",
    "def func(x):\n",
    "  res = 0\n",
    "  for i in range(x):\n",
    "     res += i\n",
    "  return res\n",
    "\n",
    "print(func(3))"
   ]
  }
 ],
 "metadata": {
  "interpreter": {
   "hash": "247ab06e135bb35fa78c5eff31b2a9a0050dcb5fb773c2631d2a29ac689eeccb"
  },
  "kernelspec": {
   "display_name": "Python 3.9.5 64-bit",
   "language": "python",
   "name": "python3"
  },
  "language_info": {
   "codemirror_mode": {
    "name": "ipython",
    "version": 3
   },
   "file_extension": ".py",
   "mimetype": "text/x-python",
   "name": "python",
   "nbconvert_exporter": "python",
   "pygments_lexer": "ipython3",
   "version": "3.9.5"
  },
  "orig_nbformat": 4
 },
 "nbformat": 4,
 "nbformat_minor": 2
}
