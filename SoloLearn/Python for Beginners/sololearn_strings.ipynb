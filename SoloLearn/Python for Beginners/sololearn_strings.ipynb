{
 "cells": [
  {
   "cell_type": "code",
   "execution_count": 1,
   "metadata": {},
   "outputs": [
    {
     "name": "stdout",
     "output_type": "stream",
     "text": [
      "Multiplicacion\n",
      "3234\n",
      "Division\n",
      "2.0\n",
      "Multiplicar con Floats\n",
      "4.22\n"
     ]
    }
   ],
   "source": [
    "#Practicando código de PYTHON\n",
    "print(\"Multiplicacion\")\n",
    "print(42 * 77)\n",
    "print(\"Division\")\n",
    "print(10 / 5)\n",
    "print(\"Multiplicar con Floats\")\n",
    "print(2 * 2.11)"
   ]
  },
  {
   "cell_type": "code",
   "execution_count": 3,
   "metadata": {},
   "outputs": [
    {
     "name": "stdout",
     "output_type": "stream",
     "text": [
      "15.0\n"
     ]
    }
   ],
   "source": [
    "print(1 + 2 + 3 + 4.0 + 5)"
   ]
  },
  {
   "cell_type": "code",
   "execution_count": 10,
   "metadata": {},
   "outputs": [
    {
     "name": "stdout",
     "output_type": "stream",
     "text": [
      "Potenciacion\n",
      "2 ** 3: 8\n",
      "2 ** 5: 32\n",
      "2 ** 3 ** 2: 512\n",
      "2 ** 9: 512\n",
      "Potenciacion con fracciones como exponentes\n",
      "9 ** (1/2): 3.0\n",
      "8 ** (1 / 3): 2.0\n"
     ]
    }
   ],
   "source": [
    "# Matematicas (Potenciacion)\n",
    "print(\"Potenciacion\")\n",
    "print(\"2 ** 3: \" + str(2 ** 3))\n",
    "print(\"2 ** 5: \" + str(2 ** 5))\n",
    "print(\"2 ** 3 ** 2: \" + str(2 ** 3 ** 2))\n",
    "print(\"2 ** 9: \" + str(2 ** 9))\n",
    "print(\"Potenciacion con fracciones como exponentes\")\n",
    "print(\"9 ** (1/2): \" + str(9 ** (1/2)))\n",
    "print(\"8 ** (1 / 3): \" + str(8 ** (1 / 3)))"
   ]
  },
  {
   "cell_type": "code",
   "execution_count": 1,
   "metadata": {},
   "outputs": [
    {
     "name": "stdout",
     "output_type": "stream",
     "text": [
      "20 // 6: 3\n",
      "10 // 4: 2\n"
     ]
    }
   ],
   "source": [
    "# Encontrar el COCIENTE de una división\n",
    "print(\"20 // 6: \" + str(20 // 6))\n",
    "print(\"10 // 4: \" + str(10 // 4))"
   ]
  },
  {
   "cell_type": "code",
   "execution_count": 8,
   "metadata": {},
   "outputs": [
    {
     "name": "stdout",
     "output_type": "stream",
     "text": [
      "20 % 6: 2\n",
      "1024 % 42: 16\n",
      "7 % (5 // 2): 1\n",
      "5 // 2: 2\n",
      "5 / 2: 2.5\n",
      "7 % 2: 1\n",
      "||-----------------------||\n",
      "1.25 % 0.5: 0.25\n",
      "4.2 // 1.4: 3.0\n",
      "6 // 1.5: 4.0\n"
     ]
    }
   ],
   "source": [
    "# Encontrar el RESTO de una división\n",
    "print(\"20 % 6: \" + str(20 % 6))\n",
    "print(\"1024 % 42: \" + str(1024 % 42))\n",
    "print(\"7 % (5 // 2): \" + str(7 % (5 // 2)))\n",
    "print(\"5 // 2: \" + str(5 // 2))\n",
    "print(\"5 / 2: \" + str(5 / 2))\n",
    "print(\"7 % 2: \" + str(7 % 2))\n",
    "print(\"||-----------------------||\")\n",
    "print(\"1.25 % 0.5: \" + str(1.25 % 0.5))\n",
    "print(\"4.2 // 1.4: \" + str(4.2 // 1.4))\n",
    "print(\"6 // 1.5: \" + str(6 // 1.5))"
   ]
  },
  {
   "cell_type": "code",
   "execution_count": 9,
   "metadata": {},
   "outputs": [
    {
     "name": "stdout",
     "output_type": "stream",
     "text": [
      "4\n"
     ]
    }
   ],
   "source": [
    "print( (3**2)//2 )"
   ]
  },
  {
   "cell_type": "code",
   "execution_count": 11,
   "metadata": {},
   "outputs": [
    {
     "name": "stdout",
     "output_type": "stream",
     "text": [
      "Brian's Mother: He's not an angel. He's a very naughty boy!\n",
      "He said: \"cool!\".\n"
     ]
    }
   ],
   "source": [
    "# Barra Invertida\n",
    "print(\"Brian\\'s Mother: He\\'s not an angel. He\\'s a very naughty boy!\")\n",
    "print(\"He said: \\\"cool!\\\".\")"
   ]
  },
  {
   "cell_type": "code",
   "execution_count": 2,
   "metadata": {},
   "outputs": [
    {
     "name": "stdout",
     "output_type": "stream",
     "text": [
      "Newline:\n",
      "One \n",
      "Two \n",
      "Three\n",
      "Tab:\n",
      "\t hey \t there\n"
     ]
    }
   ],
   "source": [
    "# Newline\n",
    "print(\"Newline:\")\n",
    "print(\"One \\nTwo \\nThree\")\n",
    "\n",
    "# Tab\n",
    "print(\"Tab:\")\n",
    "print(\"\\t hey \\t there\")"
   ]
  },
  {
   "cell_type": "code",
   "execution_count": 12,
   "metadata": {},
   "outputs": [
    {
     "name": "stdout",
     "output_type": "stream",
     "text": [
      " there\n",
      "Newline is \\n\n",
      "asd \n",
      " a \n",
      " a \n",
      " a\n"
     ]
    }
   ],
   "source": [
    "# Carriage Return (\\r)\n",
    "print(\"Hi \\r there\")\n",
    "\n",
    "# Escaping\n",
    "print(\"Newline is \\\\n\")\n",
    "print(\"asd \\r\\n a \\r\\n a \\r\\n a\")"
   ]
  },
  {
   "cell_type": "code",
   "execution_count": 15,
   "metadata": {},
   "outputs": [
    {
     "name": "stdout",
     "output_type": "stream",
     "text": [
      "this\n",
      "is a\n",
      "multiline\n",
      "text\n",
      "||--------------||\n",
      "Título por definir\n",
      "En el nombre del rey de [escribir nombre del rey] de [escribir nombre del país o del imperio]\n",
      "las personas de [] son sentenciadas a juicio sin derecho alguno de defenderse por la gran ofen-\n",
      "sa de []...\n",
      "\n",
      "Ensayando... \n",
      "\n",
      "Hi\n",
      "This \n",
      "is\n",
      "great\n"
     ]
    }
   ],
   "source": [
    "# Usando tres comillas permite digitar tantas lineas de textos que el usuario quiera.\n",
    "# Puede hacerse con comillas dobles (\"\") o sencillas ('').\n",
    "print(\"\"\"this\n",
    "is a\n",
    "multiline\n",
    "text\"\"\")\n",
    "print(\"||--------------||\")\n",
    "print(\"\"\"Título por definir\n",
    "En el nombre del rey de [escribir nombre del rey] de [escribir nombre del país o del imperio]\n",
    "las personas de [] son sentenciadas a juicio sin derecho alguno de defenderse por la gran ofen-\n",
    "sa de []...\"\"\")\n",
    "print(\"\\nEnsayando... \\n\")\n",
    "print(\"Hi\")\n",
    "print(\"\"\"This \n",
    "is\n",
    "great\"\"\")"
   ]
  },
  {
   "cell_type": "code",
   "execution_count": 13,
   "metadata": {},
   "outputs": [
    {
     "name": "stdout",
     "output_type": "stream",
     "text": [
      "\n",
      "I'm learning.\n",
      "Python's sintax is easy.\n",
      "\n"
     ]
    }
   ],
   "source": [
    "print('''\n",
    "I'm learning.\n",
    "Python's sintax is easy.\n",
    "''')"
   ]
  },
  {
   "cell_type": "code",
   "execution_count": 27,
   "metadata": {},
   "outputs": [
    {
     "name": "stdout",
     "output_type": "stream",
     "text": [
      "Spam eggs\n",
      "22\n",
      "---------\n",
      "SpamSpamSpam\n",
      "Spam Spam \n",
      " Spam Spam Spam\n",
      "2222\n",
      " 2 2 2 2\n",
      "2 2 2 2 \n",
      "777\n"
     ]
    }
   ],
   "source": [
    "# STRING OPERATIONS\n",
    "# CONCATENATION\n",
    "print(\"Spam\" + ' eggs')\n",
    "print(\"2\" + \"2\")\n",
    "print(\"---------\")\n",
    "# Operaciones matemáticas con cadenas de texto:\n",
    "print(\"Spam\" * 3)\n",
    "print(\"Spam \" * 2)\n",
    "print(\" Spam\" * 3)\n",
    "print(4 * '2')\n",
    "print(4 * ' 2')\n",
    "print(4 * '2 ')\n",
    "print(3 * '7')\n",
    "# Las cadenas de texto (String) no pueden multiplicarse entre ellas,\n",
    "# Eso genera un error\n",
    "# Ejemplo: print(\"texto 1\" * \"texto 2\")"
   ]
  },
  {
   "cell_type": "code",
   "execution_count": 2,
   "metadata": {},
   "outputs": [
    {
     "name": "stdout",
     "output_type": "stream",
     "text": [
      "ABABAB\n",
      "425\n"
     ]
    }
   ],
   "source": [
    "print((\"A\"+'B')*(1+2))\n",
    "print(\"42\" + '5')"
   ]
  }
 ],
 "metadata": {
  "kernelspec": {
   "display_name": "Python 3.10.4 64-bit",
   "language": "python",
   "name": "python3"
  },
  "language_info": {
   "codemirror_mode": {
    "name": "ipython",
    "version": 3
   },
   "file_extension": ".py",
   "mimetype": "text/x-python",
   "name": "python",
   "nbconvert_exporter": "python",
   "pygments_lexer": "ipython3",
   "version": "3.10.4"
  },
  "orig_nbformat": 4,
  "vscode": {
   "interpreter": {
    "hash": "fb4569285eef3a3450cb62085a5b1e0da4bce0af555edc33dcf29baf3acc1368"
   }
  }
 },
 "nbformat": 4,
 "nbformat_minor": 2
}
