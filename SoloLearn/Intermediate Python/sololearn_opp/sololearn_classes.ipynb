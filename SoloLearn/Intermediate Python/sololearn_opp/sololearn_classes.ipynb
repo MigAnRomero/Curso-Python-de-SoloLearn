{
 "cells": [
  {
   "cell_type": "code",
   "execution_count": 5,
   "metadata": {},
   "outputs": [
    {
     "name": "stdout",
     "output_type": "stream",
     "text": [
      "Felix\n",
      "ginger\n",
      "4\n",
      "Rover\n",
      "dog-colored\n",
      "4\n",
      "Stumpy\n",
      "brown\n",
      "3\n"
     ]
    }
   ],
   "source": [
    "# CLASSES\n",
    "# El punto focal de la Programación Orientada a Objetos (POO) son \n",
    "# los objetos, que se crean usando clases.\n",
    "\n",
    "# La clase describe lo que será el objeto, pero está separada del \n",
    "# objeto en sí. En otras palabras, una clase se puede describir como \n",
    "# el modelo, la descripción o la definición de un objeto.\n",
    "\n",
    "# Puede usar la misma clase como modelo para crear varios objetos diferentes.\n",
    "\n",
    "# Las clases se crean utilizando la palabra clave class y un bloque sangrado,\n",
    "# que contiene métodos de clase (que son funciones).\n",
    "\n",
    "# A continuación se muestra un ejemplo de una clase simple y sus objetos.\n",
    "\n",
    "class Cat:\n",
    "  def __init__(self, color, legs):\n",
    "    self.color = color\n",
    "    self.legs = legs\n",
    "\n",
    "felix = Cat(\"ginger\", 4)\n",
    "rover = Cat(\"dog-colored\", 4)\n",
    "stumpy = Cat(\"brown\", 3)\n",
    "\n",
    "print(\"Felix\")\n",
    "print(felix.color)\n",
    "print(felix.legs)\n",
    "print(\"Rover\")\n",
    "print(rover.color)\n",
    "print(rover.legs)\n",
    "print(\"Stumpy\")\n",
    "print(stumpy.color)\n",
    "print(stumpy.legs)\n",
    "\n",
    "# Este código define una clase llamada Cat, que tiene dos atributos: color y patas.\n",
    "\n",
    "# Luego, la clase se usa para crear 3 objetos separados de esa clase.\n",
    "\n",
    "# ¡Toca Continuar para obtener más información!"
   ]
  },
  {
   "cell_type": "code",
   "execution_count": 6,
   "metadata": {},
   "outputs": [
    {
     "name": "stdout",
     "output_type": "stream",
     "text": [
      "ginger\n",
      "4\n"
     ]
    }
   ],
   "source": [
    "# __init__\n",
    "# El método __init__ es el método más importante de una clase.\n",
    "# Esto se llama cuando se crea una instancia (objeto) de la clase, \n",
    "# usando el nombre de la clase como una función.\n",
    "\n",
    "# Todos los métodos deben tener self como su primer parámetro, aunque \n",
    "# no se pasa explícitamente, Python agrega el argumento self a la lista \n",
    "# por usted; no necesita incluirlo cuando llame a los métodos. Dentro de\n",
    "# una definición de método, self se refiere a la instancia que llama al método.\n",
    "\n",
    "# Las instancias de una clase tienen atributos, que son piezas\n",
    "# de datos asociadas con ellas.\n",
    "\n",
    "# En este ejemplo, las instancias de Cat tienen atributos color y patas. Se\n",
    "# puede acceder a estos poniendo un punto y el nombre del atributo después\n",
    "# de una instancia.\n",
    "\n",
    "# Por lo tanto, en un método __init__, self.attribute se puede usar para\n",
    "# establecer el valor inicial de los atributos de una instancia.\n",
    "\n",
    "class Cat:\n",
    "    def __init__(self, color, legs):\n",
    "        self.color = color\n",
    "        self.legs = legs\n",
    "\n",
    "felix = Cat(\"ginger\", 4)\n",
    "print(felix.color)\n",
    "print(felix.legs)\n",
    "\n",
    "# En el ejemplo anterior, el método __init__ toma dos argumentos y los asigna\n",
    "# a los atributos del objeto. El método __init__ se llama constructor de clases."
   ]
  },
  {
   "cell_type": "code",
   "execution_count": 7,
   "metadata": {},
   "outputs": [
    {
     "name": "stdout",
     "output_type": "stream",
     "text": [
      "Fido\n",
      "brown\n",
      "Woof!\n",
      "\n",
      "Probando con otro ejercicio.\n",
      "Hi from Amy\n"
     ]
    }
   ],
   "source": [
    "# METHODS\n",
    "# Las clases pueden tener otros métodos definidos para agregarles funcionalidad.\n",
    "# Recuerde que todos los métodos deben tener self como su primer parámetro.\n",
    "# Se accede a estos métodos utilizando la misma sintaxis de puntos que los atributos.\n",
    "\n",
    "# Ejemplo:\n",
    "\n",
    "class Dog:\n",
    "    def __init__(self, name, color): # Constructor de clase\n",
    "        self.name = name\n",
    "        self.color = color\n",
    "\n",
    "    def bark(self):\n",
    "        print(\"Woof!\")\n",
    "\n",
    "fido = Dog(\"Fido\", \"brown\")\n",
    "print(fido.name)\n",
    "print(fido.color)\n",
    "fido.bark()\n",
    "\n",
    "# Los atributos de la clase son compartidos por todas las instancias de la clase.\n",
    "# Otro ejemplo:\n",
    "\n",
    "print(\"\\nProbando con otro ejercicio.\")\n",
    "\n",
    "class Student:\n",
    "    def __init__(self, name): # Constructor de clase\n",
    "        self.name = name\n",
    "\n",
    "    def sayHi(self):\n",
    "        print(\"Hi from \" + self.name)\n",
    "\n",
    "s1 = Student(\"Amy\")\n",
    "\n",
    "s1.sayHi()"
   ]
  },
  {
   "cell_type": "code",
   "execution_count": 8,
   "metadata": {},
   "outputs": [
    {
     "name": "stdout",
     "output_type": "stream",
     "text": [
      "Fido\n",
      "Brown\n",
      "Woof!\n"
     ]
    }
   ],
   "source": [
    "# INHERITANCE\n",
    "# La herencia proporciona una forma de compartir la funcionalidad\n",
    "# entre clases.\n",
    "\n",
    "# Imagine varias clases, gato, perro, conejo, etc. Aunque pueden\n",
    "# diferir en algunos aspectos (solo Perro puede tener el método ladrar),\n",
    "# es probable que sean similares en otros (todos con los atributos\n",
    "# color y nombre).\n",
    "\n",
    "# Esta similitud se puede expresar haciendo que todos hereden de una\n",
    "# superclase Animal, que contiene la funcionalidad compartida. Para\n",
    "# heredar una clase de otra clase, coloque el nombre de la superclase\n",
    "# entre paréntesis después del nombre de la clase.\n",
    "\n",
    "# Ejemplo:\n",
    "# Clase padre o super clase\n",
    "class Animal:\n",
    "    def __init__(self, name, color):\n",
    "        self.name = name\n",
    "        self.color = color\n",
    "\n",
    "# Clases hijas\n",
    "class Cat(Animal):\n",
    "    def purr(self):\n",
    "        print(\"Purr...\")\n",
    "\n",
    "class Dog(Animal):\n",
    "    def bark(self):\n",
    "        print(\"Woof!\")\n",
    "\n",
    "# Verificando que la clase Dog heredo los atributos name y color\n",
    "# de la clase padre Animal.\n",
    "fido = Dog(\"Fido\", \"Brown\")\n",
    "print(fido.name)\n",
    "print(fido.color)\n",
    "fido.bark()"
   ]
  },
  {
   "cell_type": "code",
   "execution_count": 20,
   "metadata": {},
   "outputs": [
    {
     "name": "stdout",
     "output_type": "stream",
     "text": [
      "||---Subclase Dog---||\n",
      "Max\n",
      "Grey\n",
      "Woof!\n",
      "\n",
      "||---Superclase Wolf---||\n",
      "Sirius\n",
      "Black\n",
      "Grr!!...\n"
     ]
    },
    {
     "data": {
      "text/plain": [
       "'Alfa'"
      ]
     },
     "execution_count": 20,
     "metadata": {},
     "output_type": "execute_result"
    }
   ],
   "source": [
    "# Una clase que hereda de otra clase se llama subclase (clase hija).\n",
    "\n",
    "# Una clase que se hereda de se denomina superclase (calse padre).\n",
    "\n",
    "# Si una clase hereda de otra con los mismos atributos o métodos, los anula.\n",
    "\n",
    "# Superclase\n",
    "class Wolf:\n",
    "    def __init__(self, name, color):\n",
    "        self.name = name\n",
    "        self.color = color\n",
    "\n",
    "    def bark(self):\n",
    "        print(\"Grr!!...\")\n",
    "\n",
    "# Subclase\n",
    "class Dog(Wolf):\n",
    "    def bark(self):\n",
    "        print(\"Woof!\")\n",
    "\n",
    "# Objetos\n",
    "print(\"||---Subclase Dog---||\")\n",
    "husky = Dog(\"Max\", \"Grey\")\n",
    "print(husky.name)\n",
    "print(husky.color)\n",
    "husky.bark()\n",
    "\n",
    "print(\"\\n||---Superclase Wolf---||\")\n",
    "lobo = Wolf(\"Sirius\", \"Black\")\n",
    "print(lobo.name)\n",
    "print(lobo.color)\n",
    "lobo.bark()\n",
    "\n",
    "# Wolf(\"Alfa\", \"Blue grey\").bark()\n",
    "Wolf(\"Alfa\", \"Blue grey\").name\n",
    "# Wolf(\"Alfa\", \"Blue grey\").color\n",
    "\n",
    "\n",
    "# En el ejemplo anterior, Wolf es la superclase, Dog es la subclase."
   ]
  },
  {
   "cell_type": "code",
   "execution_count": 11,
   "metadata": {},
   "outputs": [
    {
     "name": "stdout",
     "output_type": "stream",
     "text": [
      "2\n",
      "1\n"
     ]
    }
   ],
   "source": [
    "class A:\n",
    "  def method(self):\n",
    "    print(1)\n",
    "\n",
    "class B(A):\n",
    "  def method(self):\n",
    "    print(2)\n",
    "\n",
    "B().method()\n",
    "A().method()"
   ]
  },
  {
   "cell_type": "code",
   "execution_count": 23,
   "metadata": {},
   "outputs": [
    {
     "name": "stdout",
     "output_type": "stream",
     "text": [
      "2\n",
      "1\n"
     ]
    }
   ],
   "source": [
    "# La función super() es una función útil relacionada con la herencia que\n",
    "# hace referencia a la clase padre. Se puede usar para encontrar el método\n",
    "# con un nombre determinado en la superclase de un objeto.\n",
    "\n",
    "# Ejemplo:\n",
    "\n",
    "class A:\n",
    "  def spam(self):\n",
    "    print(1)\n",
    "\n",
    "class B(A):\n",
    "  def spam(self):\n",
    "    print(2)\n",
    "    super().spam() # Se imprime el \"1\" del método spam() de la superclase\n",
    "\n",
    "B().spam()\n",
    "\n",
    "# super().spam() llama al método spam de la superclase."
   ]
  },
  {
   "cell_type": "code",
   "execution_count": 5,
   "metadata": {},
   "outputs": [
    {
     "name": "stdout",
     "output_type": "stream",
     "text": [
      "---Objeto result---\n",
      "x: 8\n",
      "y: 16\n",
      "---Objeto first---\n",
      "x: 5\n",
      "y: 7\n",
      "---Objeto second---\n",
      "x: 3\n",
      "y: 9\n"
     ]
    }
   ],
   "source": [
    "# MAGIC METHODS\n",
    "# Los métodos mágicos son métodos especiales que tienen guiones bajos dobles\n",
    "# al principio y al final de sus nombres.\n",
    "\n",
    "# También son conocidos como dunders.\n",
    "\n",
    "# Hasta ahora, el único que hemos encontrado es __init__, pero hay varios más.\n",
    "\n",
    "# Se utilizan para crear funciones que no se pueden representar como un método\n",
    "# normal.\n",
    "\n",
    "# Un uso común de ellos es la sobrecarga de operadores.\n",
    "\n",
    "# Esto significa definir operadores para clases personalizadas que permitan el\n",
    "# uso de operadores como + y * en ellas.\n",
    "\n",
    "# Un método mágico de ejemplo es __add__ para +.\n",
    "\n",
    "class Vector2D:\n",
    "    def __init__(self, x, y):\n",
    "        self.x = x\n",
    "        self.y = y\n",
    "    \n",
    "    def __add__(self, other):\n",
    "        return Vector2D(self.x + other.x, self.y + other.y)\n",
    "\n",
    "first = Vector2D(5, 7)\n",
    "second = Vector2D(3, 9)\n",
    "result = first + second\n",
    "print(\"---Objeto result---\")\n",
    "print(f\"x: {result.x}\")\n",
    "print(f\"y: {result.y}\")\n",
    "print(\"---Objeto first---\")\n",
    "print(f\"x: {first.x}\")\n",
    "print(f\"y: {first.y}\")\n",
    "print(\"---Objeto second---\")\n",
    "print(f\"x: {second.x}\")\n",
    "print(f\"y: {second.y}\")\n",
    "\n",
    "# El método __add__ permite la definición de un comportamiento personalizado para\n",
    "# el operador + en nuestra clase.\n",
    "\n",
    "# Como puede ver, agrega los atributos correspondientes de los objetos y devuelve\n",
    "# un nuevo objeto que contiene el resultado.\n",
    "\n",
    "# Una vez definido, podemos agregar dos objetos de la clase juntos."
   ]
  },
  {
   "cell_type": "code",
   "execution_count": 8,
   "metadata": {},
   "outputs": [
    {
     "name": "stdout",
     "output_type": "stream",
     "text": [
      "spam\n",
      "============\n",
      "Hello world!\n",
      "\n",
      "Otro intento...\n",
      "María Antonieta\n",
      "=================\n",
      "Reina de Francia.\n"
     ]
    }
   ],
   "source": [
    "# Más métodos mágicos para operadores comunes:\n",
    "# __sub__ para -\n",
    "# __mul__ por *\n",
    "# __truediv__ para /\n",
    "# __pisodiv__ para //\n",
    "# __mod__ por %\n",
    "# __pow__ para **\n",
    "# __y para &\n",
    "# __xor__ para ^\n",
    "# __o__ para |\n",
    "\n",
    "# La expresión x + y se traduce en x.__add__(y).\n",
    "# Sin embargo, si x no ha implementado __add__, y \"x\" y \"y\" son de\n",
    "# tipos diferentes, entonces se llama a y.__radd__(x).\n",
    "# Hay métodos \"r\" equivalentes para todos los métodos mágicos que\n",
    "# acabamos de mencionar.\n",
    "\n",
    "# Ejemplo:\n",
    "\n",
    "class SpecialString:\n",
    "    def __init__(self, cont):\n",
    "        self.cont = cont\n",
    "\n",
    "    def __truediv__(self, other):\n",
    "        line = \"=\" * len(other.cont)\n",
    "        return \"\\n\".join([self.cont, line, other.cont])\n",
    "\n",
    "spam = SpecialString(\"spam\")\n",
    "hello = SpecialString(\"Hello world!\")\n",
    "print(spam / hello)\n",
    "\n",
    "print(\"\\nOtro intento...\")\n",
    "example_one = SpecialString(\"María Antonieta\")\n",
    "example_two = SpecialString(\"Reina de Francia.\")\n",
    "print(example_one / example_two)\n",
    "\n",
    "# En el ejemplo anterior, definimos la operación de división para\n",
    "# nuestra clase SpecialString."
   ]
  },
  {
   "cell_type": "code",
   "execution_count": 10,
   "metadata": {},
   "outputs": [
    {
     "name": "stdout",
     "output_type": "stream",
     "text": [
      " > spam>egss\n",
      "e > spam>gss\n",
      "eg > spam>ss\n",
      "egs > spam>s\n",
      "egss > spam>\n"
     ]
    }
   ],
   "source": [
    "# Python también proporciona métodos mágicos para las comparaciones.\n",
    "# __lt__ para <\n",
    "# __le__ para <=\n",
    "# __eq__ para ==\n",
    "# __ne__ para !=\n",
    "# __gt__ para >\n",
    "# __ge__ para >=\n",
    "\n",
    "# Si __ne__ no está implementado, devuelve lo contrario de __eq__.\n",
    "# No hay otras relaciones entre los otros operadores.\n",
    "\n",
    "# Ejemplo:\n",
    "\n",
    "class SpecialStringTwo:\n",
    "    def __init__(self, cont):\n",
    "        self.cont = cont\n",
    "\n",
    "    def __gt__(self, other):\n",
    "        for index in range(len(other.cont)+1):\n",
    "            result = other.cont[:index] + \" > \" + self.cont\n",
    "            result += \">\" + other.cont[index:]\n",
    "            print(result)\n",
    "\n",
    "spam = SpecialStringTwo(\"spam\")\n",
    "eggs = SpecialStringTwo(\"egss\")\n",
    "spam > eggs\n",
    "\n",
    "# Como puede ver, puede definir cualquier comportamiento personalizado\n",
    "# para los operadores sobrecargados."
   ]
  },
  {
   "cell_type": "code",
   "execution_count": 11,
   "metadata": {},
   "outputs": [
    {
     "name": "stdout",
     "output_type": "stream",
     "text": [
      "1\n",
      "1\n",
      "B\n",
      "C\n"
     ]
    }
   ],
   "source": [
    "# Hay varios métodos mágicos para hacer que las clases actúen como\n",
    "# contenedores.\n",
    "# __len__ para len()\n",
    "# __getitem__ para la indexación\n",
    "# __setitem__ para asignar a valores indexados\n",
    "# __delitem__ para eliminar valores indexados\n",
    "# __iter__ para la iteración sobre objetos (por ejemplo, en bucles for)\n",
    "# __contiene__ para in\n",
    "\n",
    "# Hay muchos otros métodos mágicos que no cubriremos aquí, como __call__ para\n",
    "# llamar a objetos como funciones, y __int__, __str__ y similares, para\n",
    "# convertir objetos en tipos integrados.\n",
    "\n",
    "# Ejemplo:\n",
    "\n",
    "import random\n",
    "\n",
    "class VagueList:\n",
    "    def __init__(self, cont):\n",
    "        self.cont = cont\n",
    "\n",
    "    def __getitem__(self, index):\n",
    "        return self.cont[index + random.randint(-1, 1)]\n",
    "\n",
    "    def __len__(self):\n",
    "        return random.randint(0, len(self.cont)*2)\n",
    "\n",
    "vague_list = VagueList([\"A\", \"B\", \"C\", \"D\", \"E\"])\n",
    "print(len(vague_list))\n",
    "print(len(vague_list))\n",
    "print(vague_list[2])\n",
    "print(vague_list[2])\n",
    "\n",
    "# Hemos anulado la función len() para que la clase VagueList devuelva\n",
    "# un número aleatorio.\n",
    "\n",
    "# La función de indexación también devuelve un elemento aleatorio en un\n",
    "# rango de la lista, según la expresión."
   ]
  }
 ],
 "metadata": {
  "interpreter": {
   "hash": "247ab06e135bb35fa78c5eff31b2a9a0050dcb5fb773c2631d2a29ac689eeccb"
  },
  "kernelspec": {
   "display_name": "Python 3.9.5 64-bit",
   "language": "python",
   "name": "python3"
  },
  "language_info": {
   "codemirror_mode": {
    "name": "ipython",
    "version": 3
   },
   "file_extension": ".py",
   "mimetype": "text/x-python",
   "name": "python",
   "nbconvert_exporter": "python",
   "pygments_lexer": "ipython3",
   "version": "3.9.5"
  },
  "orig_nbformat": 4
 },
 "nbformat": 4,
 "nbformat_minor": 2
}
