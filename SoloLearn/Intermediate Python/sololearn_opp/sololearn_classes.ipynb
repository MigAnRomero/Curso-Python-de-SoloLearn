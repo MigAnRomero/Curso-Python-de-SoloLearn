{
 "cells": [
  {
   "cell_type": "code",
   "execution_count": 1,
   "metadata": {},
   "outputs": [
    {
     "name": "stdout",
     "output_type": "stream",
     "text": [
      "Felix\n",
      "ginger\n",
      "4\n",
      "Rover\n",
      "dog-colored\n",
      "4\n",
      "Stumpy\n",
      "brown\n",
      "3\n"
     ]
    }
   ],
   "source": [
    "# CLASSES\n",
    "# El punto focal de la Programación Orientada a Objetos (POO) son \n",
    "# los objetos, que se crean usando clases.\n",
    "\n",
    "# La clase describe lo que será el objeto, pero está separada del \n",
    "# objeto en sí. En otras palabras, una clase se puede describir como \n",
    "# el modelo, la descripción o la definición de un objeto.\n",
    "\n",
    "# Puede usar la misma clase como modelo para crear varios objetos diferentes.\n",
    "\n",
    "# Las clases se crean utilizando la palabra clave class y un bloque sangrado,\n",
    "# que contiene métodos de clase (que son funciones).\n",
    "\n",
    "# A continuación se muestra un ejemplo de una clase simple y sus objetos.\n",
    "\n",
    "class Cat:\n",
    "  def __init__(self, color, legs):\n",
    "    self.color = color\n",
    "    self.legs = legs\n",
    "\n",
    "felix = Cat(\"ginger\", 4)\n",
    "rover = Cat(\"dog-colored\", 4)\n",
    "stumpy = Cat(\"brown\", 3)\n",
    "\n",
    "print(\"Felix\")\n",
    "print(felix.color)\n",
    "print(felix.legs)\n",
    "print(\"Rover\")\n",
    "print(rover.color)\n",
    "print(rover.legs)\n",
    "print(\"Stumpy\")\n",
    "print(stumpy.color)\n",
    "print(stumpy.legs)\n",
    "\n",
    "# Este código define una clase llamada Cat, que tiene dos atributos: color y patas.\n",
    "\n",
    "# Luego, la clase se usa para crear 3 objetos separados de esa clase.\n",
    "\n",
    "# ¡Toca Continuar para obtener más información!"
   ]
  },
  {
   "cell_type": "code",
   "execution_count": 2,
   "metadata": {},
   "outputs": [
    {
     "name": "stdout",
     "output_type": "stream",
     "text": [
      "ginger\n",
      "4\n"
     ]
    }
   ],
   "source": [
    "# __init__\n",
    "# El método __init__ es el método más importante de una clase.\n",
    "# Esto se llama cuando se crea una instancia (objeto) de la clase, \n",
    "# usando el nombre de la clase como una función.\n",
    "\n",
    "# Todos los métodos deben tener self como su primer parámetro, aunque \n",
    "# no se pasa explícitamente, Python agrega el argumento self a la lista \n",
    "# por usted; no necesita incluirlo cuando llame a los métodos. Dentro de\n",
    "# una definición de método, self se refiere a la instancia que llama al método.\n",
    "\n",
    "# Las instancias de una clase tienen atributos, que son piezas\n",
    "# de datos asociadas con ellas.\n",
    "\n",
    "# En este ejemplo, las instancias de Cat tienen atributos color y patas. Se\n",
    "# puede acceder a estos poniendo un punto y el nombre del atributo después\n",
    "# de una instancia.\n",
    "\n",
    "# Por lo tanto, en un método __init__, self.attribute se puede usar para\n",
    "# establecer el valor inicial de los atributos de una instancia.\n",
    "\n",
    "class Cat:\n",
    "    def __init__(self, color, legs):\n",
    "        self.color = color\n",
    "        self.legs = legs\n",
    "\n",
    "felix = Cat(\"ginger\", 4)\n",
    "print(felix.color)\n",
    "print(felix.legs)\n",
    "\n",
    "# En el ejemplo anterior, el método __init__ toma dos argumentos y los asigna\n",
    "# a los atributos del objeto. El método __init__ se llama constructor de clases."
   ]
  },
  {
   "cell_type": "code",
   "execution_count": 1,
   "metadata": {},
   "outputs": [
    {
     "name": "stdout",
     "output_type": "stream",
     "text": [
      "Fido\n",
      "brown\n",
      "Woof!\n",
      "\n",
      "Probando con otro ejercicio.\n",
      "Hi from Amy\n"
     ]
    }
   ],
   "source": [
    "# METHODS\n",
    "# Las clases pueden tener otros métodos definidos para agregarles funcionalidad.\n",
    "# Recuerde que todos los métodos deben tener self como su primer parámetro.\n",
    "# Se accede a estos métodos utilizando la misma sintaxis de puntos que los atributos.\n",
    "\n",
    "# Ejemplo:\n",
    "\n",
    "class Dog:\n",
    "    def __init__(self, name, color):\n",
    "        self.name = name\n",
    "        self.color = color\n",
    "\n",
    "    def bark(self):\n",
    "        print(\"Woof!\")\n",
    "\n",
    "fido = Dog(\"Fido\", \"brown\")\n",
    "print(fido.name)\n",
    "print(fido.color)\n",
    "fido.bark()\n",
    "\n",
    "# Los atributos de clase son compartidos por todas las instancias de la clase.\n",
    "# Otro ejemplo:\n",
    "\n",
    "print(\"\\nProbando con otro ejercicio.\")\n",
    "\n",
    "class Student:\n",
    "    def __init__(self, name):\n",
    "        self.name = name\n",
    "\n",
    "    def sayHi(self):\n",
    "        print(\"Hi from \" + self.name)\n",
    "\n",
    "s1 = Student(\"Amy\")\n",
    "\n",
    "s1.sayHi()"
   ]
  }
 ],
 "metadata": {
  "interpreter": {
   "hash": "247ab06e135bb35fa78c5eff31b2a9a0050dcb5fb773c2631d2a29ac689eeccb"
  },
  "kernelspec": {
   "display_name": "Python 3.9.5 64-bit",
   "language": "python",
   "name": "python3"
  },
  "language_info": {
   "codemirror_mode": {
    "name": "ipython",
    "version": 3
   },
   "file_extension": ".py",
   "mimetype": "text/x-python",
   "name": "python",
   "nbconvert_exporter": "python",
   "pygments_lexer": "ipython3",
   "version": "3.9.5"
  },
  "orig_nbformat": 4
 },
 "nbformat": 4,
 "nbformat_minor": 2
}
