{
 "cells": [
  {
   "cell_type": "code",
   "execution_count": null,
   "metadata": {},
   "outputs": [],
   "source": [
    "# CLASSES\n",
    "# El punto focal de la Programación Orientada a Objetos (POO) son \n",
    "# los objetos, que se crean usando clases.\n",
    "\n",
    "# La clase describe lo que será el objeto, pero está separada del \n",
    "# objeto en sí. En otras palabras, una clase se puede describir como \n",
    "# el modelo, la descripción o la definición de un objeto.\n",
    "\n",
    "# Puede usar la misma clase como modelo para crear varios objetos diferentes.\n",
    "\n",
    "# Las clases se crean utilizando la palabra clave class y un bloque sangrado,\n",
    "# que contiene métodos de clase (que son funciones).\n",
    "\n",
    "# A continuación se muestra un ejemplo de una clase simple y sus objetos.\n",
    "\n",
    "class Cat:\n",
    "  def __init__(self, color, legs):\n",
    "    self.color = color\n",
    "    self.legs = legs\n",
    "\n",
    "felix = Cat(\"ginger\", 4)\n",
    "rover = Cat(\"dog-colored\", 4)\n",
    "stumpy = Cat(\"brown\", 3)\n",
    "\n",
    "# Este código define una clase llamada Cat, que tiene dos atributos: color y patas.\n",
    "\n",
    "# Luego, la clase se usa para crear 3 objetos separados de esa clase.\n",
    "\n",
    "# ¡Toca Continuar para obtener más información!"
   ]
  }
 ],
 "metadata": {
  "language_info": {
   "name": "python"
  },
  "orig_nbformat": 4
 },
 "nbformat": 4,
 "nbformat_minor": 2
}
