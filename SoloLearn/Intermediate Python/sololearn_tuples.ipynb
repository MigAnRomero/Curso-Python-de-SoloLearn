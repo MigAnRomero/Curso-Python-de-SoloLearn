{
 "cells": [
  {
   "cell_type": "code",
   "execution_count": 1,
   "metadata": {},
   "outputs": [
    {
     "name": "stdout",
     "output_type": "stream",
     "text": [
      "spam\n",
      "sausages\n"
     ]
    }
   ],
   "source": [
    "# TUPLES\n",
    "# Las tuplas son muy similares a las listas, excepto que son inmutables \n",
    "# (no se pueden cambiar).\n",
    "# Además, se crean usando paréntesis, en lugar de corchetes. \n",
    "# Ejemplo:\n",
    "\n",
    "words = (\"spam\", \"eggs\", \"sausages\")\n",
    "\n",
    "# Puede acceder a los valores en la tupla con su índice, tal como lo hizo con las listas:\n",
    "\n",
    "print(words[0])\n",
    "print(words[2])\n",
    "\n",
    "# Intentar reasignar un valor en una tupla provoca un error.\n",
    "# Porque son inmutables.\n",
    "# Ejemplo:\n",
    "# words[1] = \"cheese\"\n",
    "\n",
    "# Al igual que las listas y los diccionarios, las tuplas se pueden anidar unas dentro de otras."
   ]
  },
  {
   "cell_type": "code",
   "execution_count": 3,
   "metadata": {},
   "outputs": [
    {
     "name": "stdout",
     "output_type": "stream",
     "text": [
      "one\n",
      "two\n",
      "three\n",
      "('one', 'two', 'three')\n"
     ]
    }
   ],
   "source": [
    "# Las tuplas se pueden crear sin los paréntesis simplemente separando los valores con comas. \n",
    "# Ejemplo:\n",
    "\n",
    "my_tuple = \"one\", \"two\", \"three\"\n",
    "print(my_tuple[0])\n",
    "print(my_tuple[1])\n",
    "print(my_tuple[2])\n",
    "print(my_tuple)\n",
    "\n",
    "# Las tuplas son más rápidas que las listas, pero no se pueden cambiar."
   ]
  },
  {
   "cell_type": "code",
   "execution_count": 4,
   "metadata": {},
   "outputs": [
    {
     "name": "stdout",
     "output_type": "stream",
     "text": [
      "(1, 2, 3)\n"
     ]
    }
   ],
   "source": [
    "my_tuple_dos = (1, (1, 2, 3))\n",
    "print(my_tuple_dos[1])"
   ]
  },
  {
   "cell_type": "code",
   "execution_count": 5,
   "metadata": {},
   "outputs": [
    {
     "name": "stdout",
     "output_type": "stream",
     "text": [
      "1\n",
      "2\n",
      "3\n"
     ]
    }
   ],
   "source": [
    "# TUPLE UNPACKING\n",
    "# El desempaquetado de tuplas le permite asignar cada elemento \n",
    "# de una colección a una variable. \n",
    "# Ejemplo:\n",
    "\n",
    "numbers = (1, 2, 3)\n",
    "a, b, c = numbers\n",
    "print(a)\n",
    "print(b)\n",
    "print(c)\n",
    "\n",
    "# Esto también se puede usar para intercambiar variables haciendo a, b = b, a , \n",
    "# ya que b, a en el lado derecho forma la tupla (b, a) que luego se desempaqueta."
   ]
  },
  {
   "cell_type": "code",
   "execution_count": 10,
   "metadata": {},
   "outputs": [
    {
     "name": "stdout",
     "output_type": "stream",
     "text": [
      "1\n",
      "2\n",
      "2\n",
      "1\n"
     ]
    }
   ],
   "source": [
    "x, y = [1, 2]\n",
    "print(x)\n",
    "print(y)\n",
    "x, y = y, x\n",
    "print(x)\n",
    "print(y)"
   ]
  },
  {
   "cell_type": "code",
   "execution_count": 11,
   "metadata": {},
   "outputs": [
    {
     "name": "stdout",
     "output_type": "stream",
     "text": [
      "1\n",
      "2\n",
      "[3, 4, 5, 6, 7, 8]\n",
      "9\n"
     ]
    }
   ],
   "source": [
    "# Una variable que está precedida por un asterisco (*) toma todos \n",
    "# los valores de la colección que quedan de las otras variables. \n",
    "# Ejemplo:\n",
    "\n",
    "a, b, *c, d = [1, 2, 3, 4, 5, 6, 7, 8, 9]\n",
    "print(a)\n",
    "print(b)\n",
    "print(c)\n",
    "print(d)\n",
    "\n",
    "# A c se le asignarán los valores del 3 al 8."
   ]
  },
  {
   "cell_type": "code",
   "execution_count": 12,
   "metadata": {},
   "outputs": [
    {
     "name": "stdout",
     "output_type": "stream",
     "text": [
      "14\n"
     ]
    }
   ],
   "source": [
    "a, b, c, d, *e, f, g = range(20)\n",
    "print(len(e))"
   ]
  }
 ],
 "metadata": {
  "interpreter": {
   "hash": "247ab06e135bb35fa78c5eff31b2a9a0050dcb5fb773c2631d2a29ac689eeccb"
  },
  "kernelspec": {
   "display_name": "Python 3.9.5 64-bit",
   "language": "python",
   "name": "python3"
  },
  "language_info": {
   "codemirror_mode": {
    "name": "ipython",
    "version": 3
   },
   "file_extension": ".py",
   "mimetype": "text/x-python",
   "name": "python",
   "nbconvert_exporter": "python",
   "pygments_lexer": "ipython3",
   "version": "3.9.5"
  },
  "orig_nbformat": 4
 },
 "nbformat": 4,
 "nbformat_minor": 2
}
