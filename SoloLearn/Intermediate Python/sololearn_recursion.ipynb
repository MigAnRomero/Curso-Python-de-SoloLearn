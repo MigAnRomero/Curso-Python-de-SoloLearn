{
 "cells": [
  {
   "cell_type": "code",
   "execution_count": 3,
   "metadata": {},
   "outputs": [
    {
     "name": "stdout",
     "output_type": "stream",
     "text": [
      "120\n"
     ]
    }
   ],
   "source": [
    "# RECURSION\n",
    "# La recursividad es un concepto muy importante en la programación funcional.\n",
    "# La parte fundamental de la recursividad es la autorreferencia: funciones \n",
    "# que se llaman a sí mismas. Se utiliza para resolver problemas que se pueden \n",
    "# dividir en subproblemas más fáciles del mismo tipo.\n",
    "\n",
    "# Un ejemplo clásico de una función que se implementa recursivamente es la función \n",
    "# factorial, que encuentra el producto de todos los números enteros positivos por \n",
    "# debajo de un número específico.\n",
    "\n",
    "# Por ejemplo, 5! (5 factorial) es 5 * 4 * 3 * 2 * 1 (120). Para implementar esto \n",
    "# recursivamente, observe que 5! = 5 * 4!, 4! = 4 * 3!, 3! = 3 * 2!, y así sucesivamente. \n",
    "# Generalmente, n! = n * (n-1)!.\n",
    "\n",
    "# Además, 1! = 1. Esto se conoce como el caso base, ya que se puede calcular sin \n",
    "# realizar más factoriales.\n",
    "\n",
    "# A continuación se muestra una implementación recursiva de la función factorial.\n",
    "\n",
    "def factorial(x):\n",
    "    if x == 1:\n",
    "        return 1\n",
    "    else:\n",
    "        return x * factorial(x-1)\n",
    "\n",
    "print(factorial(5))\n",
    "\n",
    "# El caso base actúa como condición de salida de la recursividad.\n",
    "# No agregar un caso base da como resultado llamadas de función infinitas, lo que \n",
    "# bloquea el programa."
   ]
  },
  {
   "cell_type": "code",
   "execution_count": 7,
   "metadata": {},
   "outputs": [
    {
     "name": "stdout",
     "output_type": "stream",
     "text": [
      "True\n",
      "False\n",
      "True\n",
      "False\n",
      "True\n"
     ]
    }
   ],
   "source": [
    "# La recursividad también puede ser indirecta. Una función puede llamar a una segunda, \n",
    "# que llama a la primera, que llama a la segunda, y así sucesivamente. Esto puede \n",
    "# ocurrir con cualquier número de funciones.\n",
    "\n",
    "# Ejemplo:\n",
    "\n",
    "def is_even(x):\n",
    "    if x == 0:\n",
    "        return True\n",
    "    else:\n",
    "        return is_odd(x-1)\n",
    "\n",
    "def is_odd(x):\n",
    "    return not is_even(x)\n",
    "\n",
    "print(is_odd(17))\n",
    "print(is_even(23))\n",
    "print(is_even(0))\n",
    "print(is_even(1))\n",
    "print(is_even(2))"
   ]
  },
  {
   "cell_type": "code",
   "execution_count": 8,
   "metadata": {},
   "outputs": [
    {
     "name": "stdout",
     "output_type": "stream",
     "text": [
      "5\n"
     ]
    }
   ],
   "source": [
    "def fib(x):\n",
    "  if x == 0 or x == 1:\n",
    "    return 1\n",
    "  else: \n",
    "    return fib(x-1) + fib(x-2)\n",
    "print(fib(4))"
   ]
  }
 ],
 "metadata": {
  "interpreter": {
   "hash": "247ab06e135bb35fa78c5eff31b2a9a0050dcb5fb773c2631d2a29ac689eeccb"
  },
  "kernelspec": {
   "display_name": "Python 3.9.5 64-bit",
   "language": "python",
   "name": "python3"
  },
  "language_info": {
   "codemirror_mode": {
    "name": "ipython",
    "version": 3
   },
   "file_extension": ".py",
   "mimetype": "text/x-python",
   "name": "python",
   "nbconvert_exporter": "python",
   "pygments_lexer": "ipython3",
   "version": "3.9.5"
  },
  "orig_nbformat": 4
 },
 "nbformat": 4,
 "nbformat_minor": 2
}
