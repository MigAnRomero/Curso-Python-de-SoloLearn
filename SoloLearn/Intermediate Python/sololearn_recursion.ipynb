{
 "cells": [
  {
   "cell_type": "code",
   "execution_count": null,
   "metadata": {},
   "outputs": [
    {
     "ename": "",
     "evalue": "",
     "output_type": "error",
     "traceback": [
      "\u001b[1;31mFailed to start the Kernel. \n",
      "Canceled. \n",
      "View Jupyter <a href='command:jupyter.viewOutput'>log</a> for further details."
     ]
    }
   ],
   "source": [
    "# RECURSION\n",
    "# La recursividad es un concepto muy importante en la programación funcional.\n",
    "# La parte fundamental de la recursividad es la autorreferencia: funciones \n",
    "# que se llaman a sí mismas. Se utiliza para resolver problemas que se pueden \n",
    "# dividir en subproblemas más fáciles del mismo tipo.\n",
    "\n",
    "# Un ejemplo clásico de una función que se implementa recursivamente es la función \n",
    "# factorial, que encuentra el producto de todos los números enteros positivos por \n",
    "# debajo de un número específico.\n",
    "\n",
    "# Por ejemplo, 5! (5 factorial) es 5 * 4 * 3 * 2 * 1 (120). Para implementar esto \n",
    "# recursivamente, observe que 5! = 5 * 4!, 4! = 4 * 3!, 3! = 3 * 2!, y así sucesivamente. \n",
    "# Generalmente, n! = n * (n-1)!.\n",
    "\n",
    "# Además, 1! = 1. Esto se conoce como el caso base, ya que se puede calcular sin \n",
    "# realizar más factoriales.\n",
    "\n",
    "# A continuación se muestra una implementación recursiva de la función factorial.\n",
    "\n",
    "def factorial(x):\n",
    "    if x == 1:\n",
    "        return 1\n",
    "    else:\n",
    "        return x * factorial(x-1)\n",
    "\n",
    "print(factorial(1))\n",
    "\n",
    "# El caso base actúa como condición de salida de la recursividad.\n",
    "# No agregar un caso base da como resultado llamadas de función infinitas, lo que \n",
    "# bloquea el programa."
   ]
  },
  {
   "cell_type": "code",
   "execution_count": null,
   "metadata": {},
   "outputs": [
    {
     "ename": "",
     "evalue": "",
     "output_type": "error",
     "traceback": [
      "\u001b[1;31mFailed to start the Kernel. \n",
      "Unable to start Kernel 'Python 3.9.5 64-bit' due to connection timeout. \n",
      "View Jupyter <a href='command:jupyter.viewOutput'>log</a> for further details."
     ]
    }
   ],
   "source": [
    "print(\"Hola\")"
   ]
  }
 ],
 "metadata": {
  "interpreter": {
   "hash": "247ab06e135bb35fa78c5eff31b2a9a0050dcb5fb773c2631d2a29ac689eeccb"
  },
  "kernelspec": {
   "display_name": "Python 3.9.5 64-bit",
   "language": "python",
   "name": "python3"
  },
  "language_info": {
   "name": "python",
   "version": "3.9.5"
  },
  "orig_nbformat": 4
 },
 "nbformat": 4,
 "nbformat_minor": 2
}
