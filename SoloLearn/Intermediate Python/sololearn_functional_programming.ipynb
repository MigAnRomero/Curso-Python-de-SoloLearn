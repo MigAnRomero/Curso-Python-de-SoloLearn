{
 "cells": [
  {
   "cell_type": "code",
   "execution_count": 4,
   "metadata": {},
   "outputs": [
    {
     "name": "stdout",
     "output_type": "stream",
     "text": [
      "apply_twice(add_five, 10): 15\n",
      "add_five(5): 10\n"
     ]
    }
   ],
   "source": [
    "# FUNCTIONAL PROGRAMMING\n",
    "# La programación funcional es un estilo de programación que (como sugiere el nombre)\n",
    "# se basa en funciones.\n",
    "# Una parte clave de la programación funcional son las funciones de orden superior. \n",
    "# Las funciones de orden superior toman otras funciones como argumentos o las devuelven \n",
    "# como resultados. \n",
    "# Ejemplo:\n",
    "\n",
    "def apply_twice(func, arg):\n",
    "    return func(arg)\n",
    "\n",
    "def add_five(x):\n",
    "    return x + 5\n",
    "\n",
    "print(f\"apply_twice(add_five, 10): {apply_twice(add_five, 10)}\")\n",
    "print(f\"add_five(5): {add_five(5)}\")\n",
    "\n",
    "# La función apply_twice toma otra función como argumento y la llama dos veces dentro \n",
    "# de su cuerpo."
   ]
  },
  {
   "cell_type": "code",
   "execution_count": 7,
   "metadata": {},
   "outputs": [
    {
     "name": "stdout",
     "output_type": "stream",
     "text": [
      "mult(2): 4\n",
      "test(mult, 2): 16\n",
      "\n",
      "mult(3): 9\n",
      "test(mult, 3): 81\n"
     ]
    }
   ],
   "source": [
    "# la función test() toma otra función junto a un arg como argumentos y,\n",
    "# al final, retorna dicha función tomada ejecutada dos (2) veces.\n",
    "def test(func, arg):\n",
    "  return func(func(arg))\n",
    "\n",
    "def mult(x):\n",
    "  return x * x\n",
    "\n",
    "print(f\"mult(2): {mult(2)}\")\n",
    "print(f\"test(mult, 2): {test(mult, 2)}\")\n",
    "print(f\"\\nmult(3): {mult(3)}\")\n",
    "print(f\"test(mult, 3): {test(mult, 3)}\")"
   ]
  },
  {
   "cell_type": "code",
   "execution_count": 18,
   "metadata": {},
   "outputs": [
    {
     "name": "stdout",
     "output_type": "stream",
     "text": [
      "pure_function(4, 6): 1.1428571428571428\n",
      "pure_function(8, 6): 0.9090909090909091\n",
      "pure_function(20, 2): 0.5714285714285714\n",
      "pure_function(4, 24): 1.625\n",
      "\n",
      "some_list: []\n",
      "impure(wert)\n",
      "some_list: ['wert']\n",
      "impure(asdf)\n",
      "some_list: ['wert', 'asdf']\n"
     ]
    }
   ],
   "source": [
    "# PURE FUNCTIONS\n",
    "# La programación funcional busca utilizar funciones puras. Las funciones puras no \n",
    "# tienen efectos secundarios y devuelven un valor que depende solo de sus argumentos.\n",
    "# Así es como funcionan las funciones en matemáticas: por ejemplo, cos(x), para el \n",
    "# mismo valor de x, siempre devolverá el mismo resultado.\n",
    "# A continuación se muestran ejemplos de funciones puras e impuras. \n",
    "# Función pura:\n",
    "\n",
    "def pure_function(x, y):\n",
    "    temp = x + 2*y\n",
    "    return temp / (2*x + y)\n",
    "\n",
    "print(f\"pure_function(4, 6): {pure_function(4, 6)}\")\n",
    "print(f\"pure_function(8, 6): {pure_function(8, 6)}\")\n",
    "print(f\"pure_function(20, 2): {pure_function(20, 2)}\")\n",
    "print(f\"pure_function(4, 24): {pure_function(4, 24)}\")\n",
    "\n",
    "# Función impura:\n",
    "\n",
    "some_list = []\n",
    "\n",
    "def impure(arg):\n",
    "    some_list.append(arg)\n",
    "\n",
    "print(f\"\\nsome_list: {some_list}\")\n",
    "print(\"impure(wert)\")\n",
    "impure(\"wert\")\n",
    "print(f\"some_list: {some_list}\")\n",
    "print(\"impure(asdf)\")\n",
    "impure(\"asdf\")\n",
    "print(f\"some_list: {some_list}\")\n",
    "\n",
    "# La función anterior no es pura, porque cambió el estado de some_list."
   ]
  },
  {
   "cell_type": "code",
   "execution_count": 20,
   "metadata": {},
   "outputs": [
    {
     "name": "stdout",
     "output_type": "stream",
     "text": [
      "156\n"
     ]
    }
   ],
   "source": [
    "def func(x):\n",
    "  y = x**2\n",
    "  z = x + y\n",
    "  return z\n",
    "\n",
    "print(func(12))"
   ]
  },
  {
   "cell_type": "code",
   "execution_count": null,
   "metadata": {},
   "outputs": [],
   "source": [
    "# PURE FUNCTIONS\n",
    "# El uso de funciones puras tiene ventajas y desventajas.\n",
    "# Las funciones puras son:\n",
    "# - más fáciles de razonar y probar.\n",
    "# - más eficiente. Una vez que se ha evaluado la función para una entrada, \n",
    "# el resultado se puede almacenar y consultar la próxima vez que se necesite \n",
    "# la función de esa entrada, lo que reduce la cantidad de veces que se \n",
    "# llama a la función. Esto se llama memorización (memoization).\n",
    "# - más fácil de ejecutar en paralelo.\n",
    "# Las funciones puras son más difíciles de escribir en algunas situaciones."
   ]
  }
 ],
 "metadata": {
  "interpreter": {
   "hash": "247ab06e135bb35fa78c5eff31b2a9a0050dcb5fb773c2631d2a29ac689eeccb"
  },
  "kernelspec": {
   "display_name": "Python 3.9.5 64-bit",
   "language": "python",
   "name": "python3"
  },
  "language_info": {
   "codemirror_mode": {
    "name": "ipython",
    "version": 3
   },
   "file_extension": ".py",
   "mimetype": "text/x-python",
   "name": "python",
   "nbconvert_exporter": "python",
   "pygments_lexer": "ipython3",
   "version": "3.9.5"
  },
  "orig_nbformat": 4
 },
 "nbformat": 4,
 "nbformat_minor": 2
}
