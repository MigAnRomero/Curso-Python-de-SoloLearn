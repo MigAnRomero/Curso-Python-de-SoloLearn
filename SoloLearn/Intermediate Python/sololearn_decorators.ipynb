{
 "cells": [
  {
   "cell_type": "code",
   "execution_count": 2,
   "metadata": {},
   "outputs": [
    {
     "name": "stdout",
     "output_type": "stream",
     "text": [
      "============\n",
      "Hello world!\n",
      "============\n",
      "============\n",
      "Hello world!\n",
      "============\n"
     ]
    }
   ],
   "source": [
    "# DECORATORS\n",
    "# Los decoradores proporcionan una forma de modificar funciones usando otras funciones.\n",
    "# Esto es ideal cuando necesita ampliar la funcionalidad de las funciones que \n",
    "# no desea modificar.\n",
    "\n",
    "# Ejemplo:\n",
    "\n",
    "def decor(func):\n",
    "    def wrap():\n",
    "        print(\"============\")\n",
    "        func()\n",
    "        print(\"============\")\n",
    "    return wrap\n",
    "\n",
    "def print_text():\n",
    "    print(\"Hello world!\")\n",
    "\n",
    "decorated = decor(print_text)\n",
    "decorated()\n",
    "\n",
    "# Definimos una función llamada decor() que tiene un solo parámetro func. Dentro de decor(), \n",
    "# definimos una función anidada llamada wrap(). La función wrap() imprimirá una cadena, \n",
    "# luego llamará a func e imprimirá otra cadena. La función decor() devuelve la función wrap()\n",
    "# como su resultado.\n",
    "# Podríamos decir que la variable decorated es una versión decorada de print_text() \n",
    "# -- es print_text más algo.\n",
    "# De hecho, si escribimos un decorador útil, podríamos querer reemplazar print_text con la versión \n",
    "# decorada por completo, de modo que siempre obtuviéramos nuestra versión \"más algo\" de print_text.\n",
    "# Esto se hace reasignando la variable que contiene nuestra función:\n",
    "\n",
    "print_text = decor(print_text)\n",
    "print_text()\n",
    "\n",
    "# Ahora print_text corresponde a nuestra versión decorada."
   ]
  },
  {
   "cell_type": "code",
   "execution_count": 6,
   "metadata": {},
   "outputs": [],
   "source": [
    "# En nuestro ejemplo anterior, decoramos nuestra función reemplazando la variable \n",
    "# que contiene la función con una versión envuelta.\n",
    "\n",
    "# def print_text():\n",
    "#     print(\"Hello world!\")\n",
    "\n",
    "# print_text = decor(print_text)\n",
    "\n",
    "# Este patrón se puede utilizar en cualquier momento para envolver cualquier función.\n",
    "# Python proporciona soporte para envolver una función en un decorador anteponiendo la \n",
    "# definición de la función con un nombre de decorador y el símbolo @.\n",
    "# Si estamos definiendo una función, podemos \"decorarla\" con el símbolo @ como:\n",
    "\n",
    "@decor\n",
    "def print_text():\n",
    "    print(\"Hello world!\")\n",
    "\n",
    "# Esto tendrá el mismo resultado que el código anterior.\n",
    "# Una sola función puede tener múltiples decoradores."
   ]
  },
  {
   "cell_type": "code",
   "execution_count": 5,
   "metadata": {},
   "outputs": [
    {
     "name": "stdout",
     "output_type": "stream",
     "text": [
      "***\n",
      "INVOICE #128\n",
      "***\n",
      "END OF PAGE\n"
     ]
    }
   ],
   "source": [
    "# Ejercicio\n",
    "# You are working on an invoicing system.\n",
    "# The system has an already defined invoice() function, which takes the \n",
    "# invoice number as argument and outputs it.\n",
    "# You need to add a decorator for the invoice() function, that will print \n",
    "# the invoice in the following format:\n",
    "\n",
    "# Sample Input\n",
    "# 42\n",
    "\n",
    "# Sample Output\n",
    "# ***\n",
    "# INVOICE #42\n",
    "# ***\n",
    "# END OF PAGE\n",
    "# The given code takes the invoice number as input and passes it to the \n",
    "# invoice() function.\n",
    "\n",
    "#your code goes here\n",
    "def decor(func):\n",
    "    def wrap(num):\n",
    "        print(\"***\")\n",
    "        func(num)\n",
    "        print(\"***\")\n",
    "        print(\"END OF PAGE\")\n",
    "    return wrap\n",
    "\n",
    "@decor\n",
    "def invoice(num):\n",
    "    print(\"INVOICE #\" +num)\n",
    "\n",
    "invoice(input());"
   ]
  }
 ],
 "metadata": {
  "interpreter": {
   "hash": "62243b2d23a19038de026fb14eefb56f8ec38de40fb3214931092b4d6c714bae"
  },
  "kernelspec": {
   "display_name": "Python 3.8.5 ('base')",
   "language": "python",
   "name": "python3"
  },
  "language_info": {
   "codemirror_mode": {
    "name": "ipython",
    "version": 3
   },
   "file_extension": ".py",
   "mimetype": "text/x-python",
   "name": "python",
   "nbconvert_exporter": "python",
   "pygments_lexer": "ipython3",
   "version": "3.8.5"
  },
  "orig_nbformat": 4
 },
 "nbformat": 4,
 "nbformat_minor": 2
}
