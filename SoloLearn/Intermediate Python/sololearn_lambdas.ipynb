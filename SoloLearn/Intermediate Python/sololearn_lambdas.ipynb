{
 "cells": [
  {
   "cell_type": "code",
   "execution_count": 2,
   "metadata": {},
   "outputs": [
    {
     "name": "stdout",
     "output_type": "stream",
     "text": [
      "my_func(lambda x: 2*x*x, 5): 50\n",
      "my_func(lambda x: 2*x*x, 4): 32\n"
     ]
    }
   ],
   "source": [
    "# LAMBDAS\n",
    "# Crear una función normalmente (usando def) la asigna a una variable \n",
    "# con su nombre automáticamente.\n",
    "# Python nos permite crear funciones sobre la marcha, siempre que se \n",
    "# creen utilizando la sintaxis lambda. Este enfoque se usa más comúnmente \n",
    "# cuando se pasa una función simple como argumento a otra función. La sintaxis \n",
    "# se muestra en el siguiente ejemplo y consta de la palabra clave lambda seguida \n",
    "# de una lista de argumentos, dos puntos y la expresión para evaluar y devolver.\n",
    "\n",
    "def my_func(f, arg):\n",
    "    return f(arg)\n",
    "\n",
    "my_func(lambda x: 2*x*x, 5)\n",
    "print(f\"my_func(lambda x: 2*x*x, 5): {my_func(lambda x: 2*x*x, 5)}\")\n",
    "print(f\"my_func(lambda x: 2*x*x, 4): {my_func(lambda x: 2*x*x, 4)}\")\n",
    "\n",
    "# Las funciones creadas con la sintaxis lambda se conocen como anónimas ."
   ]
  },
  {
   "cell_type": "code",
   "execution_count": 3,
   "metadata": {},
   "outputs": [
    {
     "name": "stdout",
     "output_type": "stream",
     "text": [
      "0\n",
      "0\n"
     ]
    }
   ],
   "source": [
    "# Las funciones Lambda no son tan poderosas como las funciones con nombre.\n",
    "# Solo pueden hacer cosas que requieren una sola expresión -- generalmente \n",
    "# equivalente a una sola línea de código. \n",
    "# Ejemplo:\n",
    "\n",
    "# named function\n",
    "def polynomial(x):\n",
    "    return x**2 + 5*x + 4\n",
    "\n",
    "print()\n",
    "print(polynomial(-4))\n",
    "\n",
    "# lambda\n",
    "print((lambda x: x**2 + 5*x + 4) (-4))\n",
    "\n",
    "# En el código anterior, creamos una función anónima sobre la marcha y la \n",
    "# llamamos con un argumento."
   ]
  },
  {
   "cell_type": "code",
   "execution_count": 4,
   "metadata": {},
   "outputs": [
    {
     "name": "stdout",
     "output_type": "stream",
     "text": [
      "64\n"
     ]
    }
   ],
   "source": [
    "# Crear una función lambda que devuelva el cuadrado de su argumento \n",
    "# y llámela para el número 8.\n",
    "\n",
    "a = (lambda x: x*x)(8)\n",
    "print(a)"
   ]
  }
 ],
 "metadata": {
  "interpreter": {
   "hash": "247ab06e135bb35fa78c5eff31b2a9a0050dcb5fb773c2631d2a29ac689eeccb"
  },
  "kernelspec": {
   "display_name": "Python 3.9.5 64-bit",
   "language": "python",
   "name": "python3"
  },
  "language_info": {
   "codemirror_mode": {
    "name": "ipython",
    "version": 3
   },
   "file_extension": ".py",
   "mimetype": "text/x-python",
   "name": "python",
   "nbconvert_exporter": "python",
   "pygments_lexer": "ipython3",
   "version": "3.9.5"
  },
  "orig_nbformat": 4
 },
 "nbformat": 4,
 "nbformat_minor": 2
}
