{
 "cells": [
  {
   "cell_type": "code",
   "execution_count": 1,
   "metadata": {},
   "outputs": [
    {
     "name": "stdout",
     "output_type": "stream",
     "text": [
      "[0, 1, 8, 27, 64]\n"
     ]
    }
   ],
   "source": [
    "# LIST COMPREHENSIONS\n",
    "# Las listas por comprensión son una forma útil de crear \n",
    "# rápidamente listas cuyos contenidos obedecen a una regla.\n",
    "# Por ejemplo, podemos hacer lo siguiente:\n",
    "\n",
    "cubes = [i**3 for i in range(5)]\n",
    "\n",
    "print(cubes)\n",
    "\n",
    "# Las listas de comprensión están inspiradas en la notación matemática \n",
    "# de creación de conjuntos."
   ]
  },
  {
   "cell_type": "code",
   "execution_count": 3,
   "metadata": {},
   "outputs": [
    {
     "name": "stdout",
     "output_type": "stream",
     "text": [
      "[0, 2, 4, 6, 8, 10, 12, 14, 16, 18]\n",
      "---\n",
      "0\n",
      "2\n",
      "4\n",
      "6\n",
      "8\n",
      "10\n",
      "12\n",
      "14\n",
      "16\n",
      "18\n"
     ]
    }
   ],
   "source": [
    "# What does this list comprehension create?\n",
    "\n",
    "nums = [i*2 for i in range(10)]\n",
    "print(nums)\n",
    "\n",
    "# El código anterior es una simplificación de la siguiente lógica:\n",
    "print(\"---\")\n",
    "\n",
    "x = range(10)\n",
    "\n",
    "for i in x:\n",
    "  i *= 2\n",
    "  print(i)"
   ]
  },
  {
   "cell_type": "code",
   "execution_count": 4,
   "metadata": {},
   "outputs": [
    {
     "name": "stdout",
     "output_type": "stream",
     "text": [
      "[0, 4, 16, 36, 64]\n",
      "---\n",
      "0\n",
      "4\n",
      "16\n",
      "36\n",
      "64\n"
     ]
    }
   ],
   "source": [
    "# Una lista por comprensión también puede contener una instrucción if \n",
    "# para aplicar una condición a los valores de la lista. Ejemplo:\n",
    "\n",
    "evens = [i**2 for i in range(10) if i**2 % 2 == 0]\n",
    "print(evens)\n",
    "\n",
    "# El código anterior es una simplificación de la siguiente lógica:\n",
    "print(\"---\")\n",
    "\n",
    "nums_pares = range(10)\n",
    "\n",
    "for i in nums_pares:\n",
    "  i **= 2\n",
    "  if (i % 2 == 0):\n",
    "    print(i)\n",
    "  # print(i)"
   ]
  },
  {
   "cell_type": "code",
   "execution_count": 6,
   "metadata": {},
   "outputs": [
    {
     "name": "stdout",
     "output_type": "stream",
     "text": [
      "[0, 3, 6, 9, 12, 15, 18]\n"
     ]
    }
   ],
   "source": [
    "# Lista con multiplos de tres (3) desde 0 a 20\n",
    "tres = [i for i in range(20) if i % 3 == 0]\n",
    "print(tres)"
   ]
  },
  {
   "cell_type": "code",
   "execution_count": null,
   "metadata": {},
   "outputs": [],
   "source": [
    "# Data Structures\n",
    "\n",
    "# As we have seen in the previous lessons, Python supports the following collection types: \n",
    "# Lists, Dictionaries, Tuples, Sets.\n",
    "\n",
    "# When to use a dictionary:\n",
    "# - When you need a logical association between a key:value pair.\n",
    "# - When you need fast lookup for your data, based on a custom key.\n",
    "# - When your data is being constantly modified. Remember, dictionaries are mutable.\n",
    "\n",
    "# When to use the other types:\n",
    "# - Use lists if you have a collection of data that does not need random access. \n",
    "# Try to choose lists when you need a simple, iterable collection that is modified frequently.\n",
    "# - Use a set if you need uniqueness for the elements.\n",
    "# - Use tuples when your data cannot/should not change.\n",
    "\n",
    "# Many times, a tuple is used in combination with a dictionary, for example, \n",
    "# a tuple might represent a key, because it's immutable."
   ]
  },
  {
   "cell_type": "code",
   "execution_count": 11,
   "metadata": {},
   "outputs": [
    {
     "name": "stdout",
     "output_type": "stream",
     "text": [
      "44\n",
      "42\n",
      "44\n"
     ]
    }
   ],
   "source": [
    "nums = (55, 44, 33, 22)\n",
    "print(min(nums[:2]))\n",
    "print(abs(-42))\n",
    "print(max(min(nums[:2]), abs(-42)))"
   ]
  },
  {
   "cell_type": "code",
   "execution_count": 13,
   "metadata": {},
   "outputs": [
    {
     "name": "stdout",
     "output_type": "stream",
     "text": [
      "{'r': 2, 'i': 1, 'n': 2, 'o': 2, 'c': 1, 'e': 2, 't': 1}\n"
     ]
    }
   ],
   "source": [
    "text = input()\n",
    "dict = {}\n",
    "#your code goes here\n",
    "for char in text:\n",
    "    if char in dict:\n",
    "        dict[char] += 1\n",
    "    else:\n",
    "        dict[char] = 1\n",
    "print(dict)"
   ]
  }
 ],
 "metadata": {
  "interpreter": {
   "hash": "247ab06e135bb35fa78c5eff31b2a9a0050dcb5fb773c2631d2a29ac689eeccb"
  },
  "kernelspec": {
   "display_name": "Python 3.9.5 64-bit",
   "language": "python",
   "name": "python3"
  },
  "language_info": {
   "codemirror_mode": {
    "name": "ipython",
    "version": 3
   },
   "file_extension": ".py",
   "mimetype": "text/x-python",
   "name": "python",
   "nbconvert_exporter": "python",
   "pygments_lexer": "ipython3",
   "version": "3.9.5"
  },
  "orig_nbformat": 4
 },
 "nbformat": 4,
 "nbformat_minor": 2
}
