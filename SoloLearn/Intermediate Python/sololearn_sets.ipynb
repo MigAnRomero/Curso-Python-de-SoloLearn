{
 "cells": [
  {
   "cell_type": "code",
   "execution_count": 1,
   "metadata": {},
   "outputs": [
    {
     "name": "stdout",
     "output_type": "stream",
     "text": [
      "True\n"
     ]
    }
   ],
   "source": [
    "# SETS\n",
    "# Los \"sets\" (conjuntos) son similares a las listas o los diccionarios.\n",
    "# Se crean con llaves y no están ordenados, lo que significa que \n",
    "# no se pueden indexar. Debido a la forma en que se almacenan, es más \n",
    "# rápido verificar si un elemento es parte de un conjunto usando el \n",
    "# operador in, en lugar de si es parte de una lista.\n",
    "\n",
    "num_set = {1, 2, 3, 4, 5}\n",
    "\n",
    "print(3 in num_set)\n",
    "\n",
    "# Los conjuntos no pueden contener elementos duplicados."
   ]
  },
  {
   "cell_type": "code",
   "execution_count": 2,
   "metadata": {},
   "outputs": [
    {
     "name": "stdout",
     "output_type": "stream",
     "text": [
      "1\n"
     ]
    }
   ],
   "source": [
    "letters = {\"a\", \"b\", \"c\", \"d\"}\n",
    "if \"e\" not in letters:\n",
    "  print(1)\n",
    "else: \n",
    "  print(2)"
   ]
  },
  {
   "cell_type": "code",
   "execution_count": 7,
   "metadata": {},
   "outputs": [
    {
     "name": "stdout",
     "output_type": "stream",
     "text": [
      "{1, 2, 3, 4, 5, 6}\n",
      "Se agrega \"-7\"\n",
      "{1, 2, 3, 4, 5, 6, -7}\n",
      "Se elimina \"3\"\n",
      "{1, 2, 4, 5, 6, -7}\n",
      "\n",
      "Usando la función len()\n",
      "6\n"
     ]
    }
   ],
   "source": [
    "# Puede usar la función add() para agregar nuevos elementos al conjunto \n",
    "# y remove() para eliminar un elemento específico:\n",
    "\n",
    "nums = {1, 2, 1, 3, 1, 4, 5, 6}\n",
    "print(nums)\n",
    "print(\"Se agrega \\\"-7\\\"\")\n",
    "nums.add(-7)\n",
    "print(nums)\n",
    "print(\"Se elimina \\\"3\\\"\")\n",
    "nums.remove(3)\n",
    "print(nums)\n",
    "\n",
    "# Los elementos duplicados se eliminarán automáticamente del conjunto.\n",
    "\n",
    "# La función len() se puede utilizar para devolver el número de elementos de un conjunto.\n",
    "\n",
    "print(\"\\nUsando la función len()\")\n",
    "print (len(nums))"
   ]
  },
  {
   "cell_type": "code",
   "execution_count": 8,
   "metadata": {},
   "outputs": [
    {
     "name": "stdout",
     "output_type": "stream",
     "text": [
      "Operador de unión \"|\": first | second\n",
      "{1, 2, 3, 4, 5, 6, 7, 8, 9}\n",
      "Operador de intersección \"&\": first & second\n",
      "{4, 5, 6}\n",
      "Operador de diferencia \"-\": first - second\n",
      "{1, 2, 3}\n",
      "Operador de diferencia \"-\": second - first\n",
      "{8, 9, 7}\n",
      "Operador de diferencia simétrica \"^\": first ^ second\n",
      "{1, 2, 3, 7, 8, 9}\n"
     ]
    }
   ],
   "source": [
    "# Los conjuntos se pueden combinar mediante operaciones matemáticas.\n",
    "# El operador de unión \"|\" combina dos conjuntos para formar uno nuevo que \n",
    "# contiene elementos en cualquiera. \n",
    "# El operador de intersección \"&\" obtiene elementos solo en ambos. \n",
    "# El operador de diferencia \"-\" obtiene elementos en el primer conjunto pero \n",
    "# no en el segundo. \n",
    "# El operador de diferencia simétrica \"^\" obtiene elementos en cualquier conjunto, \n",
    "# pero no en ambos.\n",
    "\n",
    "first = {1, 2, 3, 4, 5, 6}\n",
    "second = {4, 5, 6, 7, 8, 9}\n",
    "\n",
    "print(\"Operador de unión \\\"|\\\": first | second\")\n",
    "print(first | second)\n",
    "print(\"Operador de intersección \\\"&\\\": first & second\")\n",
    "print(first & second)\n",
    "print(\"Operador de diferencia \\\"-\\\": first - second\")\n",
    "print(first - second)\n",
    "print(\"Operador de diferencia \\\"-\\\": second - first\")\n",
    "print(second - first)\n",
    "print(\"Operador de diferencia simétrica \\\"^\\\": first ^ second\")\n",
    "print(first ^ second)"
   ]
  }
 ],
 "metadata": {
  "interpreter": {
   "hash": "247ab06e135bb35fa78c5eff31b2a9a0050dcb5fb773c2631d2a29ac689eeccb"
  },
  "kernelspec": {
   "display_name": "Python 3.9.5 64-bit",
   "language": "python",
   "name": "python3"
  },
  "language_info": {
   "codemirror_mode": {
    "name": "ipython",
    "version": 3
   },
   "file_extension": ".py",
   "mimetype": "text/x-python",
   "name": "python",
   "nbconvert_exporter": "python",
   "pygments_lexer": "ipython3",
   "version": "3.9.5"
  },
  "orig_nbformat": 4
 },
 "nbformat": 4,
 "nbformat_minor": 2
}
