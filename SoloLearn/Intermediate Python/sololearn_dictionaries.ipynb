{
 "cells": [
  {
   "cell_type": "code",
   "execution_count": 4,
   "metadata": {},
   "outputs": [
    {
     "name": "stdout",
     "output_type": "stream",
     "text": [
      "Elemento 3 / Indice 2: x[2] = welcome\n",
      "\n",
      "24\n",
      "42\n",
      "{'Dave': 24, 'Mary': 42, 'Jhon': 58}\n"
     ]
    }
   ],
   "source": [
    "# DICTIONARIES\n",
    "# Python proporciona una serie de tipos de colección incorporados para \n",
    "# almacenar múltiples valores. \n",
    "# Las listas son uno de estos tipos de colección y le permiten almacenar valores indexados:\n",
    "\n",
    "x = ['hi', 'hello', 'welcome']\n",
    "print(f\"Elemento 3 / Indice 2: x[2] = {x[2]}\\n\")\n",
    "\n",
    "# Cada elemento de una lista tiene un índice, que se establece automáticamente. \n",
    "# Los diccionarios son otro tipo de colección y le permiten asignar claves arbitrarias a valores. \n",
    "# Los diccionarios se pueden indexar de la misma manera que las listas, utilizando corchetes que \n",
    "# contienen claves. \n",
    "# Ejemplo:\n",
    "\n",
    "ages = {\n",
    "    \"Dave\":24,\n",
    "    \"Mary\": 42,\n",
    "    \"Jhon\": 58\n",
    "}\n",
    "\n",
    "print(ages[\"Dave\"])\n",
    "print(ages[\"Mary\"])\n",
    "print(ages)\n",
    "\n",
    "# Cada elemento de un diccionario está representado por un par key:value."
   ]
  },
  {
   "cell_type": "code",
   "execution_count": 1,
   "metadata": {},
   "outputs": [
    {
     "ename": "TypeError",
     "evalue": "unhashable type: 'list'",
     "output_type": "error",
     "traceback": [
      "\u001b[1;31m---------------------------------------------------------------------------\u001b[0m",
      "\u001b[1;31mTypeError\u001b[0m                                 Traceback (most recent call last)",
      "\u001b[1;32mc:\\Users\\user\\Documents\\Archivos de VSC\\PYTHON\\SoloLearn\\Intermediate Python\\SoloLearn_Dictionaries.ipynb Cell 2'\u001b[0m in \u001b[0;36m<cell line: 6>\u001b[1;34m()\u001b[0m\n\u001b[0;32m      <a href='vscode-notebook-cell:/c%3A/Users/user/Documents/Archivos%20de%20VSC/PYTHON/SoloLearn/Intermediate%20Python/SoloLearn_Dictionaries.ipynb#ch0000001?line=0'>1</a>\u001b[0m \u001b[39m# Solo los objetos inmutables se pueden usar como claves para los diccionarios. \u001b[39;00m\n\u001b[0;32m      <a href='vscode-notebook-cell:/c%3A/Users/user/Documents/Archivos%20de%20VSC/PYTHON/SoloLearn/Intermediate%20Python/SoloLearn_Dictionaries.ipynb#ch0000001?line=1'>2</a>\u001b[0m \u001b[39m# Los objetos inmutables son aquellos que no se pueden cambiar.\u001b[39;00m\n\u001b[0;32m      <a href='vscode-notebook-cell:/c%3A/Users/user/Documents/Archivos%20de%20VSC/PYTHON/SoloLearn/Intermediate%20Python/SoloLearn_Dictionaries.ipynb#ch0000001?line=2'>3</a>\u001b[0m \u001b[39m# Hasta ahora, los únicos objetos mutables con los que te has encontrado son listas y diccionarios.\u001b[39;00m\n\u001b[1;32m----> <a href='vscode-notebook-cell:/c%3A/Users/user/Documents/Archivos%20de%20VSC/PYTHON/SoloLearn/Intermediate%20Python/SoloLearn_Dictionaries.ipynb#ch0000001?line=4'>5</a>\u001b[0m bad_dict \u001b[39m=\u001b[39m {\n\u001b[0;32m      <a href='vscode-notebook-cell:/c%3A/Users/user/Documents/Archivos%20de%20VSC/PYTHON/SoloLearn/Intermediate%20Python/SoloLearn_Dictionaries.ipynb#ch0000001?line=5'>6</a>\u001b[0m     [\u001b[39m1\u001b[39m, \u001b[39m2\u001b[39m, \u001b[39m3\u001b[39m]: \u001b[39m\"\u001b[39m\u001b[39mone two three\u001b[39m\u001b[39m\"\u001b[39m\n\u001b[0;32m      <a href='vscode-notebook-cell:/c%3A/Users/user/Documents/Archivos%20de%20VSC/PYTHON/SoloLearn/Intermediate%20Python/SoloLearn_Dictionaries.ipynb#ch0000001?line=6'>7</a>\u001b[0m }\n",
      "\u001b[1;31mTypeError\u001b[0m: unhashable type: 'list'"
     ]
    }
   ],
   "source": [
    "# Solo los objetos inmutables se pueden usar como claves para los diccionarios. \n",
    "# Los objetos inmutables son aquellos que no se pueden cambiar.\n",
    "# Hasta ahora, los únicos objetos mutables con los que te has encontrado son listas y diccionarios.\n",
    "\n",
    "bad_dict = {\n",
    "    [1, 2, 3]: \"one two three\"\n",
    "}\n",
    "\n",
    "# Dado que las listas son mutables, el código anterior arroja un error.\n",
    "# Esto significa que puede usar cadenas, enteros, booleanos y\n",
    "# cualquier otro tipo inmutable como claves de diccionario."
   ]
  },
  {
   "cell_type": "code",
   "execution_count": 4,
   "metadata": {},
   "outputs": [
    {
     "name": "stdout",
     "output_type": "stream",
     "text": [
      "BMW\n"
     ]
    }
   ],
   "source": [
    "# EJERCICIO\n",
    "# Está trabajando en un concesionario de automóviles y almacena \n",
    "# los datos del automóvil en un diccionario:\n",
    "\n",
    "car = {\n",
    "    'brand':'BMW',\n",
    "    'year': 2018,\n",
    "    'color': 'red',\n",
    "    'mileage': 15000\n",
    "}\n",
    "\n",
    "# Su programa necesita tomar la clave como entrada y generar el valor correspondiente. \n",
    "# Ejemplo entrada: year \n",
    "# Muestra salida: 2018\n",
    "# Nota: Los datos ya están definidos en el código.\n",
    "\n",
    "key = input()\n",
    "print(car[key])"
   ]
  },
  {
   "cell_type": "code",
   "execution_count": 10,
   "metadata": {},
   "outputs": [
    {
     "name": "stdout",
     "output_type": "stream",
     "text": [
      "True\n",
      "False\n",
      "False\n",
      "True\n",
      "False\n",
      "False\n",
      "True\n"
     ]
    }
   ],
   "source": [
    "# Para determinar si una clave está en un diccionario, puede usar \"in\" y \"not in\", \n",
    "# al igual que para una lista. \n",
    "# Ejemplo:\n",
    "\n",
    "nums = {\n",
    "    1: \"one\",\n",
    "    2: \"two\",\n",
    "    3: \"three\"\n",
    "}\n",
    "\n",
    "print(1 in nums)\n",
    "print(\"two\" in nums) # No es una clave, por eso genera False.\n",
    "print(\"three\" in nums)\n",
    "print(2 in nums)\n",
    "print(\"one\" in nums)\n",
    "print(4 in nums)\n",
    "print(4 not in nums)"
   ]
  },
  {
   "cell_type": "code",
   "execution_count": 12,
   "metadata": {},
   "outputs": [
    {
     "name": "stdout",
     "output_type": "stream",
     "text": [
      "{1: False, 'orange': [2, 3, 4], 12: 'True'}\n",
      "[2, 3, 4]\n",
      "42\n",
      "not found\n",
      "||---Función len()---||\n",
      "3\n"
     ]
    }
   ],
   "source": [
    "# Una función de diccionario útil es get(). \n",
    "# Hace lo mismo que la indexación, pero si la clave no se encuentra en el diccionario, \n",
    "# devuelve otro valor especificado. \n",
    "# Ejemplo:\n",
    "\n",
    "pairs = {\n",
    "    1: \"apple\",\n",
    "    \"orange\": [2, 3, 4],\n",
    "    True: False,\n",
    "    12: \"True\"\n",
    "}\n",
    "\n",
    "print(pairs)\n",
    "print(pairs.get(\"orange\"))\n",
    "print(pairs.get(7, 42))\n",
    "print(pairs.get(12345, \"not found\"))\n",
    "\n",
    "# Para determinar cuántos elementos tiene un diccionario, use la función len().\n",
    "print(\"||---Función len()---||\")\n",
    "print(len(pairs))"
   ]
  },
  {
   "cell_type": "code",
   "execution_count": 14,
   "metadata": {},
   "outputs": [
    {
     "name": "stdout",
     "output_type": "stream",
     "text": [
      "3\n",
      "5\n",
      "8\n"
     ]
    }
   ],
   "source": [
    "fib = {1: 1, 2: 1, 3: 2, 4: 3}\n",
    "print(fib.get(4, 0))\n",
    "print(fib.get(7, 5))\n",
    "print(fib.get(4, 0) + fib.get(7, 5))\n"
   ]
  }
 ],
 "metadata": {
  "kernelspec": {
   "display_name": "Python 3.10.4 64-bit",
   "language": "python",
   "name": "python3"
  },
  "language_info": {
   "codemirror_mode": {
    "name": "ipython",
    "version": 3
   },
   "file_extension": ".py",
   "mimetype": "text/x-python",
   "name": "python",
   "nbconvert_exporter": "python",
   "pygments_lexer": "ipython3",
   "version": "3.10.4"
  },
  "orig_nbformat": 4,
  "vscode": {
   "interpreter": {
    "hash": "fb4569285eef3a3450cb62085a5b1e0da4bce0af555edc33dcf29baf3acc1368"
   }
  }
 },
 "nbformat": 4,
 "nbformat_minor": 2
}
